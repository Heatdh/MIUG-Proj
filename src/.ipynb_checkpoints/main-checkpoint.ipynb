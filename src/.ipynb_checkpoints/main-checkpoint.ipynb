{
 "cells": [
  {
   "cell_type": "markdown",
   "id": "dc6cd7fa",
   "metadata": {},
   "source": [
    "\n",
    "    # Checking your venv for having necesarry packages and importing basic libs as trial"
   ]
  },
  {
   "cell_type": "code",
   "execution_count": 1,
   "id": "35f4c7b6",
   "metadata": {},
   "outputs": [],
   "source": [
    "import matplotlib.pyplot as plt\n",
    "import numpy as np\n",
    "import pandas as pd\n",
    "from pathlib import Path\n",
    "#import tensorflow as tf\n",
    "#import tensorflow_datasets as tfds\n",
    "from sklearn.svm import  SVC\n",
    "from sklearn.model_selection import GridSearchCV\n",
    "from sklearn.svm import LinearSVC"
   ]
  },
  {
   "cell_type": "code",
   "execution_count": 2,
   "id": "8f22f5dc",
   "metadata": {},
   "outputs": [],
   "source": [
    "df = pd.read_csv(\"../dataset/NC_policing.csv\")\n"
   ]
  },
  {
   "cell_type": "code",
   "execution_count": 3,
   "id": "b3f7d23f",
   "metadata": {},
   "outputs": [
    {
     "name": "stdout",
     "output_type": "stream",
     "text": [
      "  state   stop_date driver_gender  driver_age driver_race_raw driver_race  \\\n",
      "0    NC  2000-07-31             M        23.0             W N       White   \n",
      "1    NC  2000-07-31             F        29.0             W N       White   \n",
      "2    NC  2000-07-31             F        49.0             B N       Black   \n",
      "3    NC  2000-07-31             M        29.0             B N       Black   \n",
      "4    NC  2000-07-31             M        24.0             U H    Hispanic   \n",
      "\n",
      "  violation          search_type  contraband_found stop_outcome  \\\n",
      "0  Speeding  No Search Conducted             False       Arrest   \n",
      "1  Speeding  No Search Conducted             False       Arrest   \n",
      "2  Speeding  No Search Conducted             False       Arrest   \n",
      "3  Speeding  No Search Conducted             False       Arrest   \n",
      "4  Speeding  No Search Conducted             False       Arrest   \n",
      "\n",
      "          search_basis  officer_id drugs_related_stop district  \n",
      "0  No Search Conducted       10606                NaN       E3  \n",
      "1  No Search Conducted       10606                NaN       E3  \n",
      "2  No Search Conducted       10606                NaN       E3  \n",
      "3  No Search Conducted       10606                NaN       E3  \n",
      "4  No Search Conducted       10606                NaN       E3  \n",
      "state                  object\n",
      "stop_date              object\n",
      "driver_gender          object\n",
      "driver_age            float64\n",
      "driver_race_raw        object\n",
      "driver_race            object\n",
      "violation              object\n",
      "search_type            object\n",
      "contraband_found         bool\n",
      "stop_outcome           object\n",
      "search_basis           object\n",
      "officer_id              int64\n",
      "drugs_related_stop     object\n",
      "district               object\n",
      "dtype: object\n"
     ]
    }
   ],
   "source": [
    "print (df.head())\n",
    "print (df.dtypes)"
   ]
  },
  {
   "cell_type": "code",
   "execution_count": 4,
   "id": "3fb130d9",
   "metadata": {},
   "outputs": [],
   "source": [
    "y= df['stop_outcome']\n",
    "X= df.drop(columns=['state','driver_race_raw','stop_date'])"
   ]
  },
  {
   "cell_type": "code",
   "execution_count": 5,
   "id": "2f4ea1f7",
   "metadata": {},
   "outputs": [
    {
     "data": {
      "text/plain": [
       "state                      0\n",
       "stop_date                  0\n",
       "driver_gender              0\n",
       "driver_age                91\n",
       "driver_race_raw            0\n",
       "driver_race                0\n",
       "violation                  0\n",
       "search_type                0\n",
       "contraband_found           0\n",
       "stop_outcome               0\n",
       "search_basis               0\n",
       "officer_id                 0\n",
       "drugs_related_stop    397708\n",
       "district                  38\n",
       "dtype: int64"
      ]
     },
     "execution_count": 5,
     "metadata": {},
     "output_type": "execute_result"
    }
   ],
   "source": [
    "df.isna().sum()\n",
    "# should we drop drugs related stops ?? \n"
   ]
  },
  {
   "cell_type": "code",
   "execution_count": 6,
   "id": "27ca2b32",
   "metadata": {},
   "outputs": [],
   "source": [
    "df[\"driver_age\"].fillna(df[\"driver_age\"].mean(), inplace = True) "
   ]
  },
  {
   "cell_type": "code",
   "execution_count": 7,
   "id": "fcb3a3ab",
   "metadata": {},
   "outputs": [
    {
     "data": {
      "text/html": [
       "<div>\n",
       "<style scoped>\n",
       "    .dataframe tbody tr th:only-of-type {\n",
       "        vertical-align: middle;\n",
       "    }\n",
       "\n",
       "    .dataframe tbody tr th {\n",
       "        vertical-align: top;\n",
       "    }\n",
       "\n",
       "    .dataframe thead th {\n",
       "        text-align: right;\n",
       "    }\n",
       "</style>\n",
       "<table border=\"1\" class=\"dataframe\">\n",
       "  <thead>\n",
       "    <tr style=\"text-align: right;\">\n",
       "      <th></th>\n",
       "      <th>state</th>\n",
       "      <th>stop_date</th>\n",
       "      <th>driver_gender</th>\n",
       "      <th>driver_age</th>\n",
       "      <th>driver_race_raw</th>\n",
       "      <th>driver_race</th>\n",
       "      <th>violation</th>\n",
       "      <th>search_type</th>\n",
       "      <th>contraband_found</th>\n",
       "      <th>stop_outcome</th>\n",
       "      <th>search_basis</th>\n",
       "      <th>officer_id</th>\n",
       "      <th>drugs_related_stop</th>\n",
       "      <th>district</th>\n",
       "    </tr>\n",
       "  </thead>\n",
       "  <tbody>\n",
       "    <tr>\n",
       "      <th>0</th>\n",
       "      <td>NC</td>\n",
       "      <td>2000-07-31</td>\n",
       "      <td>1</td>\n",
       "      <td>23.0</td>\n",
       "      <td>9</td>\n",
       "      <td>4</td>\n",
       "      <td>6</td>\n",
       "      <td>2</td>\n",
       "      <td>0</td>\n",
       "      <td>0</td>\n",
       "      <td>18</td>\n",
       "      <td>722</td>\n",
       "      <td>1</td>\n",
       "      <td>34</td>\n",
       "    </tr>\n",
       "    <tr>\n",
       "      <th>1</th>\n",
       "      <td>NC</td>\n",
       "      <td>2000-07-31</td>\n",
       "      <td>0</td>\n",
       "      <td>29.0</td>\n",
       "      <td>9</td>\n",
       "      <td>4</td>\n",
       "      <td>6</td>\n",
       "      <td>2</td>\n",
       "      <td>0</td>\n",
       "      <td>0</td>\n",
       "      <td>18</td>\n",
       "      <td>722</td>\n",
       "      <td>1</td>\n",
       "      <td>34</td>\n",
       "    </tr>\n",
       "    <tr>\n",
       "      <th>2</th>\n",
       "      <td>NC</td>\n",
       "      <td>2000-07-31</td>\n",
       "      <td>0</td>\n",
       "      <td>49.0</td>\n",
       "      <td>3</td>\n",
       "      <td>1</td>\n",
       "      <td>6</td>\n",
       "      <td>2</td>\n",
       "      <td>0</td>\n",
       "      <td>0</td>\n",
       "      <td>18</td>\n",
       "      <td>722</td>\n",
       "      <td>1</td>\n",
       "      <td>34</td>\n",
       "    </tr>\n",
       "    <tr>\n",
       "      <th>3</th>\n",
       "      <td>NC</td>\n",
       "      <td>2000-07-31</td>\n",
       "      <td>1</td>\n",
       "      <td>29.0</td>\n",
       "      <td>3</td>\n",
       "      <td>1</td>\n",
       "      <td>6</td>\n",
       "      <td>2</td>\n",
       "      <td>0</td>\n",
       "      <td>0</td>\n",
       "      <td>18</td>\n",
       "      <td>722</td>\n",
       "      <td>1</td>\n",
       "      <td>34</td>\n",
       "    </tr>\n",
       "    <tr>\n",
       "      <th>4</th>\n",
       "      <td>NC</td>\n",
       "      <td>2000-07-31</td>\n",
       "      <td>1</td>\n",
       "      <td>24.0</td>\n",
       "      <td>6</td>\n",
       "      <td>2</td>\n",
       "      <td>6</td>\n",
       "      <td>2</td>\n",
       "      <td>0</td>\n",
       "      <td>0</td>\n",
       "      <td>18</td>\n",
       "      <td>722</td>\n",
       "      <td>1</td>\n",
       "      <td>34</td>\n",
       "    </tr>\n",
       "  </tbody>\n",
       "</table>\n",
       "</div>"
      ],
      "text/plain": [
       "  state   stop_date  driver_gender  driver_age  driver_race_raw  driver_race  \\\n",
       "0    NC  2000-07-31              1        23.0                9            4   \n",
       "1    NC  2000-07-31              0        29.0                9            4   \n",
       "2    NC  2000-07-31              0        49.0                3            1   \n",
       "3    NC  2000-07-31              1        29.0                3            1   \n",
       "4    NC  2000-07-31              1        24.0                6            2   \n",
       "\n",
       "   violation  search_type  contraband_found  stop_outcome  search_basis  \\\n",
       "0          6            2                 0             0            18   \n",
       "1          6            2                 0             0            18   \n",
       "2          6            2                 0             0            18   \n",
       "3          6            2                 0             0            18   \n",
       "4          6            2                 0             0            18   \n",
       "\n",
       "   officer_id  drugs_related_stop  district  \n",
       "0         722                   1        34  \n",
       "1         722                   1        34  \n",
       "2         722                   1        34  \n",
       "3         722                   1        34  \n",
       "4         722                   1        34  "
      ]
     },
     "execution_count": 7,
     "metadata": {},
     "output_type": "execute_result"
    }
   ],
   "source": [
    "from sklearn.preprocessing import LabelEncoder\n",
    "le = LabelEncoder()\n",
    "col= [\"driver_gender\",\"driver_race_raw\",\"driver_race\",\"violation\",\"search_type\",\"contraband_found\",\n",
    "      \"stop_outcome\",\"search_basis\",\"officer_id\",\"district\",\"drugs_related_stop\"\n",
    "]\n",
    "df_encoded = df\n",
    "df_encoded[col]=df_encoded[col].apply(lambda col: le.fit_transform(col))\n",
    "df_encoded.head()"
   ]
  },
  {
   "cell_type": "code",
   "execution_count": 8,
   "id": "c84d53eb",
   "metadata": {},
   "outputs": [],
   "source": [
    "y= df_encoded['stop_outcome']\n",
    "X= df_encoded.drop(columns=['state','driver_race_raw','stop_date'])"
   ]
  },
  {
   "cell_type": "code",
   "execution_count": 9,
   "id": "ad9cc0fa",
   "metadata": {},
   "outputs": [
    {
     "data": {
      "text/html": [
       "<div>\n",
       "<style scoped>\n",
       "    .dataframe tbody tr th:only-of-type {\n",
       "        vertical-align: middle;\n",
       "    }\n",
       "\n",
       "    .dataframe tbody tr th {\n",
       "        vertical-align: top;\n",
       "    }\n",
       "\n",
       "    .dataframe thead th {\n",
       "        text-align: right;\n",
       "    }\n",
       "</style>\n",
       "<table border=\"1\" class=\"dataframe\">\n",
       "  <thead>\n",
       "    <tr style=\"text-align: right;\">\n",
       "      <th></th>\n",
       "      <th>driver_gender</th>\n",
       "      <th>driver_age</th>\n",
       "      <th>driver_race</th>\n",
       "      <th>violation</th>\n",
       "      <th>search_type</th>\n",
       "      <th>contraband_found</th>\n",
       "      <th>stop_outcome</th>\n",
       "      <th>search_basis</th>\n",
       "      <th>officer_id</th>\n",
       "      <th>drugs_related_stop</th>\n",
       "      <th>district</th>\n",
       "    </tr>\n",
       "  </thead>\n",
       "  <tbody>\n",
       "    <tr>\n",
       "      <th>0</th>\n",
       "      <td>1</td>\n",
       "      <td>23.0</td>\n",
       "      <td>4</td>\n",
       "      <td>6</td>\n",
       "      <td>2</td>\n",
       "      <td>0</td>\n",
       "      <td>0</td>\n",
       "      <td>18</td>\n",
       "      <td>722</td>\n",
       "      <td>1</td>\n",
       "      <td>34</td>\n",
       "    </tr>\n",
       "    <tr>\n",
       "      <th>1</th>\n",
       "      <td>0</td>\n",
       "      <td>29.0</td>\n",
       "      <td>4</td>\n",
       "      <td>6</td>\n",
       "      <td>2</td>\n",
       "      <td>0</td>\n",
       "      <td>0</td>\n",
       "      <td>18</td>\n",
       "      <td>722</td>\n",
       "      <td>1</td>\n",
       "      <td>34</td>\n",
       "    </tr>\n",
       "    <tr>\n",
       "      <th>2</th>\n",
       "      <td>0</td>\n",
       "      <td>49.0</td>\n",
       "      <td>1</td>\n",
       "      <td>6</td>\n",
       "      <td>2</td>\n",
       "      <td>0</td>\n",
       "      <td>0</td>\n",
       "      <td>18</td>\n",
       "      <td>722</td>\n",
       "      <td>1</td>\n",
       "      <td>34</td>\n",
       "    </tr>\n",
       "    <tr>\n",
       "      <th>3</th>\n",
       "      <td>1</td>\n",
       "      <td>29.0</td>\n",
       "      <td>1</td>\n",
       "      <td>6</td>\n",
       "      <td>2</td>\n",
       "      <td>0</td>\n",
       "      <td>0</td>\n",
       "      <td>18</td>\n",
       "      <td>722</td>\n",
       "      <td>1</td>\n",
       "      <td>34</td>\n",
       "    </tr>\n",
       "    <tr>\n",
       "      <th>4</th>\n",
       "      <td>1</td>\n",
       "      <td>24.0</td>\n",
       "      <td>2</td>\n",
       "      <td>6</td>\n",
       "      <td>2</td>\n",
       "      <td>0</td>\n",
       "      <td>0</td>\n",
       "      <td>18</td>\n",
       "      <td>722</td>\n",
       "      <td>1</td>\n",
       "      <td>34</td>\n",
       "    </tr>\n",
       "  </tbody>\n",
       "</table>\n",
       "</div>"
      ],
      "text/plain": [
       "   driver_gender  driver_age  driver_race  violation  search_type  \\\n",
       "0              1        23.0            4          6            2   \n",
       "1              0        29.0            4          6            2   \n",
       "2              0        49.0            1          6            2   \n",
       "3              1        29.0            1          6            2   \n",
       "4              1        24.0            2          6            2   \n",
       "\n",
       "   contraband_found  stop_outcome  search_basis  officer_id  \\\n",
       "0                 0             0            18         722   \n",
       "1                 0             0            18         722   \n",
       "2                 0             0            18         722   \n",
       "3                 0             0            18         722   \n",
       "4                 0             0            18         722   \n",
       "\n",
       "   drugs_related_stop  district  \n",
       "0                   1        34  \n",
       "1                   1        34  \n",
       "2                   1        34  \n",
       "3                   1        34  \n",
       "4                   1        34  "
      ]
     },
     "execution_count": 9,
     "metadata": {},
     "output_type": "execute_result"
    }
   ],
   "source": [
    "X.head()"
   ]
  },
  {
   "cell_type": "code",
   "execution_count": 10,
   "id": "d517a57c",
   "metadata": {},
   "outputs": [
    {
     "data": {
      "text/plain": [
       "state                 0\n",
       "stop_date             0\n",
       "driver_gender         0\n",
       "driver_age            0\n",
       "driver_race_raw       0\n",
       "driver_race           0\n",
       "violation             0\n",
       "search_type           0\n",
       "contraband_found      0\n",
       "stop_outcome          0\n",
       "search_basis          0\n",
       "officer_id            0\n",
       "drugs_related_stop    0\n",
       "district              0\n",
       "dtype: int64"
      ]
     },
     "execution_count": 10,
     "metadata": {},
     "output_type": "execute_result"
    }
   ],
   "source": [
    "df_encoded.isna().sum()"
   ]
  },
  {
   "cell_type": "markdown",
   "id": "f43cb568",
   "metadata": {},
   "source": [
    "Model"
   ]
  },
  {
   "cell_type": "code",
   "execution_count": 11,
   "id": "8e569a0d",
   "metadata": {},
   "outputs": [
    {
     "data": {
      "text/plain": [
       "driver_gender         int32\n",
       "driver_age            int32\n",
       "driver_race           int32\n",
       "violation             int32\n",
       "search_type           int32\n",
       "contraband_found      int32\n",
       "stop_outcome          int32\n",
       "search_basis          int32\n",
       "officer_id            int32\n",
       "drugs_related_stop    int32\n",
       "district              int32\n",
       "dtype: object"
      ]
     },
     "execution_count": 11,
     "metadata": {},
     "output_type": "execute_result"
    }
   ],
   "source": [
    "from sklearn.model_selection import train_test_split\n",
    "X= X.astype(int)\n",
    "X_train, X_test, y_train, y_test = train_test_split(X, y, test_size = 0.3,random_state=200) \n",
    "X.dtypes"
   ]
  },
  {
   "cell_type": "code",
   "execution_count": 12,
   "id": "2ec43509",
   "metadata": {},
   "outputs": [],
   "source": [
    "# testing with knn\n",
    "from sklearn.neighbors import KNeighborsClassifier\n",
    "\n",
    "knn = KNeighborsClassifier(n_neighbors=15)\n",
    "knn.fit(X, y)\n",
    "y_pred = knn.predict(X_test)\n"
   ]
  },
  {
   "cell_type": "code",
   "execution_count": 13,
   "id": "158ee920",
   "metadata": {},
   "outputs": [
    {
     "data": {
      "text/plain": [
       "<Figure size 432x288 with 0 Axes>"
      ]
     },
     "metadata": {},
     "output_type": "display_data"
    },
    {
     "data": {
      "image/png": "[encoded data removed]",
      "text/plain": [
       "<Figure size 432x288 with 2 Axes>"
      ]
     },
     "metadata": {
      "needs_background": "light"
     },
     "output_type": "display_data"
    }
   ],
   "source": [
    "from sklearn.metrics import plot_confusion_matrix\n",
    "# Plot the confusion matrix for the test set for the KNN classifier\n",
    "plt.figure()\n",
    "plot_confusion_matrix(knn, X_test, y_test)\n",
    "plt.title('confusion matrix of KNN for k=15')\n",
    "plt.show()\n"
   ]
  },
  {
   "cell_type": "code",
   "execution_count": 14,
   "id": "8473cf3d",
   "metadata": {},
   "outputs": [
    {
     "name": "stdout",
     "output_type": "stream",
     "text": [
      "Best parameter (CV RMSE=0.169):\n",
      "{'n_neighbors': 5}\n"
     ]
    }
   ],
   "source": [
    "#first classifier\n",
    "from sklearn.model_selection import GridSearchCV\n",
    "from sklearn.pipeline import Pipeline\n",
    "from sklearn.preprocessing import StandardScaler\n",
    "from sklearn.decomposition import PCA\n",
    "from sklearn.model_selection import KFold\n",
    "num_splits = 5\n",
    "#kfold = KFold(n_splits=num_splits, random_state=10, shuffle=True)\n",
    "\n",
    "max_comp = X.shape[1]\n",
    "param_grid = { 'n_neighbors':[5,10,15]}\n",
    "\n",
    "#pipeline = Pipeline(steps=[('scaler',StandardScaler()), ('estimator', KNeighborsClassifier())])\n",
    "search = GridSearchCV(KNeighborsClassifier(),param_grid, n_jobs=-1, cv=2, scoring='neg_mean_squared_error', return_train_score=True)\n",
    "search.fit(X,y)\n",
    "\n",
    "print(\"Best parameter (CV RMSE=%0.3f):\" % -search.best_score_)\n",
    "print(search.best_params_)\n",
    "\n",
    "\n"
   ]
  },
  {
   "cell_type": "code",
   "execution_count": 15,
   "id": "cf093281",
   "metadata": {},
   "outputs": [],
   "source": [
    "best_estimator = search.best_estimator_\n",
    "y_pred = best_estimator.predict(X_test)\n",
    "\n",
    "from sklearn.metrics import confusion_matrix\n",
    "cm = confusion_matrix(y_test, y_pred)\n",
    "tn, fp, fn, tp = cm.ravel()"
   ]
  },
  {
   "cell_type": "code",
   "execution_count": 31,
   "id": "04fa6dcc-5982-4c45-9af8-2409af381de6",
   "metadata": {},
   "outputs": [
    {
     "name": "stderr",
     "output_type": "stream",
     "text": [
      "<ipython-input-31-7178fedc202e>:7: UserWarning: color is redundantly defined by the 'color' keyword argument and the fmt string \"k--\" (-> color='k'). The keyword argument will take precedence.\n",
      "  ax.plot([0, 1], [0, 1], 'k--',color='blue')\n"
     ]
    },
    {
     "data": {
      "image/png": "[encoded data removed]",
      "text/plain": [
       "<Figure size 432x288 with 1 Axes>"
      ]
     },
     "metadata": {
      "needs_background": "light"
     },
     "output_type": "display_data"
    }
   ],
   "source": [
    "# Plot roc knn\n",
    "from sklearn.metrics import roc_curve\n",
    "y_pred_prob = search.best_estimator_.predict_proba(X_test)[:,1]\n",
    "fp, tp, thresholds = roc_curve(y_test, y_pred_prob)\n",
    "fig = plt.figure()\n",
    "ax = fig.add_subplot()\n",
    "ax.plot([0, 1], [0, 1], 'k--',color='blue')\n",
    "ax.plot(fp, tp,label='ROC curve',color='orange')\n",
    "ax.set_xlabel('False Positive Rate')\n",
    "ax.set_ylabel('True Positive Rate')\n",
    "plt.title('ROC Curve')\n",
    "plt.legend(loc=4)\n",
    "plt.show()"
   ]
  },
  {
   "cell_type": "markdown",
   "id": "e3fb0941",
   "metadata": {},
   "source": [
    "Metrics functions"
   ]
  },
  {
   "cell_type": "code",
   "execution_count": 16,
   "id": "f4f322cb",
   "metadata": {},
   "outputs": [],
   "source": [
    "\n",
    "def separation(tn, fp, fn, tp):\n",
    "   \n",
    "    Y_0 = tn / (tn + fn)\n",
    "    Y_1 = tp / (tp + fp)\n",
    "  \n",
    "    return Y_1, Y_0\n",
    "\n",
    "def sufficiency(tn, fp, fn, tp):\n",
    "    R_1 = tp / (tp + fn)\n",
    "    R_0 = fp / (fp + tn)\n",
    "    return R_1, R_0\n",
    "# switched tp and tn \n",
    "def independence (tp,tn,fn,fp ):\n",
    "    return (tp + fp) / (tn + fp + fn + tp)\n",
    "\n"
   ]
  },
  {
   "cell_type": "code",
   "execution_count": 17,
   "id": "e12b0965",
   "metadata": {},
   "outputs": [],
   "source": [
    "sep = separation(tn,fp,fn,tp)\n",
    "suf = sufficiency(tn, fp, fn, tp)\n",
    "ind = independence (tp,tn,fn,fp )"
   ]
  },
  {
   "cell_type": "code",
   "execution_count": 18,
   "id": "db60da8a",
   "metadata": {},
   "outputs": [
    {
     "name": "stdout",
     "output_type": "stream",
     "text": [
      "(0.9733807625277533, 0.9535180310965186)\n",
      "(0.9794251534405516, 0.05967353492105967)\n",
      "0.6944879670388885\n"
     ]
    }
   ],
   "source": [
    "print (sep)\n",
    "print(suf)\n",
    "print(ind)"
   ]
  },
  {
   "cell_type": "code",
   "execution_count": 19,
   "id": "b4ac97a5",
   "metadata": {},
   "outputs": [],
   "source": [
    "from sklearn.linear_model import LinearRegression"
   ]
  },
  {
   "cell_type": "code",
   "execution_count": 20,
   "id": "019a9b06-8011-4af0-b6db-51401c0754ef",
   "metadata": {},
   "outputs": [],
   "source": [
    "#pipeline = Pipeline(steps=[('scaler',StandardScaler()),('pca', PCA()), ('estimator', LinearRegression())])"
   ]
  },
  {
   "cell_type": "code",
   "execution_count": 21,
   "id": "7016efc1-4241-4d9b-aac4-2a8587f74e7f",
   "metadata": {},
   "outputs": [
    {
     "data": {
      "text/plain": [
       "GridSearchCV(cv=5,\n",
       "             estimator=Pipeline(steps=[('std_slc', StandardScaler()),\n",
       "                                       ('logistic_Reg', LogisticRegression())]),\n",
       "             param_grid={'logistic_Reg__C': array([1.e-04, 1.e+04])},\n",
       "             return_train_score=True, scoring='neg_root_mean_squared_error')"
      ]
     },
     "execution_count": 21,
     "metadata": {},
     "output_type": "execute_result"
    }
   ],
   "source": [
    "from sklearn.linear_model import LogisticRegression\n",
    "from sklearn import decomposition\n",
    "std_slc = StandardScaler()\n",
    "logistic_Reg = LogisticRegression()\n",
    "pca = decomposition.PCA()\n",
    "pipe = Pipeline(steps=[('std_slc', std_slc),\n",
    "                           ('logistic_Reg', logistic_Reg)])\n",
    "#n_components = list(range(1,X.shape[1]))\n",
    "C = np.logspace(-4, 4, 2)\n",
    "parameters = dict(#pca__n_components=n_components,\n",
    "                  logistic_Reg__C=C)\n",
    "search_lin = GridSearchCV(pipe,parameters, cv=5, scoring='neg_root_mean_squared_error', return_train_score=True)\n",
    "search_lin.fit(X,y)\n"
   ]
  },
  {
   "cell_type": "code",
   "execution_count": 22,
   "id": "e6faf153-e924-4f44-b1ba-7b2687ea6a47",
   "metadata": {},
   "outputs": [
    {
     "name": "stdout",
     "output_type": "stream",
     "text": [
      "{'logistic_Reg__C': 10000.0}\n",
      "-0.1689411051399185\n"
     ]
    }
   ],
   "source": [
    "print(search_lin.best_params_)\n",
    "print(search.best_score_)"
   ]
  },
  {
   "cell_type": "code",
   "execution_count": 23,
   "id": "2bd0ec60-db3e-491f-805c-0986edd1d313",
   "metadata": {},
   "outputs": [],
   "source": [
    "best_estimator = search.best_estimator_\n",
    "y_pred_lin = search_lin.best_estimator_.predict(X_test)"
   ]
  },
  {
   "cell_type": "code",
   "execution_count": 25,
   "id": "12a87f13-1566-4f3c-988f-347bc4af246b",
   "metadata": {},
   "outputs": [
    {
     "name": "stdout",
     "output_type": "stream",
     "text": [
      "[[37370     0]\n",
      " [    0 83257]]\n"
     ]
    },
    {
     "data": {
      "image/png": "[encoded data removed]",
      "text/plain": [
       "<Figure size 432x288 with 2 Axes>"
      ]
     },
     "metadata": {
      "needs_background": "light"
     },
     "output_type": "display_data"
    }
   ],
   "source": [
    "cm = confusion_matrix(y_test, y_pred_lin)\n",
    "tn, fp, fn, tp = cm.ravel()\n",
    "plot_confusion_matrix(search_lin, X_test, y_test)  \n",
    "print(cm)"
   ]
  },
  {
   "cell_type": "code",
   "execution_count": 30,
   "id": "4cdee71d-f887-4aa0-a688-4636a51f1651",
   "metadata": {},
   "outputs": [
    {
     "name": "stderr",
     "output_type": "stream",
     "text": [
      "<ipython-input-30-10a9d47d2815>:7: UserWarning: color is redundantly defined by the 'color' keyword argument and the fmt string \"k--\" (-> color='k'). The keyword argument will take precedence.\n",
      "  ax.plot([0, 1], [0, 1], 'k--',color='blue')\n"
     ]
    },
    {
     "data": {
      "image/png": "[encoded data removed]",
      "text/plain": [
       "<Figure size 432x288 with 1 Axes>"
      ]
     },
     "metadata": {
      "needs_background": "light"
     },
     "output_type": "display_data"
    }
   ],
   "source": [
    "# Plot\n",
    "from sklearn.metrics import roc_curve\n",
    "y_pred_prob = search_lin.best_estimator_.predict_proba(X_test)[:,1]\n",
    "fp, tp, thresholds = roc_curve(y_test, y_pred_prob)\n",
    "fig = plt.figure()\n",
    "ax = fig.add_subplot()\n",
    "ax.plot([0, 1], [0, 1], 'k--',color='blue')\n",
    "ax.plot(fp, tp,label='ROC curve',color='orange')\n",
    "ax.set_xlabel('False Positive Rate')\n",
    "ax.set_ylabel('True Positive Rate')\n",
    "plt.title('ROC Curve')\n",
    "plt.legend(loc=4)\n",
    "plt.show()"
   ]
  },
  {
   "cell_type": "code",
   "execution_count": null,
   "id": "c1411e73-5a87-45b4-996d-4759b05c4513",
   "metadata": {},
   "outputs": [],
   "source": []
  }
 ],
 "metadata": {
  "interpreter": {
   "hash": "183b68252ecf3199c4fda32ff0d233f3a576b0292d6144c07af0a6aeab49c2d5"
  },
  "kernelspec": {
   "display_name": "machine",
   "language": "python",
   "name": "machine"
  },
  "language_info": {
   "codemirror_mode": {
    "name": "ipython",
    "version": 3
   },
   "file_extension": ".py",
   "mimetype": "text/x-python",
   "name": "python",
   "nbconvert_exporter": "python",
   "pygments_lexer": "ipython3",
   "version": "3.8.5"
  }
 },
 "nbformat": 4,
 "nbformat_minor": 5
}
