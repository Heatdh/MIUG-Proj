{
 "cells": [
  {
   "cell_type": "markdown",
   "id": "dc6cd7fa",
   "metadata": {},
   "source": [
    "\n",
    "    # Checking your venv for having necesarry packages and importing basic libs as trial"
   ]
  },
  {
   "cell_type": "code",
   "execution_count": 2,
   "id": "35f4c7b6",
   "metadata": {},
   "outputs": [],
   "source": [
    "import matplotlib.pyplot as plt\n",
    "import numpy as np\n",
    "import pandas as pd\n",
    "from pathlib import Path\n",
    "#import tensorflow as tf\n",
    "#import tensorflow_datasets as tfds\n",
    "from sklearn.svm import  SVC\n",
    "from sklearn.model_selection import GridSearchCV\n",
    "from sklearn.svm import LinearSVC"
   ]
  },
  {
   "cell_type": "markdown",
   "id": "af622029",
   "metadata": {},
   "source": []
  },
  {
   "cell_type": "markdown",
   "id": "f3f38139",
   "metadata": {},
   "source": []
  },
  {
   "cell_type": "code",
   "execution_count": 3,
   "id": "8f22f5dc",
   "metadata": {},
   "outputs": [],
   "source": [
    "df = pd.read_csv(\"../dataset/NC_policing.csv\")"
   ]
  },
  {
   "cell_type": "code",
   "execution_count": 4,
   "id": "b3f7d23f",
   "metadata": {},
   "outputs": [
    {
     "name": "stdout",
     "output_type": "stream",
     "text": [
      "<bound method NDFrame.head of        state   stop_date driver_gender  driver_age driver_race_raw  \\\n",
      "0         NC  2000-07-31             M        23.0             W N   \n",
      "1         NC  2000-07-31             F        29.0             W N   \n",
      "2         NC  2000-07-31             F        49.0             B N   \n",
      "3         NC  2000-07-31             M        29.0             B N   \n",
      "4         NC  2000-07-31             M        24.0             U H   \n",
      "...      ...         ...           ...         ...             ...   \n",
      "402082    NC  2015-12-31             M        18.0             W N   \n",
      "402083    NC  2015-12-31             F        21.0             B N   \n",
      "402084    NC  2015-12-31             F        29.0             W N   \n",
      "402085    NC  2015-12-31             F        18.0             W N   \n",
      "402086    NC  2015-12-31             M        31.0             U H   \n",
      "\n",
      "       driver_race            violation          search_type  \\\n",
      "0            White             Speeding  No Search Conducted   \n",
      "1            White             Speeding  No Search Conducted   \n",
      "2            Black             Speeding  No Search Conducted   \n",
      "3            Black             Speeding  No Search Conducted   \n",
      "4         Hispanic             Speeding  No Search Conducted   \n",
      "...            ...                  ...                  ...   \n",
      "402082       White             Speeding       Probable Cause   \n",
      "402083       Black  Registration/plates   Incident to Arrest   \n",
      "402084       White             Speeding   Incident to Arrest   \n",
      "402085       White                Other       Probable Cause   \n",
      "402086    Hispanic                Other   Incident to Arrest   \n",
      "\n",
      "        contraband_found stop_outcome                      search_basis  \\\n",
      "0                  False       Arrest               No Search Conducted   \n",
      "1                  False       Arrest               No Search Conducted   \n",
      "2                  False       Arrest               No Search Conducted   \n",
      "3                  False       Arrest               No Search Conducted   \n",
      "4                  False       Arrest               No Search Conducted   \n",
      "...                  ...          ...                               ...   \n",
      "402082              True       Arrest  Observation Suspected Contraband   \n",
      "402083             False       Arrest               Other Official Info   \n",
      "402084             False       Arrest  Observation Suspected Contraband   \n",
      "402085              True       Arrest  Observation Suspected Contraband   \n",
      "402086             False       Arrest               Other Official Info   \n",
      "\n",
      "        officer_id drugs_related_stop district  \n",
      "0            10606                NaN       E3  \n",
      "1            10606                NaN       E3  \n",
      "2            10606                NaN       E3  \n",
      "3            10606                NaN       E3  \n",
      "4            10606                NaN       E3  \n",
      "...            ...                ...      ...  \n",
      "402082       21715               True       G3  \n",
      "402083       10592                NaN       G5  \n",
      "402084       21848                NaN       E1  \n",
      "402085       11887               True       F5  \n",
      "402086       21553                NaN       D5  \n",
      "\n",
      "[402087 rows x 14 columns]>\n",
      "state                  object\n",
      "stop_date              object\n",
      "driver_gender          object\n",
      "driver_age            float64\n",
      "driver_race_raw        object\n",
      "driver_race            object\n",
      "violation              object\n",
      "search_type            object\n",
      "contraband_found         bool\n",
      "stop_outcome           object\n",
      "search_basis           object\n",
      "officer_id              int64\n",
      "drugs_related_stop     object\n",
      "district               object\n",
      "dtype: object\n"
     ]
    }
   ],
   "source": [
    "print (df.head)\n",
    "print (df.dtypes)"
   ]
  },
  {
   "cell_type": "code",
   "execution_count": 5,
   "id": "bcc7aadb",
   "metadata": {},
   "outputs": [],
   "source": [
    "y= df['stop_outcome']\n",
    "X= df.drop(columns=['state','driver_race_raw','stop_date'])"
   ]
  },
  {
   "cell_type": "code",
   "execution_count": null,
   "id": "58559d72",
   "metadata": {},
   "outputs": [],
   "source": []
  },
  {
   "cell_type": "code",
   "execution_count": 6,
   "id": "b6a613d6",
   "metadata": {},
   "outputs": [
    {
     "data": {
      "text/plain": [
       "state                      0\n",
       "stop_date                  0\n",
       "driver_gender              0\n",
       "driver_age                91\n",
       "driver_race_raw            0\n",
       "driver_race                0\n",
       "violation                  0\n",
       "search_type                0\n",
       "contraband_found           0\n",
       "stop_outcome               0\n",
       "search_basis               0\n",
       "officer_id                 0\n",
       "drugs_related_stop    397708\n",
       "district                  38\n",
       "dtype: int64"
      ]
     },
     "execution_count": 6,
     "metadata": {},
     "output_type": "execute_result"
    }
   ],
   "source": [
    "df.isna().sum()\n",
    "# should we drop drugs related stops ?? \n"
   ]
  },
  {
   "cell_type": "code",
   "execution_count": 7,
   "id": "907fd27e",
   "metadata": {},
   "outputs": [],
   "source": [
    "df[\"driver_age\"].fillna(df[\"driver_age\"].mean(), inplace = True) "
   ]
  },
  {
   "cell_type": "code",
   "execution_count": 8,
   "id": "cd64599a",
   "metadata": {},
   "outputs": [
    {
     "data": {
      "text/html": [
       "<div>\n",
       "<style scoped>\n",
       "    .dataframe tbody tr th:only-of-type {\n",
       "        vertical-align: middle;\n",
       "    }\n",
       "\n",
       "    .dataframe tbody tr th {\n",
       "        vertical-align: top;\n",
       "    }\n",
       "\n",
       "    .dataframe thead th {\n",
       "        text-align: right;\n",
       "    }\n",
       "</style>\n",
       "<table border=\"1\" class=\"dataframe\">\n",
       "  <thead>\n",
       "    <tr style=\"text-align: right;\">\n",
       "      <th></th>\n",
       "      <th>state</th>\n",
       "      <th>stop_date</th>\n",
       "      <th>driver_gender</th>\n",
       "      <th>driver_age</th>\n",
       "      <th>driver_race_raw</th>\n",
       "      <th>driver_race</th>\n",
       "      <th>violation</th>\n",
       "      <th>search_type</th>\n",
       "      <th>contraband_found</th>\n",
       "      <th>stop_outcome</th>\n",
       "      <th>search_basis</th>\n",
       "      <th>officer_id</th>\n",
       "      <th>drugs_related_stop</th>\n",
       "      <th>district</th>\n",
       "    </tr>\n",
       "  </thead>\n",
       "  <tbody>\n",
       "    <tr>\n",
       "      <th>0</th>\n",
       "      <td>NC</td>\n",
       "      <td>2000-07-31</td>\n",
       "      <td>1</td>\n",
       "      <td>23.0</td>\n",
       "      <td>9</td>\n",
       "      <td>4</td>\n",
       "      <td>6</td>\n",
       "      <td>2</td>\n",
       "      <td>0</td>\n",
       "      <td>0</td>\n",
       "      <td>18</td>\n",
       "      <td>722</td>\n",
       "      <td>1</td>\n",
       "      <td>34</td>\n",
       "    </tr>\n",
       "    <tr>\n",
       "      <th>1</th>\n",
       "      <td>NC</td>\n",
       "      <td>2000-07-31</td>\n",
       "      <td>0</td>\n",
       "      <td>29.0</td>\n",
       "      <td>9</td>\n",
       "      <td>4</td>\n",
       "      <td>6</td>\n",
       "      <td>2</td>\n",
       "      <td>0</td>\n",
       "      <td>0</td>\n",
       "      <td>18</td>\n",
       "      <td>722</td>\n",
       "      <td>1</td>\n",
       "      <td>34</td>\n",
       "    </tr>\n",
       "    <tr>\n",
       "      <th>2</th>\n",
       "      <td>NC</td>\n",
       "      <td>2000-07-31</td>\n",
       "      <td>0</td>\n",
       "      <td>49.0</td>\n",
       "      <td>3</td>\n",
       "      <td>1</td>\n",
       "      <td>6</td>\n",
       "      <td>2</td>\n",
       "      <td>0</td>\n",
       "      <td>0</td>\n",
       "      <td>18</td>\n",
       "      <td>722</td>\n",
       "      <td>1</td>\n",
       "      <td>34</td>\n",
       "    </tr>\n",
       "    <tr>\n",
       "      <th>3</th>\n",
       "      <td>NC</td>\n",
       "      <td>2000-07-31</td>\n",
       "      <td>1</td>\n",
       "      <td>29.0</td>\n",
       "      <td>3</td>\n",
       "      <td>1</td>\n",
       "      <td>6</td>\n",
       "      <td>2</td>\n",
       "      <td>0</td>\n",
       "      <td>0</td>\n",
       "      <td>18</td>\n",
       "      <td>722</td>\n",
       "      <td>1</td>\n",
       "      <td>34</td>\n",
       "    </tr>\n",
       "    <tr>\n",
       "      <th>4</th>\n",
       "      <td>NC</td>\n",
       "      <td>2000-07-31</td>\n",
       "      <td>1</td>\n",
       "      <td>24.0</td>\n",
       "      <td>6</td>\n",
       "      <td>2</td>\n",
       "      <td>6</td>\n",
       "      <td>2</td>\n",
       "      <td>0</td>\n",
       "      <td>0</td>\n",
       "      <td>18</td>\n",
       "      <td>722</td>\n",
       "      <td>1</td>\n",
       "      <td>34</td>\n",
       "    </tr>\n",
       "  </tbody>\n",
       "</table>\n",
       "</div>"
      ],
      "text/plain": [
       "  state   stop_date  driver_gender  driver_age  driver_race_raw  driver_race  \\\n",
       "0    NC  2000-07-31              1        23.0                9            4   \n",
       "1    NC  2000-07-31              0        29.0                9            4   \n",
       "2    NC  2000-07-31              0        49.0                3            1   \n",
       "3    NC  2000-07-31              1        29.0                3            1   \n",
       "4    NC  2000-07-31              1        24.0                6            2   \n",
       "\n",
       "   violation  search_type  contraband_found  stop_outcome  search_basis  \\\n",
       "0          6            2                 0             0            18   \n",
       "1          6            2                 0             0            18   \n",
       "2          6            2                 0             0            18   \n",
       "3          6            2                 0             0            18   \n",
       "4          6            2                 0             0            18   \n",
       "\n",
       "   officer_id  drugs_related_stop  district  \n",
       "0         722                   1        34  \n",
       "1         722                   1        34  \n",
       "2         722                   1        34  \n",
       "3         722                   1        34  \n",
       "4         722                   1        34  "
      ]
     },
     "execution_count": 8,
     "metadata": {},
     "output_type": "execute_result"
    }
   ],
   "source": [
    "from sklearn.preprocessing import LabelEncoder\n",
    "le = LabelEncoder()\n",
    "col= [\"driver_gender\",\"driver_race_raw\",\"driver_race\",\"violation\",\"search_type\",\"contraband_found\",\n",
    "      \"stop_outcome\",\"search_basis\",\"officer_id\",\"district\",\"drugs_related_stop\"\n",
    "]\n",
    "df_encoded = df\n",
    "df_encoded[col]=df_encoded[col].apply(lambda col: le.fit_transform(col))\n",
    "df_encoded.head()"
   ]
  },
  {
   "cell_type": "code",
   "execution_count": 9,
   "id": "9ec646b2",
   "metadata": {},
   "outputs": [],
   "source": [
    "y= df_encoded['stop_outcome']\n",
    "X= df_encoded.drop(columns=['state','driver_race_raw','stop_date'])"
   ]
  },
  {
   "cell_type": "code",
   "execution_count": 10,
   "id": "c5ddbaa4",
   "metadata": {},
   "outputs": [
    {
     "data": {
      "text/html": [
       "<div>\n",
       "<style scoped>\n",
       "    .dataframe tbody tr th:only-of-type {\n",
       "        vertical-align: middle;\n",
       "    }\n",
       "\n",
       "    .dataframe tbody tr th {\n",
       "        vertical-align: top;\n",
       "    }\n",
       "\n",
       "    .dataframe thead th {\n",
       "        text-align: right;\n",
       "    }\n",
       "</style>\n",
       "<table border=\"1\" class=\"dataframe\">\n",
       "  <thead>\n",
       "    <tr style=\"text-align: right;\">\n",
       "      <th></th>\n",
       "      <th>driver_gender</th>\n",
       "      <th>driver_age</th>\n",
       "      <th>driver_race</th>\n",
       "      <th>violation</th>\n",
       "      <th>search_type</th>\n",
       "      <th>contraband_found</th>\n",
       "      <th>stop_outcome</th>\n",
       "      <th>search_basis</th>\n",
       "      <th>officer_id</th>\n",
       "      <th>drugs_related_stop</th>\n",
       "      <th>district</th>\n",
       "    </tr>\n",
       "  </thead>\n",
       "  <tbody>\n",
       "    <tr>\n",
       "      <th>0</th>\n",
       "      <td>1</td>\n",
       "      <td>23.0</td>\n",
       "      <td>4</td>\n",
       "      <td>6</td>\n",
       "      <td>2</td>\n",
       "      <td>0</td>\n",
       "      <td>0</td>\n",
       "      <td>18</td>\n",
       "      <td>722</td>\n",
       "      <td>1</td>\n",
       "      <td>34</td>\n",
       "    </tr>\n",
       "    <tr>\n",
       "      <th>1</th>\n",
       "      <td>0</td>\n",
       "      <td>29.0</td>\n",
       "      <td>4</td>\n",
       "      <td>6</td>\n",
       "      <td>2</td>\n",
       "      <td>0</td>\n",
       "      <td>0</td>\n",
       "      <td>18</td>\n",
       "      <td>722</td>\n",
       "      <td>1</td>\n",
       "      <td>34</td>\n",
       "    </tr>\n",
       "    <tr>\n",
       "      <th>2</th>\n",
       "      <td>0</td>\n",
       "      <td>49.0</td>\n",
       "      <td>1</td>\n",
       "      <td>6</td>\n",
       "      <td>2</td>\n",
       "      <td>0</td>\n",
       "      <td>0</td>\n",
       "      <td>18</td>\n",
       "      <td>722</td>\n",
       "      <td>1</td>\n",
       "      <td>34</td>\n",
       "    </tr>\n",
       "    <tr>\n",
       "      <th>3</th>\n",
       "      <td>1</td>\n",
       "      <td>29.0</td>\n",
       "      <td>1</td>\n",
       "      <td>6</td>\n",
       "      <td>2</td>\n",
       "      <td>0</td>\n",
       "      <td>0</td>\n",
       "      <td>18</td>\n",
       "      <td>722</td>\n",
       "      <td>1</td>\n",
       "      <td>34</td>\n",
       "    </tr>\n",
       "    <tr>\n",
       "      <th>4</th>\n",
       "      <td>1</td>\n",
       "      <td>24.0</td>\n",
       "      <td>2</td>\n",
       "      <td>6</td>\n",
       "      <td>2</td>\n",
       "      <td>0</td>\n",
       "      <td>0</td>\n",
       "      <td>18</td>\n",
       "      <td>722</td>\n",
       "      <td>1</td>\n",
       "      <td>34</td>\n",
       "    </tr>\n",
       "  </tbody>\n",
       "</table>\n",
       "</div>"
      ],
      "text/plain": [
       "   driver_gender  driver_age  driver_race  violation  search_type  \\\n",
       "0              1        23.0            4          6            2   \n",
       "1              0        29.0            4          6            2   \n",
       "2              0        49.0            1          6            2   \n",
       "3              1        29.0            1          6            2   \n",
       "4              1        24.0            2          6            2   \n",
       "\n",
       "   contraband_found  stop_outcome  search_basis  officer_id  \\\n",
       "0                 0             0            18         722   \n",
       "1                 0             0            18         722   \n",
       "2                 0             0            18         722   \n",
       "3                 0             0            18         722   \n",
       "4                 0             0            18         722   \n",
       "\n",
       "   drugs_related_stop  district  \n",
       "0                   1        34  \n",
       "1                   1        34  \n",
       "2                   1        34  \n",
       "3                   1        34  \n",
       "4                   1        34  "
      ]
     },
     "execution_count": 10,
     "metadata": {},
     "output_type": "execute_result"
    }
   ],
   "source": [
    "X.head()"
   ]
  },
  {
   "cell_type": "code",
   "execution_count": 11,
   "id": "4689437c",
   "metadata": {},
   "outputs": [
    {
     "data": {
      "text/plain": [
       "state                 0\n",
       "stop_date             0\n",
       "driver_gender         0\n",
       "driver_age            0\n",
       "driver_race_raw       0\n",
       "driver_race           0\n",
       "violation             0\n",
       "search_type           0\n",
       "contraband_found      0\n",
       "stop_outcome          0\n",
       "search_basis          0\n",
       "officer_id            0\n",
       "drugs_related_stop    0\n",
       "district              0\n",
       "dtype: int64"
      ]
     },
     "execution_count": 11,
     "metadata": {},
     "output_type": "execute_result"
    }
   ],
   "source": [
    "df_encoded.isna().sum()"
   ]
  },
  {
   "cell_type": "markdown",
   "id": "a43445f3",
   "metadata": {},
   "source": [
    "Model"
   ]
  },
  {
   "cell_type": "code",
   "execution_count": 12,
   "id": "4d35c1c3",
   "metadata": {},
   "outputs": [
    {
     "data": {
      "text/plain": [
       "driver_gender         int32\n",
       "driver_age            int32\n",
       "driver_race           int32\n",
       "violation             int32\n",
       "search_type           int32\n",
       "contraband_found      int32\n",
       "stop_outcome          int32\n",
       "search_basis          int32\n",
       "officer_id            int32\n",
       "drugs_related_stop    int32\n",
       "district              int32\n",
       "dtype: object"
      ]
     },
     "execution_count": 12,
     "metadata": {},
     "output_type": "execute_result"
    }
   ],
   "source": [
    "from sklearn.model_selection import train_test_split\n",
    "X= X.astype(int)\n",
    "X_train, X_test, y_train, y_test = train_test_split(X, y, test_size = 0.3,random_state=200) \n",
    "X.dtypes"
   ]
  },
  {
   "cell_type": "code",
   "execution_count": 13,
   "id": "b3616344",
   "metadata": {},
   "outputs": [],
   "source": [
    "from sklearn.neighbors import KNeighborsClassifier\n",
    "\n",
    "knn = KNeighborsClassifier(n_neighbors=15)\n",
    "knn.fit(X, y)\n",
    "y_pred = knn.predict(X_test)\n"
   ]
  },
  {
   "cell_type": "code",
   "execution_count": 14,
   "id": "ac8d18ee",
   "metadata": {},
   "outputs": [
    {
     "data": {
      "text/plain": [
       "<Figure size 432x288 with 0 Axes>"
      ]
     },
     "metadata": {},
     "output_type": "display_data"
    },
    {
     "data": {
      "image/png": "[encoded data removed]",
      "text/plain": [
       "<Figure size 432x288 with 2 Axes>"
      ]
     },
     "metadata": {
      "needs_background": "light"
     },
     "output_type": "display_data"
    }
   ],
   "source": [
    "from sklearn.metrics import plot_confusion_matrix\n",
    "\n",
    "# Plot the confusion matrix for the test set for the KNN classifier\n",
    "plt.figure()\n",
    "plot_confusion_matrix(knn, X_test, y_test)\n",
    "plt.title('confusion matrix of KNN for k=15')\n",
    "plt.show()\n"
   ]
  },
  {
   "cell_type": "code",
   "execution_count": null,
   "id": "0ad501b6",
   "metadata": {},
   "outputs": [],
   "source": [
    "from sklearn.model_selection import GridSearchCV\n",
    "from sklearn.pipeline import Pipeline\n",
    "from sklearn.preprocessing import StandardScaler\n",
    "from sklearn.decomposition import PCA\n",
    "from sklearn.model_selection import KFold\n",
    "num_splits = 5\n",
    "#kfold = KFold(n_splits=num_splits, random_state=10, shuffle=True)\n",
    "\n",
    "max_comp = X.shape[1]\n",
    "param_grid = { 'n_neighbors':[5,10,15]}\n",
    "\n",
    "#pipeline = Pipeline(steps=[('scaler',StandardScaler()), ('estimator', KNeighborsClassifier())])\n",
    "search = GridSearchCV(KNeighborsClassifier(), param_grid, cv=5, scoring='neg_root_mean_squared_error', return_train_score=True)\n",
    "search.fit(X,y)\n",
    "\n",
    "print(\"Best parameter (CV RMSE=%0.3f):\" % -search.best_score_)\n",
    "print(search.best_params_)\n",
    "\n"
   ]
  },
  {
   "cell_type": "markdown",
   "id": "fe52a419",
   "metadata": {},
   "source": [
    "Metrics functions"
   ]
  },
  {
   "cell_type": "code",
   "execution_count": null,
   "id": "2a7c733f",
   "metadata": {},
   "outputs": [],
   "source": [
    "\n",
    "def separation(tn, fp, fn, tp):\n",
    "    # change the calculation of the seperation for the two conditions Y_1 and Y_0\n",
    "    Y_0 = tn / (tn + fn)\n",
    "    Y_1 = tp / (tp + fp)\n",
    "  \n",
    "    return Y_1, Y_0\n",
    "\n",
    "def sufficiency(tn, fp, fn, tp):\n",
    "    R_1 = tp / (tp + fn)\n",
    "    R_0 = fp / (fp + tn)\n",
    "    return R_1, R_0\n",
    "\n",
    "# switched tp and tn \n",
    "def independence (tp,tn,fn,fp ):\n",
    "    return (tp + fp) / (tn + fp + fn + tp)\n",
    "\n"
   ]
  },
  {
   "cell_type": "code",
   "execution_count": null,
   "id": "b7027fc3",
   "metadata": {},
   "outputs": [],
   "source": []
  }
 ],
 "metadata": {
  "interpreter": {
   "hash": "183b68252ecf3199c4fda32ff0d233f3a576b0292d6144c07af0a6aeab49c2d5"
  },
  "kernelspec": {
   "display_name": "Python 3",
   "language": "python",
   "name": "python3"
  },
  "language_info": {
   "codemirror_mode": {
    "name": "ipython",
    "version": 3
   },
   "file_extension": ".py",
   "mimetype": "text/x-python",
   "name": "python",
   "nbconvert_exporter": "python",
   "pygments_lexer": "ipython3",
   "version": "3.8.5"
  }
 },
 "nbformat": 4,
 "nbformat_minor": 5
}
