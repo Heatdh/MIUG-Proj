{
 "cells": [
  {
   "cell_type": "markdown",
   "source": [
    "# NCS\n",
    "## Loading basic libraries and testing the virtual environment"
   ],
   "metadata": {}
  },
  {
   "cell_type": "code",
   "execution_count": 53,
   "source": [
    "import matplotlib.pyplot as plt\r\n",
    "import numpy as np\r\n",
    "import pandas as pd\r\n",
    "from pathlib import Path\r\n",
    "import sklearn\r\n",
    "import seaborn as sns\r\n",
    "#import tensorflow as tf\r\n",
    "#import tensorflow_datasets as tfds\r\n",
    "from sklearn.svm import  SVC\r\n",
    "from sklearn.model_selection import GridSearchCV\r\n",
    "from sklearn.svm import LinearSVC"
   ],
   "outputs": [],
   "metadata": {}
  },
  {
   "cell_type": "code",
   "execution_count": 47,
   "source": [
    "print('The scikit-learn version is {}.'.format(sklearn.__version__))"
   ],
   "outputs": [
    {
     "output_type": "stream",
     "name": "stdout",
     "text": [
      "The scikit-learn version is 0.24.1.\n"
     ]
    }
   ],
   "metadata": {}
  },
  {
   "cell_type": "code",
   "execution_count": 48,
   "source": [
    "df = pd.read_csv(\"../dataset/NC_policing.csv\")\r\n"
   ],
   "outputs": [],
   "metadata": {}
  },
  {
   "cell_type": "code",
   "execution_count": 49,
   "source": [
    "print (df.head())\r\n",
    "print (df.dtypes)"
   ],
   "outputs": [
    {
     "output_type": "stream",
     "name": "stdout",
     "text": [
      "  state   stop_date driver_gender  driver_age driver_race_raw driver_race  \\\n",
      "0    NC  2000-07-31             M        23.0             W N       White   \n",
      "1    NC  2000-07-31             F        29.0             W N       White   \n",
      "2    NC  2000-07-31             F        49.0             B N       Black   \n",
      "3    NC  2000-07-31             M        29.0             B N       Black   \n",
      "4    NC  2000-07-31             M        24.0             U H    Hispanic   \n",
      "\n",
      "  violation          search_type  contraband_found stop_outcome  \\\n",
      "0  Speeding  No Search Conducted             False       Arrest   \n",
      "1  Speeding  No Search Conducted             False       Arrest   \n",
      "2  Speeding  No Search Conducted             False       Arrest   \n",
      "3  Speeding  No Search Conducted             False       Arrest   \n",
      "4  Speeding  No Search Conducted             False       Arrest   \n",
      "\n",
      "          search_basis  officer_id drugs_related_stop district  \n",
      "0  No Search Conducted       10606                NaN       E3  \n",
      "1  No Search Conducted       10606                NaN       E3  \n",
      "2  No Search Conducted       10606                NaN       E3  \n",
      "3  No Search Conducted       10606                NaN       E3  \n",
      "4  No Search Conducted       10606                NaN       E3  \n",
      "state                  object\n",
      "stop_date              object\n",
      "driver_gender          object\n",
      "driver_age            float64\n",
      "driver_race_raw        object\n",
      "driver_race            object\n",
      "violation              object\n",
      "search_type            object\n",
      "contraband_found         bool\n",
      "stop_outcome           object\n",
      "search_basis           object\n",
      "officer_id              int64\n",
      "drugs_related_stop     object\n",
      "district               object\n",
      "dtype: object\n"
     ]
    }
   ],
   "metadata": {}
  },
  {
   "cell_type": "code",
   "execution_count": 54,
   "source": [
    "corr = df.corr()\r\n",
    "plt.figure()\r\n",
    "sns.heatmap(corr,vmax=.8, linewidths=0.01,\r\n",
    "           square=True,annot=True,cmap='YlGnBu',linecolor=\"white\")\r\n",
    "plt.title('Correlation between features')"
   ],
   "outputs": [
    {
     "output_type": "error",
     "ename": "NameError",
     "evalue": "name 'Ture' is not defined",
     "traceback": [
      "\u001b[1;31m---------------------------------------------------------------------------\u001b[0m",
      "\u001b[1;31mNameError\u001b[0m                                 Traceback (most recent call last)",
      "\u001b[1;32m<ipython-input-54-fc8ce613a10e>\u001b[0m in \u001b[0;36m<module>\u001b[1;34m\u001b[0m\n\u001b[0;32m      2\u001b[0m \u001b[0mplt\u001b[0m\u001b[1;33m.\u001b[0m\u001b[0mfigure\u001b[0m\u001b[1;33m(\u001b[0m\u001b[1;33m)\u001b[0m\u001b[1;33m\u001b[0m\u001b[1;33m\u001b[0m\u001b[0m\n\u001b[0;32m      3\u001b[0m sns.heatmap(corr,vmax=.8, linewidths=0.01,\n\u001b[1;32m----> 4\u001b[1;33m            square=True,annot=Ture,cmap='YlGnBu',linecolor=\"white\")\n\u001b[0m\u001b[0;32m      5\u001b[0m \u001b[0mplt\u001b[0m\u001b[1;33m.\u001b[0m\u001b[0mtitle\u001b[0m\u001b[1;33m(\u001b[0m\u001b[1;34m'Correlation between features'\u001b[0m\u001b[1;33m)\u001b[0m\u001b[1;33m\u001b[0m\u001b[1;33m\u001b[0m\u001b[0m\n",
      "\u001b[1;31mNameError\u001b[0m: name 'Ture' is not defined"
     ]
    },
    {
     "output_type": "display_data",
     "data": {
      "text/plain": [
       "<Figure size 432x288 with 0 Axes>"
      ]
     },
     "metadata": {}
    }
   ],
   "metadata": {}
  },
  {
   "cell_type": "code",
   "execution_count": 5,
   "source": [
    "y= df['stop_outcome']\r\n",
    "X= df.drop(columns=['state','driver_race_raw','stop_date'])\r\n",
    "# drop the drugs _ related_stop \r\n"
   ],
   "outputs": [],
   "metadata": {}
  },
  {
   "cell_type": "code",
   "execution_count": 6,
   "source": [
    "df.isna().sum()\n",
    "X= df.drop(columns=['drugs_related_stop'])"
   ],
   "outputs": [],
   "metadata": {}
  },
  {
   "cell_type": "code",
   "execution_count": 7,
   "source": [
    "df[\"driver_age\"].fillna(df[\"driver_age\"].mean(), inplace = True) "
   ],
   "outputs": [],
   "metadata": {}
  },
  {
   "cell_type": "code",
   "execution_count": 8,
   "source": [
    "from sklearn.preprocessing import LabelEncoder\n",
    "le = LabelEncoder()\n",
    "col= [\"driver_gender\",\"driver_race_raw\",\"driver_race\",\"violation\",\"search_type\",\"contraband_found\",\n",
    "      \"stop_outcome\",\"search_basis\",\"officer_id\",\"district\",\"drugs_related_stop\"\n",
    "]\n",
    "df_encoded = df\n",
    "df_encoded[col]=df_encoded[col].apply(lambda col: le.fit_transform(col))\n",
    "df_encoded.head()"
   ],
   "outputs": [
    {
     "output_type": "execute_result",
     "data": {
      "text/plain": [
       "  state   stop_date  driver_gender  driver_age  driver_race_raw  driver_race  \\\n",
       "0    NC  2000-07-31              1        23.0                9            4   \n",
       "1    NC  2000-07-31              0        29.0                9            4   \n",
       "2    NC  2000-07-31              0        49.0                3            1   \n",
       "3    NC  2000-07-31              1        29.0                3            1   \n",
       "4    NC  2000-07-31              1        24.0                6            2   \n",
       "\n",
       "   violation  search_type  contraband_found  stop_outcome  search_basis  \\\n",
       "0          6            2                 0             0            18   \n",
       "1          6            2                 0             0            18   \n",
       "2          6            2                 0             0            18   \n",
       "3          6            2                 0             0            18   \n",
       "4          6            2                 0             0            18   \n",
       "\n",
       "   officer_id  drugs_related_stop  district  \n",
       "0         722                   1        34  \n",
       "1         722                   1        34  \n",
       "2         722                   1        34  \n",
       "3         722                   1        34  \n",
       "4         722                   1        34  "
      ],
      "text/html": [
       "<div>\n",
       "<style scoped>\n",
       "    .dataframe tbody tr th:only-of-type {\n",
       "        vertical-align: middle;\n",
       "    }\n",
       "\n",
       "    .dataframe tbody tr th {\n",
       "        vertical-align: top;\n",
       "    }\n",
       "\n",
       "    .dataframe thead th {\n",
       "        text-align: right;\n",
       "    }\n",
       "</style>\n",
       "<table border=\"1\" class=\"dataframe\">\n",
       "  <thead>\n",
       "    <tr style=\"text-align: right;\">\n",
       "      <th></th>\n",
       "      <th>state</th>\n",
       "      <th>stop_date</th>\n",
       "      <th>driver_gender</th>\n",
       "      <th>driver_age</th>\n",
       "      <th>driver_race_raw</th>\n",
       "      <th>driver_race</th>\n",
       "      <th>violation</th>\n",
       "      <th>search_type</th>\n",
       "      <th>contraband_found</th>\n",
       "      <th>stop_outcome</th>\n",
       "      <th>search_basis</th>\n",
       "      <th>officer_id</th>\n",
       "      <th>drugs_related_stop</th>\n",
       "      <th>district</th>\n",
       "    </tr>\n",
       "  </thead>\n",
       "  <tbody>\n",
       "    <tr>\n",
       "      <th>0</th>\n",
       "      <td>NC</td>\n",
       "      <td>2000-07-31</td>\n",
       "      <td>1</td>\n",
       "      <td>23.0</td>\n",
       "      <td>9</td>\n",
       "      <td>4</td>\n",
       "      <td>6</td>\n",
       "      <td>2</td>\n",
       "      <td>0</td>\n",
       "      <td>0</td>\n",
       "      <td>18</td>\n",
       "      <td>722</td>\n",
       "      <td>1</td>\n",
       "      <td>34</td>\n",
       "    </tr>\n",
       "    <tr>\n",
       "      <th>1</th>\n",
       "      <td>NC</td>\n",
       "      <td>2000-07-31</td>\n",
       "      <td>0</td>\n",
       "      <td>29.0</td>\n",
       "      <td>9</td>\n",
       "      <td>4</td>\n",
       "      <td>6</td>\n",
       "      <td>2</td>\n",
       "      <td>0</td>\n",
       "      <td>0</td>\n",
       "      <td>18</td>\n",
       "      <td>722</td>\n",
       "      <td>1</td>\n",
       "      <td>34</td>\n",
       "    </tr>\n",
       "    <tr>\n",
       "      <th>2</th>\n",
       "      <td>NC</td>\n",
       "      <td>2000-07-31</td>\n",
       "      <td>0</td>\n",
       "      <td>49.0</td>\n",
       "      <td>3</td>\n",
       "      <td>1</td>\n",
       "      <td>6</td>\n",
       "      <td>2</td>\n",
       "      <td>0</td>\n",
       "      <td>0</td>\n",
       "      <td>18</td>\n",
       "      <td>722</td>\n",
       "      <td>1</td>\n",
       "      <td>34</td>\n",
       "    </tr>\n",
       "    <tr>\n",
       "      <th>3</th>\n",
       "      <td>NC</td>\n",
       "      <td>2000-07-31</td>\n",
       "      <td>1</td>\n",
       "      <td>29.0</td>\n",
       "      <td>3</td>\n",
       "      <td>1</td>\n",
       "      <td>6</td>\n",
       "      <td>2</td>\n",
       "      <td>0</td>\n",
       "      <td>0</td>\n",
       "      <td>18</td>\n",
       "      <td>722</td>\n",
       "      <td>1</td>\n",
       "      <td>34</td>\n",
       "    </tr>\n",
       "    <tr>\n",
       "      <th>4</th>\n",
       "      <td>NC</td>\n",
       "      <td>2000-07-31</td>\n",
       "      <td>1</td>\n",
       "      <td>24.0</td>\n",
       "      <td>6</td>\n",
       "      <td>2</td>\n",
       "      <td>6</td>\n",
       "      <td>2</td>\n",
       "      <td>0</td>\n",
       "      <td>0</td>\n",
       "      <td>18</td>\n",
       "      <td>722</td>\n",
       "      <td>1</td>\n",
       "      <td>34</td>\n",
       "    </tr>\n",
       "  </tbody>\n",
       "</table>\n",
       "</div>"
      ]
     },
     "metadata": {},
     "execution_count": 8
    }
   ],
   "metadata": {}
  },
  {
   "cell_type": "code",
   "execution_count": 9,
   "source": [
    "y= df_encoded['stop_outcome']\n",
    "X= df_encoded.drop(columns=['state','driver_race_raw','stop_date'])"
   ],
   "outputs": [],
   "metadata": {}
  },
  {
   "cell_type": "code",
   "execution_count": 10,
   "source": [
    "X.head()"
   ],
   "outputs": [
    {
     "output_type": "execute_result",
     "data": {
      "text/plain": [
       "   driver_gender  driver_age  driver_race  violation  search_type  \\\n",
       "0              1        23.0            4          6            2   \n",
       "1              0        29.0            4          6            2   \n",
       "2              0        49.0            1          6            2   \n",
       "3              1        29.0            1          6            2   \n",
       "4              1        24.0            2          6            2   \n",
       "\n",
       "   contraband_found  stop_outcome  search_basis  officer_id  \\\n",
       "0                 0             0            18         722   \n",
       "1                 0             0            18         722   \n",
       "2                 0             0            18         722   \n",
       "3                 0             0            18         722   \n",
       "4                 0             0            18         722   \n",
       "\n",
       "   drugs_related_stop  district  \n",
       "0                   1        34  \n",
       "1                   1        34  \n",
       "2                   1        34  \n",
       "3                   1        34  \n",
       "4                   1        34  "
      ],
      "text/html": [
       "<div>\n",
       "<style scoped>\n",
       "    .dataframe tbody tr th:only-of-type {\n",
       "        vertical-align: middle;\n",
       "    }\n",
       "\n",
       "    .dataframe tbody tr th {\n",
       "        vertical-align: top;\n",
       "    }\n",
       "\n",
       "    .dataframe thead th {\n",
       "        text-align: right;\n",
       "    }\n",
       "</style>\n",
       "<table border=\"1\" class=\"dataframe\">\n",
       "  <thead>\n",
       "    <tr style=\"text-align: right;\">\n",
       "      <th></th>\n",
       "      <th>driver_gender</th>\n",
       "      <th>driver_age</th>\n",
       "      <th>driver_race</th>\n",
       "      <th>violation</th>\n",
       "      <th>search_type</th>\n",
       "      <th>contraband_found</th>\n",
       "      <th>stop_outcome</th>\n",
       "      <th>search_basis</th>\n",
       "      <th>officer_id</th>\n",
       "      <th>drugs_related_stop</th>\n",
       "      <th>district</th>\n",
       "    </tr>\n",
       "  </thead>\n",
       "  <tbody>\n",
       "    <tr>\n",
       "      <th>0</th>\n",
       "      <td>1</td>\n",
       "      <td>23.0</td>\n",
       "      <td>4</td>\n",
       "      <td>6</td>\n",
       "      <td>2</td>\n",
       "      <td>0</td>\n",
       "      <td>0</td>\n",
       "      <td>18</td>\n",
       "      <td>722</td>\n",
       "      <td>1</td>\n",
       "      <td>34</td>\n",
       "    </tr>\n",
       "    <tr>\n",
       "      <th>1</th>\n",
       "      <td>0</td>\n",
       "      <td>29.0</td>\n",
       "      <td>4</td>\n",
       "      <td>6</td>\n",
       "      <td>2</td>\n",
       "      <td>0</td>\n",
       "      <td>0</td>\n",
       "      <td>18</td>\n",
       "      <td>722</td>\n",
       "      <td>1</td>\n",
       "      <td>34</td>\n",
       "    </tr>\n",
       "    <tr>\n",
       "      <th>2</th>\n",
       "      <td>0</td>\n",
       "      <td>49.0</td>\n",
       "      <td>1</td>\n",
       "      <td>6</td>\n",
       "      <td>2</td>\n",
       "      <td>0</td>\n",
       "      <td>0</td>\n",
       "      <td>18</td>\n",
       "      <td>722</td>\n",
       "      <td>1</td>\n",
       "      <td>34</td>\n",
       "    </tr>\n",
       "    <tr>\n",
       "      <th>3</th>\n",
       "      <td>1</td>\n",
       "      <td>29.0</td>\n",
       "      <td>1</td>\n",
       "      <td>6</td>\n",
       "      <td>2</td>\n",
       "      <td>0</td>\n",
       "      <td>0</td>\n",
       "      <td>18</td>\n",
       "      <td>722</td>\n",
       "      <td>1</td>\n",
       "      <td>34</td>\n",
       "    </tr>\n",
       "    <tr>\n",
       "      <th>4</th>\n",
       "      <td>1</td>\n",
       "      <td>24.0</td>\n",
       "      <td>2</td>\n",
       "      <td>6</td>\n",
       "      <td>2</td>\n",
       "      <td>0</td>\n",
       "      <td>0</td>\n",
       "      <td>18</td>\n",
       "      <td>722</td>\n",
       "      <td>1</td>\n",
       "      <td>34</td>\n",
       "    </tr>\n",
       "  </tbody>\n",
       "</table>\n",
       "</div>"
      ]
     },
     "metadata": {},
     "execution_count": 10
    }
   ],
   "metadata": {}
  },
  {
   "cell_type": "code",
   "execution_count": 11,
   "source": [
    "df_encoded.isna().sum()\n",
    "print(df.info())"
   ],
   "outputs": [
    {
     "output_type": "stream",
     "name": "stdout",
     "text": [
      "<class 'pandas.core.frame.DataFrame'>\n",
      "RangeIndex: 402087 entries, 0 to 402086\n",
      "Data columns (total 14 columns):\n",
      " #   Column              Non-Null Count   Dtype  \n",
      "---  ------              --------------   -----  \n",
      " 0   state               402087 non-null  object \n",
      " 1   stop_date           402087 non-null  object \n",
      " 2   driver_gender       402087 non-null  int32  \n",
      " 3   driver_age          402087 non-null  float64\n",
      " 4   driver_race_raw     402087 non-null  int32  \n",
      " 5   driver_race         402087 non-null  int32  \n",
      " 6   violation           402087 non-null  int32  \n",
      " 7   search_type         402087 non-null  int32  \n",
      " 8   contraband_found    402087 non-null  int64  \n",
      " 9   stop_outcome        402087 non-null  int32  \n",
      " 10  search_basis        402087 non-null  int32  \n",
      " 11  officer_id          402087 non-null  int64  \n",
      " 12  drugs_related_stop  402087 non-null  int32  \n",
      " 13  district            402087 non-null  int32  \n",
      "dtypes: float64(1), int32(9), int64(2), object(2)\n",
      "memory usage: 29.1+ MB\n",
      "None\n"
     ]
    }
   ],
   "metadata": {}
  },
  {
   "cell_type": "markdown",
   "source": [
    "Model"
   ],
   "metadata": {}
  },
  {
   "cell_type": "code",
   "execution_count": 12,
   "source": [
    "from sklearn.model_selection import train_test_split\n",
    "X= X.astype(int)\n",
    "X_train, X_test, y_train, y_test = train_test_split(X, y, test_size = 0.3,random_state=200) \n",
    "X.dtypes"
   ],
   "outputs": [
    {
     "output_type": "execute_result",
     "data": {
      "text/plain": [
       "driver_gender         int32\n",
       "driver_age            int32\n",
       "driver_race           int32\n",
       "violation             int32\n",
       "search_type           int32\n",
       "contraband_found      int32\n",
       "stop_outcome          int32\n",
       "search_basis          int32\n",
       "officer_id            int32\n",
       "drugs_related_stop    int32\n",
       "district              int32\n",
       "dtype: object"
      ]
     },
     "metadata": {},
     "execution_count": 12
    }
   ],
   "metadata": {}
  },
  {
   "cell_type": "code",
   "execution_count": 13,
   "source": [
    "# testing with knn this is not a classifier \n",
    "from sklearn.neighbors import KNeighborsClassifier\n",
    "\n",
    "knn = KNeighborsClassifier(n_neighbors=15)\n",
    "knn.fit(X_train, y_train)\n",
    "y_pred = knn.predict(X_test)\n"
   ],
   "outputs": [],
   "metadata": {}
  },
  {
   "cell_type": "code",
   "execution_count": 14,
   "source": [
    "from sklearn.metrics import plot_confusion_matrix\n",
    "# Plot the confusion matrix for the test set for the KNN classifier\n",
    "plt.figure()\n",
    "plot_confusion_matrix(knn, X_test, y_test)\n",
    "plt.title('confusion matrix of KNN for k=15')\n",
    "plt.show()\n"
   ],
   "outputs": [
    {
     "output_type": "display_data",
     "data": {
      "text/plain": [
       "<Figure size 432x288 with 0 Axes>"
      ]
     },
     "metadata": {}
    },
    {
     "output_type": "display_data",
     "data": {
      "text/plain": [
       "<Figure size 432x288 with 2 Axes>"
      ],
      "image/png": "[encoded data removed]"
     },
     "metadata": {
      "needs_background": "light"
     }
    }
   ],
   "metadata": {}
  },
  {
   "cell_type": "code",
   "execution_count": 15,
   "source": [
    "#first classifier without pca (no need for compression)\n",
    "from sklearn.model_selection import GridSearchCV\n",
    "from sklearn.pipeline import Pipeline\n",
    "from sklearn.preprocessing import StandardScaler\n",
    "from sklearn.decomposition import PCA\n",
    "from sklearn.model_selection import KFold\n",
    "num_splits = 5\n",
    "#kfold = KFold(n_splits=num_splits, random_state=10, shuffle=True)\n",
    "\n",
    "max_comp = X.shape[1]\n",
    "param_grid = { 'n_neighbors':[5,10,15]}\n",
    "\n",
    "#pipeline = Pipeline(steps=[('scaler',StandardScaler()), ('estimator', KNeighborsClassifier())])\n",
    "search = GridSearchCV(KNeighborsClassifier(),param_grid, n_jobs=-1, cv=5, scoring='accuracy', return_train_score=True)\n",
    "search.fit(X_train,y_train)"
   ],
   "outputs": [
    {
     "output_type": "execute_result",
     "data": {
      "text/plain": [
       "GridSearchCV(cv=5, estimator=KNeighborsClassifier(), n_jobs=-1,\n",
       "             param_grid={'n_neighbors': [5, 10, 15]}, return_train_score=True,\n",
       "             scoring='accuracy')"
      ]
     },
     "metadata": {},
     "execution_count": 15
    }
   ],
   "metadata": {}
  },
  {
   "cell_type": "code",
   "execution_count": 16,
   "source": [
    "print(\"accuracy\" ,search.best_score_)\n",
    "print(search.best_params_)"
   ],
   "outputs": [
    {
     "output_type": "stream",
     "name": "stdout",
     "text": [
      "accuracy 0.9440879698713849\n",
      "{'n_neighbors': 5}\n"
     ]
    }
   ],
   "metadata": {}
  },
  {
   "cell_type": "code",
   "execution_count": 17,
   "source": [
    "best_estimator = search.best_estimator_\n",
    "y_pred = best_estimator.predict(X_test)\n",
    "\n",
    "from sklearn.metrics import confusion_matrix\n",
    "cm = confusion_matrix(y_test, y_pred)\n",
    "tn, fp, fn, tp = cm.ravel()"
   ],
   "outputs": [],
   "metadata": {}
  },
  {
   "cell_type": "code",
   "execution_count": null,
   "source": [],
   "outputs": [],
   "metadata": {}
  },
  {
   "cell_type": "code",
   "execution_count": 18,
   "source": [
    "# doesn't really make sense\n",
    "fig = plt.figure()\n",
    "plt.scatter(y_pred,y_test)\n",
    "plt.title (\"Reading score prediction with all features other than scores\")\n",
    "plt.xlabel(\"predicted  score\")\n",
    "plt.ylabel(\"actual score\")\n",
    "plt.plot([y_pred.min(),y_pred.max()],[y_test.min(),y_test.max()],color='orange')\n",
    "plt.show()"
   ],
   "outputs": [
    {
     "output_type": "display_data",
     "data": {
      "text/plain": [
       "<Figure size 432x288 with 1 Axes>"
      ],
      "image/png": "[encoded data removed]"
     },
     "metadata": {
      "needs_background": "light"
     }
    }
   ],
   "metadata": {}
  },
  {
   "cell_type": "code",
   "execution_count": 19,
   "source": [
    "# Plot roc knn\n",
    "from sklearn.metrics import roc_curve\n",
    "y_pred_prob = search.best_estimator_.predict_proba(X_test)[:,1]\n",
    "fprc, tprc, thresholds = roc_curve(y_test, y_pred_prob)\n",
    "fig = plt.figure()\n",
    "ax = fig.add_subplot()\n",
    "ax.plot([0, 1], [0, 1], 'k--',color='blue')\n",
    "ax.plot(fprc, tprc,label='ROC curve',color='orange')\n",
    "ax.set_xlabel('False Positive Rate')\n",
    "ax.set_ylabel('True Positive Rate')\n",
    "plt.title('ROC Curve')\n",
    "plt.legend(loc=4)\n",
    "plt.show()"
   ],
   "outputs": [
    {
     "output_type": "stream",
     "name": "stderr",
     "text": [
      "<ipython-input-19-1a236fa28ba0>:7: UserWarning: color is redundantly defined by the 'color' keyword argument and the fmt string \"k--\" (-> color='k'). The keyword argument will take precedence.\n",
      "  ax.plot([0, 1], [0, 1], 'k--',color='blue')\n"
     ]
    },
    {
     "output_type": "display_data",
     "data": {
      "text/plain": [
       "<Figure size 432x288 with 1 Axes>"
      ],
      "image/png": "[encoded data removed]"
     },
     "metadata": {
      "needs_background": "light"
     }
    }
   ],
   "metadata": {}
  },
  {
   "cell_type": "markdown",
   "source": [
    "Metrics functions"
   ],
   "metadata": {}
  },
  {
   "cell_type": "code",
   "execution_count": 20,
   "source": [
    "\n",
    "def separation(tn, fp, fn, tp):\n",
    "   \n",
    "    Y_0 = tn / (tn + fn)\n",
    "    Y_1 = tp / (tp + fp)\n",
    "  \n",
    "    return Y_1, Y_0\n",
    "\n",
    "def sufficiency(tn, fp, fn, tp):\n",
    "    R_1 = tp / (tp + fn)\n",
    "    R_0 = fp / (fp + tn)\n",
    "    return R_1, R_0\n",
    "# switched tp and tn \n",
    "def independence (tp,tn,fn,fp ):\n",
    "    return (tp + fp) / (tn + fp + fn + tp)\n",
    "\n"
   ],
   "outputs": [],
   "metadata": {}
  },
  {
   "cell_type": "code",
   "execution_count": 21,
   "source": [
    "sep = separation(tn,fp,fn,tp)\n",
    "suf = sufficiency(tn, fp, fn, tp)\n",
    "ind = independence (tp,tn,fn,fp )"
   ],
   "outputs": [],
   "metadata": {}
  },
  {
   "cell_type": "code",
   "execution_count": 22,
   "source": [
    "print (sep)\n",
    "print(suf)\n",
    "print(ind)"
   ],
   "outputs": [
    {
     "output_type": "stream",
     "name": "stdout",
     "text": [
      "(0.9559779712204655, 0.9298463748894783)\n",
      "(0.9695040657242033, 0.09946481134599947)\n",
      "0.6999676689298415\n"
     ]
    }
   ],
   "metadata": {}
  },
  {
   "cell_type": "code",
   "execution_count": 23,
   "source": [
    "from sklearn.linear_model import LinearRegression"
   ],
   "outputs": [],
   "metadata": {}
  },
  {
   "cell_type": "code",
   "execution_count": 24,
   "source": [
    "#pipeline = Pipeline(steps=[('scaler',StandardScaler()),('pca', PCA()), ('estimator', LinearRegression())])"
   ],
   "outputs": [],
   "metadata": {}
  },
  {
   "cell_type": "code",
   "execution_count": 25,
   "source": [
    "from sklearn.linear_model import LogisticRegression\n",
    "from sklearn import decomposition\n",
    "std_slc = StandardScaler()\n",
    "logistic_Reg = LogisticRegression()\n",
    "pca = decomposition.PCA()\n",
    "pipe = Pipeline(steps=[('std_slc', std_slc),\n",
    "                           ('logistic_Reg', logistic_Reg)])\n",
    "#n_components = list(range(1,X.shape[1]))\n",
    "C = np.logspace(-4, 4, 2)\n",
    "parameters = dict(#pca__n_components=n_components,\n",
    "                  logistic_Reg__C=C)\n",
    "search_lin = GridSearchCV(pipe,parameters, cv=5, scoring='accuracy', return_train_score=True)\n",
    "search_lin.fit(X_train,y_train)\n"
   ],
   "outputs": [
    {
     "output_type": "execute_result",
     "data": {
      "text/plain": [
       "GridSearchCV(cv=5,\n",
       "             estimator=Pipeline(steps=[('std_slc', StandardScaler()),\n",
       "                                       ('logistic_Reg', LogisticRegression())]),\n",
       "             param_grid={'logistic_Reg__C': array([1.e-04, 1.e+04])},\n",
       "             return_train_score=True, scoring='accuracy')"
      ]
     },
     "metadata": {},
     "execution_count": 25
    }
   ],
   "metadata": {}
  },
  {
   "cell_type": "code",
   "execution_count": 26,
   "source": [
    "print(search_lin.best_params_)\n",
    "print(search_lin.best_score_)"
   ],
   "outputs": [
    {
     "output_type": "stream",
     "name": "stdout",
     "text": [
      "{'logistic_Reg__C': 10000.0}\n",
      "1.0\n"
     ]
    }
   ],
   "metadata": {}
  },
  {
   "cell_type": "code",
   "execution_count": 27,
   "source": [
    "best_estimator = search.best_estimator_\n",
    "y_pred_lin = search_lin.best_estimator_.predict(X_test)"
   ],
   "outputs": [],
   "metadata": {}
  },
  {
   "cell_type": "code",
   "execution_count": 28,
   "source": [
    "cm = confusion_matrix(y_test, y_pred_lin)\n",
    "tn, fp, fn, tp = cm.ravel()\n",
    "plot_confusion_matrix(search_lin, X_test, y_test)  \n",
    "print(cm)"
   ],
   "outputs": [
    {
     "output_type": "stream",
     "name": "stdout",
     "text": [
      "[[37370     0]\n",
      " [    0 83257]]\n"
     ]
    },
    {
     "output_type": "display_data",
     "data": {
      "text/plain": [
       "<Figure size 432x288 with 2 Axes>"
      ],
      "image/png": "[encoded data removed]"
     },
     "metadata": {
      "needs_background": "light"
     }
    }
   ],
   "metadata": {}
  },
  {
   "cell_type": "code",
   "execution_count": 29,
   "source": [
    "# Plot\n",
    "from sklearn.metrics import roc_curve\n",
    "y_pred_prob = search_lin.best_estimator_.predict_proba(X_test)[:,1]\n",
    "fp, tp, thresholds = roc_curve(y_test, y_pred_prob)\n",
    "fig = plt.figure()\n",
    "ax = fig.add_subplot()\n",
    "ax.plot([0, 1], [0, 1], 'k--',color='blue')\n",
    "ax.plot(fp, tp,label='ROC curve',color='orange')\n",
    "ax.set_xlabel('False Positive Rate')\n",
    "ax.set_ylabel('True Positive Rate')\n",
    "plt.title('ROC Curve')\n",
    "plt.legend(loc=4)\n",
    "plt.show()"
   ],
   "outputs": [
    {
     "output_type": "stream",
     "name": "stderr",
     "text": [
      "<ipython-input-29-10a9d47d2815>:7: UserWarning: color is redundantly defined by the 'color' keyword argument and the fmt string \"k--\" (-> color='k'). The keyword argument will take precedence.\n",
      "  ax.plot([0, 1], [0, 1], 'k--',color='blue')\n"
     ]
    },
    {
     "output_type": "display_data",
     "data": {
      "text/plain": [
       "<Figure size 432x288 with 1 Axes>"
      ],
      "image/png": "[encoded data removed]"
     },
     "metadata": {
      "needs_background": "light"
     }
    }
   ],
   "metadata": {}
  },
  {
   "cell_type": "code",
   "execution_count": 30,
   "source": [
    "from sklearn.dummy import DummyClassifier\n",
    "s ='most_frequent'\n",
    "\n",
    "test_scores = []\n",
    "dclf = DummyClassifier(strategy = s, random_state = 0)\n",
    "dclf.fit(X_train, y_train)\n",
    "score = dclf.score(X_test, y_test)\n",
    "test_scores.append(score)\n",
    "print (test_scores)"
   ],
   "outputs": [
    {
     "output_type": "stream",
     "name": "stdout",
     "text": [
      "[0.6902020277384002]\n"
     ]
    }
   ],
   "metadata": {}
  },
  {
   "cell_type": "code",
   "execution_count": 31,
   "source": [
    "df.loc[df['stop_outcome']==0,'stop_outcome'].count() # to check for the corecctness of the dummy classifier"
   ],
   "outputs": [
    {
     "output_type": "execute_result",
     "data": {
      "text/plain": [
       "123814"
      ]
     },
     "metadata": {},
     "execution_count": 31
    }
   ],
   "metadata": {}
  },
  {
   "cell_type": "code",
   "execution_count": 32,
   "source": [
    "# calculate it manually "
   ],
   "outputs": [],
   "metadata": {}
  },
  {
   "cell_type": "code",
   "execution_count": 33,
   "source": [
    "X_train_fair = X_train.drop('driver_race',axis=1)\n",
    "X_test_fair = X_test.drop('driver_race', axis=1)"
   ],
   "outputs": [],
   "metadata": {}
  },
  {
   "cell_type": "code",
   "execution_count": 34,
   "source": [
    "X_train_fair.head()\n"
   ],
   "outputs": [
    {
     "output_type": "execute_result",
     "data": {
      "text/plain": [
       "        driver_gender  driver_age  violation  search_type  contraband_found  \\\n",
       "126852              1          39          2            2                 0   \n",
       "393530              1          42          2            2                 0   \n",
       "254797              1          27          2            2                 0   \n",
       "271179              1          50          2            2                 0   \n",
       "272000              1          42          2            2                 0   \n",
       "\n",
       "        stop_outcome  search_basis  officer_id  drugs_related_stop  district  \n",
       "126852             1            18        2224                   1        55  \n",
       "393530             1            18        1942                   1        31  \n",
       "254797             1            18        1496                   1        56  \n",
       "271179             1            18         239                   1         9  \n",
       "272000             1            18        1836                   1        40  "
      ],
      "text/html": [
       "<div>\n",
       "<style scoped>\n",
       "    .dataframe tbody tr th:only-of-type {\n",
       "        vertical-align: middle;\n",
       "    }\n",
       "\n",
       "    .dataframe tbody tr th {\n",
       "        vertical-align: top;\n",
       "    }\n",
       "\n",
       "    .dataframe thead th {\n",
       "        text-align: right;\n",
       "    }\n",
       "</style>\n",
       "<table border=\"1\" class=\"dataframe\">\n",
       "  <thead>\n",
       "    <tr style=\"text-align: right;\">\n",
       "      <th></th>\n",
       "      <th>driver_gender</th>\n",
       "      <th>driver_age</th>\n",
       "      <th>violation</th>\n",
       "      <th>search_type</th>\n",
       "      <th>contraband_found</th>\n",
       "      <th>stop_outcome</th>\n",
       "      <th>search_basis</th>\n",
       "      <th>officer_id</th>\n",
       "      <th>drugs_related_stop</th>\n",
       "      <th>district</th>\n",
       "    </tr>\n",
       "  </thead>\n",
       "  <tbody>\n",
       "    <tr>\n",
       "      <th>126852</th>\n",
       "      <td>1</td>\n",
       "      <td>39</td>\n",
       "      <td>2</td>\n",
       "      <td>2</td>\n",
       "      <td>0</td>\n",
       "      <td>1</td>\n",
       "      <td>18</td>\n",
       "      <td>2224</td>\n",
       "      <td>1</td>\n",
       "      <td>55</td>\n",
       "    </tr>\n",
       "    <tr>\n",
       "      <th>393530</th>\n",
       "      <td>1</td>\n",
       "      <td>42</td>\n",
       "      <td>2</td>\n",
       "      <td>2</td>\n",
       "      <td>0</td>\n",
       "      <td>1</td>\n",
       "      <td>18</td>\n",
       "      <td>1942</td>\n",
       "      <td>1</td>\n",
       "      <td>31</td>\n",
       "    </tr>\n",
       "    <tr>\n",
       "      <th>254797</th>\n",
       "      <td>1</td>\n",
       "      <td>27</td>\n",
       "      <td>2</td>\n",
       "      <td>2</td>\n",
       "      <td>0</td>\n",
       "      <td>1</td>\n",
       "      <td>18</td>\n",
       "      <td>1496</td>\n",
       "      <td>1</td>\n",
       "      <td>56</td>\n",
       "    </tr>\n",
       "    <tr>\n",
       "      <th>271179</th>\n",
       "      <td>1</td>\n",
       "      <td>50</td>\n",
       "      <td>2</td>\n",
       "      <td>2</td>\n",
       "      <td>0</td>\n",
       "      <td>1</td>\n",
       "      <td>18</td>\n",
       "      <td>239</td>\n",
       "      <td>1</td>\n",
       "      <td>9</td>\n",
       "    </tr>\n",
       "    <tr>\n",
       "      <th>272000</th>\n",
       "      <td>1</td>\n",
       "      <td>42</td>\n",
       "      <td>2</td>\n",
       "      <td>2</td>\n",
       "      <td>0</td>\n",
       "      <td>1</td>\n",
       "      <td>18</td>\n",
       "      <td>1836</td>\n",
       "      <td>1</td>\n",
       "      <td>40</td>\n",
       "    </tr>\n",
       "  </tbody>\n",
       "</table>\n",
       "</div>"
      ]
     },
     "metadata": {},
     "execution_count": 34
    }
   ],
   "metadata": {}
  },
  {
   "cell_type": "code",
   "execution_count": 35,
   "source": [
    "search.fit(X_train_fair,y_train)"
   ],
   "outputs": [
    {
     "output_type": "execute_result",
     "data": {
      "text/plain": [
       "GridSearchCV(cv=5, estimator=KNeighborsClassifier(), n_jobs=-1,\n",
       "             param_grid={'n_neighbors': [5, 10, 15]}, return_train_score=True,\n",
       "             scoring='accuracy')"
      ]
     },
     "metadata": {},
     "execution_count": 35
    }
   ],
   "metadata": {}
  },
  {
   "cell_type": "code",
   "execution_count": 36,
   "source": [
    "y_pred_fair = search.best_estimator_.predict(X_test_fair)"
   ],
   "outputs": [],
   "metadata": {}
  },
  {
   "cell_type": "code",
   "execution_count": 37,
   "source": [
    "cm = confusion_matrix(y_test, y_pred_fair)\n",
    "tn, fp, fn, tp = cm.ravel()\n",
    "plot_confusion_matrix(search, X_test_fair, y_test) "
   ],
   "outputs": [
    {
     "output_type": "execute_result",
     "data": {
      "text/plain": [
       "<sklearn.metrics._plot.confusion_matrix.ConfusionMatrixDisplay at 0x1d42540ba60>"
      ]
     },
     "metadata": {},
     "execution_count": 37
    },
    {
     "output_type": "display_data",
     "data": {
      "text/plain": [
       "<Figure size 432x288 with 2 Axes>"
      ],
      "image/png": "[encoded data removed]"
     },
     "metadata": {
      "needs_background": "light"
     }
    }
   ],
   "metadata": {}
  },
  {
   "cell_type": "code",
   "execution_count": 38,
   "source": [
    "print(search.best_score_)"
   ],
   "outputs": [
    {
     "output_type": "stream",
     "name": "stdout",
     "text": [
      "0.9463902508349321\n"
     ]
    }
   ],
   "metadata": {}
  },
  {
   "cell_type": "code",
   "execution_count": 39,
   "source": [
    "X_train_fair = X_train.drop(columns=['driver_race','driver_gender','officer_id'],axis=1)\n",
    "X_test_fair = X_test.drop(columns=['driver_race','driver_gender','officer_id'], axis=1)"
   ],
   "outputs": [],
   "metadata": {
    "tags": []
   }
  },
  {
   "cell_type": "code",
   "execution_count": 40,
   "source": [
    "search.fit(X_train_fair,y_train)"
   ],
   "outputs": [
    {
     "output_type": "execute_result",
     "data": {
      "text/plain": [
       "GridSearchCV(cv=5, estimator=KNeighborsClassifier(), n_jobs=-1,\n",
       "             param_grid={'n_neighbors': [5, 10, 15]}, return_train_score=True,\n",
       "             scoring='accuracy')"
      ]
     },
     "metadata": {},
     "execution_count": 40
    }
   ],
   "metadata": {}
  },
  {
   "cell_type": "code",
   "execution_count": 41,
   "source": [
    "y_pred_fair = search.best_estimator_.predict(X_test_fair)"
   ],
   "outputs": [],
   "metadata": {}
  },
  {
   "cell_type": "code",
   "execution_count": 42,
   "source": [
    "cm = confusion_matrix(y_test, y_pred_fair)\n",
    "tn_, fp_, fn_, tp_ = cm.ravel()\n",
    "plot_confusion_matrix(search, X_test_fair, y_test) "
   ],
   "outputs": [
    {
     "output_type": "execute_result",
     "data": {
      "text/plain": [
       "<sklearn.metrics._plot.confusion_matrix.ConfusionMatrixDisplay at 0x1d46ac52c10>"
      ]
     },
     "metadata": {},
     "execution_count": 42
    },
    {
     "output_type": "display_data",
     "data": {
      "text/plain": [
       "<Figure size 432x288 with 2 Axes>"
      ],
      "image/png": "[encoded data removed]"
     },
     "metadata": {
      "needs_background": "light"
     }
    }
   ],
   "metadata": {}
  },
  {
   "cell_type": "code",
   "execution_count": 43,
   "source": [
    "print(search.best_score_)"
   ],
   "outputs": [
    {
     "output_type": "stream",
     "name": "stdout",
     "text": [
      "0.986527392879983\n"
     ]
    }
   ],
   "metadata": {}
  },
  {
   "cell_type": "code",
   "execution_count": 44,
   "source": [
    "sep_ = separation(tn_,fp_,fn_,tp_)\n",
    "suf_ = sufficiency(tn_, fp_, fn_, tp_)\n",
    "ind_ = independence (tp_,tn_,fn_,fp_ )"
   ],
   "outputs": [],
   "metadata": {}
  },
  {
   "cell_type": "code",
   "execution_count": 45,
   "source": [
    "print (sep_)\n",
    "print(suf_)\n",
    "print(ind_)"
   ],
   "outputs": [
    {
     "output_type": "stream",
     "name": "stdout",
     "text": [
      "(0.9892872942048566, 0.9861036011679464)\n",
      "(0.9938263449319577, 0.023976451699223977)\n",
      "0.6933688146103277\n"
     ]
    }
   ],
   "metadata": {}
  },
  {
   "cell_type": "code",
   "execution_count": null,
   "source": [],
   "outputs": [],
   "metadata": {}
  }
 ],
 "metadata": {
  "interpreter": {
   "hash": "183b68252ecf3199c4fda32ff0d233f3a576b0292d6144c07af0a6aeab49c2d5"
  },
  "kernelspec": {
   "name": "python3",
   "display_name": "Python 3.8.5 64-bit ('machine': conda)"
  },
  "language_info": {
   "codemirror_mode": {
    "name": "ipython",
    "version": 3
   },
   "file_extension": ".py",
   "mimetype": "text/x-python",
   "name": "python",
   "nbconvert_exporter": "python",
   "pygments_lexer": "ipython3",
   "version": "3.8.5"
  }
 },
 "nbformat": 4,
 "nbformat_minor": 5
}