{
<<<<<<< HEAD
 "cells": [
  {
   "cell_type": "markdown",
   "id": "dc6cd7fa",
   "metadata": {},
   "source": [
    "# NCS\n",
    "## Loading basic libraries and testing the virtual environment"
   ]
  },
  {
   "cell_type": "code",
   "execution_count": 53,
   "id": "35f4c7b6",
   "metadata": {},
   "outputs": [],
   "source": [
    "import matplotlib.pyplot as plt\n",
    "import numpy as np\n",
    "import pandas as pd\n",
    "from pathlib import Path\n",
    "import sklearn\n",
    "import seaborn as sns\n",
    "#import tensorflow as tf\n",
    "#import tensorflow_datasets as tfds\n",
    "from sklearn.svm import  SVC\n",
    "from sklearn.model_selection import GridSearchCV\n",
    "from sklearn.svm import LinearSVC"
   ]
  },
  {
   "cell_type": "code",
   "execution_count": 47,
   "id": "a2ee7981",
   "metadata": {},
   "outputs": [
    {
     "name": "stdout",
     "output_type": "stream",
     "text": [
      "The scikit-learn version is 0.24.1.\n"
     ]
    }
   ],
   "source": [
    "print('The scikit-learn version is {}.'.format(sklearn.__version__))"
   ]
  },
  {
   "cell_type": "code",
   "execution_count": 48,
   "id": "8f22f5dc",
   "metadata": {},
   "outputs": [],
   "source": [
    "df = pd.read_csv(\"../dataset/NC_policing.csv\")\n"
   ]
  },
  {
   "cell_type": "code",
   "execution_count": 49,
   "id": "b3f7d23f",
   "metadata": {},
   "outputs": [
    {
     "name": "stdout",
     "output_type": "stream",
     "text": [
      "  state   stop_date driver_gender  driver_age driver_race_raw driver_race  \\\n",
      "0    NC  2000-07-31             M        23.0             W N       White   \n",
      "1    NC  2000-07-31             F        29.0             W N       White   \n",
      "2    NC  2000-07-31             F        49.0             B N       Black   \n",
      "3    NC  2000-07-31             M        29.0             B N       Black   \n",
      "4    NC  2000-07-31             M        24.0             U H    Hispanic   \n",
      "\n",
      "  violation          search_type  contraband_found stop_outcome  \\\n",
      "0  Speeding  No Search Conducted             False       Arrest   \n",
      "1  Speeding  No Search Conducted             False       Arrest   \n",
      "2  Speeding  No Search Conducted             False       Arrest   \n",
      "3  Speeding  No Search Conducted             False       Arrest   \n",
      "4  Speeding  No Search Conducted             False       Arrest   \n",
      "\n",
      "          search_basis  officer_id drugs_related_stop district  \n",
      "0  No Search Conducted       10606                NaN       E3  \n",
      "1  No Search Conducted       10606                NaN       E3  \n",
      "2  No Search Conducted       10606                NaN       E3  \n",
      "3  No Search Conducted       10606                NaN       E3  \n",
      "4  No Search Conducted       10606                NaN       E3  \n",
      "state                  object\n",
      "stop_date              object\n",
      "driver_gender          object\n",
      "driver_age            float64\n",
      "driver_race_raw        object\n",
      "driver_race            object\n",
      "violation              object\n",
      "search_type            object\n",
      "contraband_found         bool\n",
      "stop_outcome           object\n",
      "search_basis           object\n",
      "officer_id              int64\n",
      "drugs_related_stop     object\n",
      "district               object\n",
      "dtype: object\n"
     ]
=======
  "nbformat": 4,
  "nbformat_minor": 5,
  "metadata": {
    "interpreter": {
      "hash": "183b68252ecf3199c4fda32ff0d233f3a576b0292d6144c07af0a6aeab49c2d5"
    },
    "kernelspec": {
      "display_name": "machine",
      "language": "python",
      "name": "machine"
    },
    "language_info": {
      "codemirror_mode": {
        "name": "ipython",
        "version": 3
      },
      "file_extension": ".py",
      "mimetype": "text/x-python",
      "name": "python",
      "nbconvert_exporter": "python",
      "pygments_lexer": "ipython3",
      "version": "3.8.5"
    },
    "colab": {
      "name": "main.ipynb",
      "provenance": [],
      "include_colab_link": true
>>>>>>> c90caeba379a82a9b1937dcddaaf050da6694047
    }
  },
<<<<<<< HEAD
  {
   "cell_type": "code",
   "execution_count": 55,
   "id": "e046c81d",
   "metadata": {},
   "outputs": [
    {
     "data": {
      "text/plain": [
       "Text(0.5, 1.0, 'Correlation between features')"
      ]
     },
     "execution_count": 55,
     "metadata": {},
     "output_type": "execute_result"
    },
    {
     "data": {
      "image/png": "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\n",
      "text/plain": [
       "<Figure size 432x288 with 2 Axes>"
      ]
     },
     "metadata": {
      "needs_background": "light"
     },
     "output_type": "display_data"
    }
   ],
   "source": []
  },
  {
   "cell_type": "code",
   "execution_count": 5,
   "id": "3fb130d9",
   "metadata": {},
   "outputs": [],
   "source": [
    "y= df['stop_outcome']\n",
    "X= df.drop(columns=['state','driver_race_raw','stop_date'])\n",
    "# drop the drugs _ related_stop \n"
   ]
  },
  {
   "cell_type": "code",
   "execution_count": 6,
   "id": "2f4ea1f7",
   "metadata": {},
   "outputs": [],
   "source": [
    "df.isna().sum()\n",
    "X= df.drop(columns=['drugs_related_stop'])"
   ]
  },
  {
   "cell_type": "code",
   "execution_count": 7,
   "id": "27ca2b32",
   "metadata": {},
   "outputs": [],
   "source": [
    "df[\"driver_age\"].fillna(df[\"driver_age\"].mean(), inplace = True) "
   ]
  },
  {
   "cell_type": "code",
   "execution_count": 8,
   "id": "fcb3a3ab",
   "metadata": {},
   "outputs": [
=======
  "cells": [
    {
      "cell_type": "markdown",
      "metadata": {
        "id": "view-in-github",
        "colab_type": "text"
      },
      "source": [
        "<a href=\"https://colab.research.google.com/github/Heatdh/MIUG-Proj/blob/main/src/main.ipynb\" target=\"_parent\"><img src=\"https://colab.research.google.com/assets/colab-badge.svg\" alt=\"Open In Colab\"/></a>"
      ]
    },
>>>>>>> c90caeba379a82a9b1937dcddaaf050da6694047
    {
      "cell_type": "markdown",
      "metadata": {
        "id": "dc6cd7fa"
      },
      "source": [
        "\n",
        "    # Checking your venv for having necesarry packages and importing basic libs as trial"
      ],
      "id": "dc6cd7fa"
    },
    {
      "cell_type": "code",
      "metadata": {
        "id": "35f4c7b6"
      },
      "source": [
        "import matplotlib.pyplot as plt\n",
        "import numpy as np\n",
        "import pandas as pd\n",
        "from pathlib import Path\n",
        "#import tensorflow as tf\n",
        "#import tensorflow_datasets as tfds\n",
        "from sklearn.svm import  SVC\n",
        "from sklearn.model_selection import GridSearchCV\n",
        "from sklearn.svm import LinearSVC"
      ],
      "id": "35f4c7b6",
      "execution_count": 3,
      "outputs": []
    },
    {
      "cell_type": "code",
      "metadata": {
        "id": "FwrSuNB1nlj0",
        "outputId": "5d77c917-8f21-4728-aa52-3dcaa975bc77",
        "colab": {
          "base_uri": "https://localhost:8080/",
          "height": 289
        }
      },
      "source": [
        "!pip uninstall scikit-learn -y\n",
        "!pip install -U scikit-learn\n"
      ],
      "id": "FwrSuNB1nlj0",
      "execution_count": 4,
      "outputs": [
        {
          "output_type": "stream",
          "text": [
            "Found existing installation: scikit-learn 0.24.2\n",
            "Uninstalling scikit-learn-0.24.2:\n",
            "  Successfully uninstalled scikit-learn-0.24.2\n",
            "Collecting scikit-learn\n",
            "  Using cached scikit_learn-0.24.2-cp37-cp37m-manylinux2010_x86_64.whl (22.3 MB)\n",
            "Requirement already satisfied: joblib>=0.11 in /usr/local/lib/python3.7/dist-packages (from scikit-learn) (1.0.1)\n",
            "Requirement already satisfied: threadpoolctl>=2.0.0 in /usr/local/lib/python3.7/dist-packages (from scikit-learn) (2.2.0)\n",
            "Requirement already satisfied: scipy>=0.19.1 in /usr/local/lib/python3.7/dist-packages (from scikit-learn) (1.4.1)\n",
            "Requirement already satisfied: numpy>=1.13.3 in /usr/local/lib/python3.7/dist-packages (from scikit-learn) (1.19.5)\n",
            "Installing collected packages: scikit-learn\n",
            "Successfully installed scikit-learn-0.24.2\n"
          ],
          "name": "stdout"
        },
        {
          "output_type": "display_data",
          "data": {
            "application/vnd.colab-display-data+json": {
              "pip_warning": {
                "packages": [
                  "sklearn"
                ]
              }
            }
          },
          "metadata": {}
        }
      ]
<<<<<<< HEAD
     },
     "execution_count": 8,
     "metadata": {},
     "output_type": "execute_result"
    }
   ],
   "source": [
    "from sklearn.preprocessing import LabelEncoder\n",
    "le = LabelEncoder()\n",
    "col= [\"driver_gender\",\"driver_race_raw\",\"driver_race\",\"violation\",\"search_type\",\"contraband_found\",\n",
    "      \"stop_outcome\",\"search_basis\",\"officer_id\",\"district\",\"drugs_related_stop\"\n",
    "]\n",
    "df_encoded = df\n",
    "df_encoded[col]=df_encoded[col].apply(lambda col: le.fit_transform(col))\n",
    "df_encoded.head()"
   ]
  },
  {
   "cell_type": "code",
   "execution_count": 9,
   "id": "c84d53eb",
   "metadata": {},
   "outputs": [],
   "source": [
    "y= df_encoded['stop_outcome']\n",
    "X= df_encoded.drop(columns=['state','driver_race_raw','stop_date'])"
   ]
  },
  {
   "cell_type": "code",
   "execution_count": 10,
   "id": "ad9cc0fa",
   "metadata": {},
   "outputs": [
=======
    },
    {
      "cell_type": "code",
      "metadata": {
        "id": "8f22f5dc"
      },
      "source": [
        "#df = pd.read_csv(\"../dataset/NC_policing.csv\")\n",
        "# (temp) for google collab use --> direct csv file upload\n",
        "df = pd.read_csv(\"NC_policing.csv\")"
      ],
      "id": "8f22f5dc",
      "execution_count": 5,
      "outputs": []
    },
>>>>>>> c90caeba379a82a9b1937dcddaaf050da6694047
    {
      "cell_type": "code",
      "metadata": {
        "id": "b3f7d23f",
        "outputId": "2c46a4ec-f7e0-4ac8-b8a8-38f894d141bf",
        "colab": {
          "base_uri": "https://localhost:8080/"
        }
      },
      "source": [
        "print (df.head())\n",
        "print (df.dtypes)"
      ],
      "id": "b3f7d23f",
      "execution_count": 6,
      "outputs": [
        {
          "output_type": "stream",
          "text": [
            "  state   stop_date driver_gender  ...  officer_id drugs_related_stop district\n",
            "0    NC  2000-07-31             M  ...       10606                NaN       E3\n",
            "1    NC  2000-07-31             F  ...       10606                NaN       E3\n",
            "2    NC  2000-07-31             F  ...       10606                NaN       E3\n",
            "3    NC  2000-07-31             M  ...       10606                NaN       E3\n",
            "4    NC  2000-07-31             M  ...       10606                NaN       E3\n",
            "\n",
            "[5 rows x 14 columns]\n",
            "state                  object\n",
            "stop_date              object\n",
            "driver_gender          object\n",
            "driver_age            float64\n",
            "driver_race_raw        object\n",
            "driver_race            object\n",
            "violation              object\n",
            "search_type            object\n",
            "contraband_found         bool\n",
            "stop_outcome           object\n",
            "search_basis           object\n",
            "officer_id              int64\n",
            "drugs_related_stop     object\n",
            "district               object\n",
            "dtype: object\n"
          ],
          "name": "stdout"
        }
      ]
<<<<<<< HEAD
     },
     "execution_count": 10,
     "metadata": {},
     "output_type": "execute_result"
    }
   ],
   "source": [
    "X.head()"
   ]
  },
  {
   "cell_type": "code",
   "execution_count": 11,
   "id": "d517a57c",
   "metadata": {},
   "outputs": [
    {
     "name": "stdout",
     "output_type": "stream",
     "text": [
      "<class 'pandas.core.frame.DataFrame'>\n",
      "RangeIndex: 402087 entries, 0 to 402086\n",
      "Data columns (total 14 columns):\n",
      " #   Column              Non-Null Count   Dtype  \n",
      "---  ------              --------------   -----  \n",
      " 0   state               402087 non-null  object \n",
      " 1   stop_date           402087 non-null  object \n",
      " 2   driver_gender       402087 non-null  int32  \n",
      " 3   driver_age          402087 non-null  float64\n",
      " 4   driver_race_raw     402087 non-null  int32  \n",
      " 5   driver_race         402087 non-null  int32  \n",
      " 6   violation           402087 non-null  int32  \n",
      " 7   search_type         402087 non-null  int32  \n",
      " 8   contraband_found    402087 non-null  int64  \n",
      " 9   stop_outcome        402087 non-null  int32  \n",
      " 10  search_basis        402087 non-null  int32  \n",
      " 11  officer_id          402087 non-null  int64  \n",
      " 12  drugs_related_stop  402087 non-null  int32  \n",
      " 13  district            402087 non-null  int32  \n",
      "dtypes: float64(1), int32(9), int64(2), object(2)\n",
      "memory usage: 29.1+ MB\n",
      "None\n"
     ]
    }
   ],
   "source": [
    "df_encoded.isna().sum()\n",
    "print(df.info())"
   ]
  },
  {
   "cell_type": "markdown",
   "id": "f43cb568",
   "metadata": {},
   "source": [
    "Model"
   ]
  },
  {
   "cell_type": "code",
   "execution_count": 12,
   "id": "8e569a0d",
   "metadata": {},
   "outputs": [
=======
    },
    {
      "cell_type": "code",
      "metadata": {
        "id": "3fb130d9"
      },
      "source": [
        "y= df['stop_outcome']\n",
        "X= df.drop(columns=['state','driver_race_raw','stop_date'])"
      ],
      "id": "3fb130d9",
      "execution_count": 7,
      "outputs": []
    },
>>>>>>> c90caeba379a82a9b1937dcddaaf050da6694047
    {
      "cell_type": "code",
      "metadata": {
        "id": "2f4ea1f7",
        "outputId": "3525656e-aa31-477e-e1e1-43463e01c6ef",
        "colab": {
          "base_uri": "https://localhost:8080/"
        }
      },
      "source": [
        "df.isna().sum()\n",
        "# should we drop drugs related stops ?? \n"
      ],
      "id": "2f4ea1f7",
      "execution_count": 8,
      "outputs": [
        {
          "output_type": "execute_result",
          "data": {
            "text/plain": [
              "state                      0\n",
              "stop_date                  0\n",
              "driver_gender              0\n",
              "driver_age                91\n",
              "driver_race_raw            0\n",
              "driver_race                0\n",
              "violation                  0\n",
              "search_type                0\n",
              "contraband_found           0\n",
              "stop_outcome               0\n",
              "search_basis               0\n",
              "officer_id                 0\n",
              "drugs_related_stop    397708\n",
              "district                  38\n",
              "dtype: int64"
            ]
          },
          "metadata": {},
          "execution_count": 8
        }
      ]
<<<<<<< HEAD
     },
     "execution_count": 12,
     "metadata": {},
     "output_type": "execute_result"
    }
   ],
   "source": [
    "from sklearn.model_selection import train_test_split\n",
    "X= X.astype(int)\n",
    "X_train, X_test, y_train, y_test = train_test_split(X, y, test_size = 0.3,random_state=200) \n",
    "X.dtypes"
   ]
  },
  {
   "cell_type": "code",
   "execution_count": 57,
   "id": "6850287c",
   "metadata": {},
   "outputs": [
    {
     "data": {
      "text/plain": [
       "Text(0.5, 1.0, 'Correlation between features')"
      ]
     },
     "execution_count": 57,
     "metadata": {},
     "output_type": "execute_result"
    },
    {
     "data": {
      "image/png": "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\n",
      "text/plain": [
       "<Figure size 792x792 with 2 Axes>"
      ]
     },
     "metadata": {
      "needs_background": "light"
     },
     "output_type": "display_data"
    }
   ],
   "source": [
    "corr = X.corr()\n",
    "plt.figure(figsize=(11,11))\n",
    "sns.heatmap(corr,vmax=.8, linewidths=0.01,\n",
    "           square=True,annot=True,cmap='YlGnBu',linecolor=\"white\")\n",
    "plt.title('Correlation between features')"
   ]
  },
  {
   "cell_type": "code",
   "execution_count": 13,
   "id": "2ec43509",
   "metadata": {},
   "outputs": [],
   "source": [
    "# testing with knn this is not a classifier \n",
    "from sklearn.neighbors import KNeighborsClassifier\n",
    "\n",
    "knn = KNeighborsClassifier(n_neighbors=15)\n",
    "knn.fit(X_train, y_train)\n",
    "y_pred = knn.predict(X_test)\n"
   ]
  },
  {
   "cell_type": "code",
   "execution_count": 14,
   "id": "158ee920",
   "metadata": {},
   "outputs": [
=======
    },
    {
      "cell_type": "code",
      "metadata": {
        "id": "haETleXmbxWA"
      },
      "source": [
        "X= df.drop(columns=['drugs_related_stop'])"
      ],
      "id": "haETleXmbxWA",
      "execution_count": 9,
      "outputs": []
    },
    {
      "cell_type": "code",
      "metadata": {
        "id": "27ca2b32"
      },
      "source": [
        "df[\"driver_age\"].fillna(df[\"driver_age\"].mean(), inplace = True) "
      ],
      "id": "27ca2b32",
      "execution_count": 10,
      "outputs": []
    },
    {
      "cell_type": "code",
      "metadata": {
        "id": "fcb3a3ab",
        "outputId": "a1c442f4-ca94-43d6-eff0-b686ea39bab0",
        "colab": {
          "base_uri": "https://localhost:8080/",
          "height": 309
        }
      },
      "source": [
        "from sklearn.preprocessing import LabelEncoder\n",
        "le = LabelEncoder()\n",
        "col= [\"driver_gender\",\"driver_race_raw\",\"driver_race\",\"violation\",\"search_type\",\"contraband_found\",\n",
        "      \"stop_outcome\",\"search_basis\",\"officer_id\",\"district\",\"drugs_related_stop\"\n",
        "]\n",
        "df_encoded = df\n",
        "df_encoded[col]=df_encoded[col].apply(lambda col: le.fit_transform(col))\n",
        "df_encoded.head()"
      ],
      "id": "fcb3a3ab",
      "execution_count": 11,
      "outputs": [
        {
          "output_type": "execute_result",
          "data": {
            "text/html": [
              "<div>\n",
              "<style scoped>\n",
              "    .dataframe tbody tr th:only-of-type {\n",
              "        vertical-align: middle;\n",
              "    }\n",
              "\n",
              "    .dataframe tbody tr th {\n",
              "        vertical-align: top;\n",
              "    }\n",
              "\n",
              "    .dataframe thead th {\n",
              "        text-align: right;\n",
              "    }\n",
              "</style>\n",
              "<table border=\"1\" class=\"dataframe\">\n",
              "  <thead>\n",
              "    <tr style=\"text-align: right;\">\n",
              "      <th></th>\n",
              "      <th>state</th>\n",
              "      <th>stop_date</th>\n",
              "      <th>driver_gender</th>\n",
              "      <th>driver_age</th>\n",
              "      <th>driver_race_raw</th>\n",
              "      <th>driver_race</th>\n",
              "      <th>violation</th>\n",
              "      <th>search_type</th>\n",
              "      <th>contraband_found</th>\n",
              "      <th>stop_outcome</th>\n",
              "      <th>search_basis</th>\n",
              "      <th>officer_id</th>\n",
              "      <th>drugs_related_stop</th>\n",
              "      <th>district</th>\n",
              "    </tr>\n",
              "  </thead>\n",
              "  <tbody>\n",
              "    <tr>\n",
              "      <th>0</th>\n",
              "      <td>NC</td>\n",
              "      <td>2000-07-31</td>\n",
              "      <td>1</td>\n",
              "      <td>23.0</td>\n",
              "      <td>9</td>\n",
              "      <td>4</td>\n",
              "      <td>6</td>\n",
              "      <td>2</td>\n",
              "      <td>0</td>\n",
              "      <td>0</td>\n",
              "      <td>18</td>\n",
              "      <td>722</td>\n",
              "      <td>1</td>\n",
              "      <td>34</td>\n",
              "    </tr>\n",
              "    <tr>\n",
              "      <th>1</th>\n",
              "      <td>NC</td>\n",
              "      <td>2000-07-31</td>\n",
              "      <td>0</td>\n",
              "      <td>29.0</td>\n",
              "      <td>9</td>\n",
              "      <td>4</td>\n",
              "      <td>6</td>\n",
              "      <td>2</td>\n",
              "      <td>0</td>\n",
              "      <td>0</td>\n",
              "      <td>18</td>\n",
              "      <td>722</td>\n",
              "      <td>1</td>\n",
              "      <td>34</td>\n",
              "    </tr>\n",
              "    <tr>\n",
              "      <th>2</th>\n",
              "      <td>NC</td>\n",
              "      <td>2000-07-31</td>\n",
              "      <td>0</td>\n",
              "      <td>49.0</td>\n",
              "      <td>3</td>\n",
              "      <td>1</td>\n",
              "      <td>6</td>\n",
              "      <td>2</td>\n",
              "      <td>0</td>\n",
              "      <td>0</td>\n",
              "      <td>18</td>\n",
              "      <td>722</td>\n",
              "      <td>1</td>\n",
              "      <td>34</td>\n",
              "    </tr>\n",
              "    <tr>\n",
              "      <th>3</th>\n",
              "      <td>NC</td>\n",
              "      <td>2000-07-31</td>\n",
              "      <td>1</td>\n",
              "      <td>29.0</td>\n",
              "      <td>3</td>\n",
              "      <td>1</td>\n",
              "      <td>6</td>\n",
              "      <td>2</td>\n",
              "      <td>0</td>\n",
              "      <td>0</td>\n",
              "      <td>18</td>\n",
              "      <td>722</td>\n",
              "      <td>1</td>\n",
              "      <td>34</td>\n",
              "    </tr>\n",
              "    <tr>\n",
              "      <th>4</th>\n",
              "      <td>NC</td>\n",
              "      <td>2000-07-31</td>\n",
              "      <td>1</td>\n",
              "      <td>24.0</td>\n",
              "      <td>6</td>\n",
              "      <td>2</td>\n",
              "      <td>6</td>\n",
              "      <td>2</td>\n",
              "      <td>0</td>\n",
              "      <td>0</td>\n",
              "      <td>18</td>\n",
              "      <td>722</td>\n",
              "      <td>1</td>\n",
              "      <td>34</td>\n",
              "    </tr>\n",
              "  </tbody>\n",
              "</table>\n",
              "</div>"
            ],
            "text/plain": [
              "  state   stop_date  driver_gender  ...  officer_id  drugs_related_stop  district\n",
              "0    NC  2000-07-31              1  ...         722                   1        34\n",
              "1    NC  2000-07-31              0  ...         722                   1        34\n",
              "2    NC  2000-07-31              0  ...         722                   1        34\n",
              "3    NC  2000-07-31              1  ...         722                   1        34\n",
              "4    NC  2000-07-31              1  ...         722                   1        34\n",
              "\n",
              "[5 rows x 14 columns]"
            ]
          },
          "metadata": {},
          "execution_count": 11
        }
      ]
    },
    {
      "cell_type": "code",
      "metadata": {
        "id": "c84d53eb"
      },
      "source": [
        "y= df_encoded['stop_outcome']\n",
        "X= df_encoded.drop(columns=['state','driver_race_raw','stop_date'])"
      ],
      "id": "c84d53eb",
      "execution_count": 12,
      "outputs": []
    },
>>>>>>> c90caeba379a82a9b1937dcddaaf050da6694047
    {
      "cell_type": "code",
      "metadata": {
        "id": "ad9cc0fa",
        "outputId": "9eb9d34f-9963-4457-b87b-0b08a70e4fe5",
        "colab": {
          "base_uri": "https://localhost:8080/",
          "height": 204
        }
      },
      "source": [
        "X.head()"
      ],
      "id": "ad9cc0fa",
      "execution_count": 13,
      "outputs": [
        {
          "output_type": "execute_result",
          "data": {
            "text/html": [
              "<div>\n",
              "<style scoped>\n",
              "    .dataframe tbody tr th:only-of-type {\n",
              "        vertical-align: middle;\n",
              "    }\n",
              "\n",
              "    .dataframe tbody tr th {\n",
              "        vertical-align: top;\n",
              "    }\n",
              "\n",
              "    .dataframe thead th {\n",
              "        text-align: right;\n",
              "    }\n",
              "</style>\n",
              "<table border=\"1\" class=\"dataframe\">\n",
              "  <thead>\n",
              "    <tr style=\"text-align: right;\">\n",
              "      <th></th>\n",
              "      <th>driver_gender</th>\n",
              "      <th>driver_age</th>\n",
              "      <th>driver_race</th>\n",
              "      <th>violation</th>\n",
              "      <th>search_type</th>\n",
              "      <th>contraband_found</th>\n",
              "      <th>stop_outcome</th>\n",
              "      <th>search_basis</th>\n",
              "      <th>officer_id</th>\n",
              "      <th>drugs_related_stop</th>\n",
              "      <th>district</th>\n",
              "    </tr>\n",
              "  </thead>\n",
              "  <tbody>\n",
              "    <tr>\n",
              "      <th>0</th>\n",
              "      <td>1</td>\n",
              "      <td>23.0</td>\n",
              "      <td>4</td>\n",
              "      <td>6</td>\n",
              "      <td>2</td>\n",
              "      <td>0</td>\n",
              "      <td>0</td>\n",
              "      <td>18</td>\n",
              "      <td>722</td>\n",
              "      <td>1</td>\n",
              "      <td>34</td>\n",
              "    </tr>\n",
              "    <tr>\n",
              "      <th>1</th>\n",
              "      <td>0</td>\n",
              "      <td>29.0</td>\n",
              "      <td>4</td>\n",
              "      <td>6</td>\n",
              "      <td>2</td>\n",
              "      <td>0</td>\n",
              "      <td>0</td>\n",
              "      <td>18</td>\n",
              "      <td>722</td>\n",
              "      <td>1</td>\n",
              "      <td>34</td>\n",
              "    </tr>\n",
              "    <tr>\n",
              "      <th>2</th>\n",
              "      <td>0</td>\n",
              "      <td>49.0</td>\n",
              "      <td>1</td>\n",
              "      <td>6</td>\n",
              "      <td>2</td>\n",
              "      <td>0</td>\n",
              "      <td>0</td>\n",
              "      <td>18</td>\n",
              "      <td>722</td>\n",
              "      <td>1</td>\n",
              "      <td>34</td>\n",
              "    </tr>\n",
              "    <tr>\n",
              "      <th>3</th>\n",
              "      <td>1</td>\n",
              "      <td>29.0</td>\n",
              "      <td>1</td>\n",
              "      <td>6</td>\n",
              "      <td>2</td>\n",
              "      <td>0</td>\n",
              "      <td>0</td>\n",
              "      <td>18</td>\n",
              "      <td>722</td>\n",
              "      <td>1</td>\n",
              "      <td>34</td>\n",
              "    </tr>\n",
              "    <tr>\n",
              "      <th>4</th>\n",
              "      <td>1</td>\n",
              "      <td>24.0</td>\n",
              "      <td>2</td>\n",
              "      <td>6</td>\n",
              "      <td>2</td>\n",
              "      <td>0</td>\n",
              "      <td>0</td>\n",
              "      <td>18</td>\n",
              "      <td>722</td>\n",
              "      <td>1</td>\n",
              "      <td>34</td>\n",
              "    </tr>\n",
              "  </tbody>\n",
              "</table>\n",
              "</div>"
            ],
            "text/plain": [
              "   driver_gender  driver_age  ...  drugs_related_stop  district\n",
              "0              1        23.0  ...                   1        34\n",
              "1              0        29.0  ...                   1        34\n",
              "2              0        49.0  ...                   1        34\n",
              "3              1        29.0  ...                   1        34\n",
              "4              1        24.0  ...                   1        34\n",
              "\n",
              "[5 rows x 11 columns]"
            ]
          },
          "metadata": {},
          "execution_count": 13
        }
      ]
    },
    {
      "cell_type": "code",
      "metadata": {
        "id": "d517a57c",
        "outputId": "e71d564a-d702-4816-81c3-6317e1178f78",
        "colab": {
          "base_uri": "https://localhost:8080/"
        }
      },
      "source": [
        "df_encoded.isna().sum()\n",
        "print(df.info())"
      ],
      "id": "d517a57c",
      "execution_count": 14,
      "outputs": [
        {
          "output_type": "stream",
          "text": [
            "<class 'pandas.core.frame.DataFrame'>\n",
            "RangeIndex: 402087 entries, 0 to 402086\n",
            "Data columns (total 14 columns):\n",
            " #   Column              Non-Null Count   Dtype  \n",
            "---  ------              --------------   -----  \n",
            " 0   state               402087 non-null  object \n",
            " 1   stop_date           402087 non-null  object \n",
            " 2   driver_gender       402087 non-null  int64  \n",
            " 3   driver_age          402087 non-null  float64\n",
            " 4   driver_race_raw     402087 non-null  int64  \n",
            " 5   driver_race         402087 non-null  int64  \n",
            " 6   violation           402087 non-null  int64  \n",
            " 7   search_type         402087 non-null  int64  \n",
            " 8   contraband_found    402087 non-null  int64  \n",
            " 9   stop_outcome        402087 non-null  int64  \n",
            " 10  search_basis        402087 non-null  int64  \n",
            " 11  officer_id          402087 non-null  int64  \n",
            " 12  drugs_related_stop  402087 non-null  int64  \n",
            " 13  district            402087 non-null  int64  \n",
            "dtypes: float64(1), int64(11), object(2)\n",
            "memory usage: 42.9+ MB\n",
            "None\n"
          ],
          "name": "stdout"
        }
      ]
<<<<<<< HEAD
     },
     "metadata": {
      "needs_background": "light"
     },
     "output_type": "display_data"
    }
   ],
   "source": [
    "from sklearn.metrics import plot_confusion_matrix\n",
    "# Plot the confusion matrix for the test set for the KNN classifier\n",
    "plt.figure()\n",
    "plot_confusion_matrix(knn, X_test, y_test)\n",
    "plt.title('confusion matrix of KNN for k=15')\n",
    "plt.show()\n"
   ]
  },
  {
   "cell_type": "code",
   "execution_count": 59,
   "id": "5c255c58-b9f9-4d08-b4ef-68baed1ed9c1",
   "metadata": {},
   "outputs": [
    {
     "data": {
      "text/plain": [
       "GridSearchCV(cv=5, estimator=KNeighborsClassifier(), n_jobs=-1,\n",
       "             param_grid={'n_neighbors': [5, 10, 15]}, return_train_score=True,\n",
       "             scoring='accuracy')"
      ]
     },
     "execution_count": 59,
     "metadata": {},
     "output_type": "execute_result"
    }
   ],
   "source": [
    "#first classifier without pca (no need for compression)\n",
    "from sklearn.model_selection import GridSearchCV\n",
    "from sklearn.pipeline import Pipeline\n",
    "from sklearn.preprocessing import StandardScaler\n",
    "from sklearn.decomposition import PCA\n",
    "from sklearn.model_selection import KFold\n",
    "num_splits = 5\n",
    "#kfold = KFold(n_splits=num_splits, random_state=10, shuffle=True)\n",
    "\n",
    "max_comp = X.shape[1]\n",
    "param_grid = { 'n_neighbors':[5,10,15]}\n",
    "\n",
    "#pipeline = Pipeline(steps=[('scaler',StandardScaler()), ('estimator', KNeighborsClassifier())])\n",
    "search = GridSearchCV(KNeighborsClassifier(),param_grid, n_jobs=-1, cv=5, scoring='accuracy', return_train_score=True)\n",
    "search.fit(X_train,y_train)"
   ]
  },
  {
   "cell_type": "code",
   "execution_count": 60,
   "id": "366f21d5-b72f-4949-8fa8-29ac407326b8",
   "metadata": {},
   "outputs": [
    {
     "name": "stdout",
     "output_type": "stream",
     "text": [
      "accuracy 0.9440879698713849\n",
      "{'n_neighbors': 5}\n"
     ]
    }
   ],
   "source": [
    "print(\"accuracy\" ,search.best_score_)\n",
    "print(search.best_params_)"
   ]
  },
  {
   "cell_type": "code",
   "execution_count": 61,
   "id": "cf093281",
   "metadata": {},
   "outputs": [],
   "source": [
    "best_estimator = search.best_estimator_\n",
    "y_pred = best_estimator.predict(X_test)\n",
    "\n",
    "from sklearn.metrics import confusion_matrix\n",
    "cm = confusion_matrix(y_test, y_pred)\n",
    "tn, fp, fn, tp = cm.ravel()"
   ]
  },
  {
   "cell_type": "code",
   "execution_count": null,
   "id": "a56ba3e1",
   "metadata": {},
   "outputs": [],
   "source": []
  },
  {
   "cell_type": "code",
   "execution_count": 18,
   "id": "f34693ae",
   "metadata": {},
   "outputs": [
    {
     "data": {
      "image/png": "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\n",
      "text/plain": [
       "<Figure size 432x288 with 1 Axes>"
      ]
     },
     "metadata": {
      "needs_background": "light"
     },
     "output_type": "display_data"
    }
   ],
   "source": [
    "# doesn't really make sense\n",
    "fig = plt.figure()\n",
    "plt.scatter(y_pred,y_test)\n",
    "plt.title (\"Reading score prediction with all features other than scores\")\n",
    "plt.xlabel(\"predicted  score\")\n",
    "plt.ylabel(\"actual score\")\n",
    "plt.plot([y_pred.min(),y_pred.max()],[y_test.min(),y_test.max()],color='orange')\n",
    "plt.show()"
   ]
  },
  {
   "cell_type": "code",
   "execution_count": 19,
   "id": "04fa6dcc-5982-4c45-9af8-2409af381de6",
   "metadata": {},
   "outputs": [
    {
     "name": "stderr",
     "output_type": "stream",
     "text": [
      "<ipython-input-19-1a236fa28ba0>:7: UserWarning: color is redundantly defined by the 'color' keyword argument and the fmt string \"k--\" (-> color='k'). The keyword argument will take precedence.\n",
      "  ax.plot([0, 1], [0, 1], 'k--',color='blue')\n"
     ]
=======
    },
    {
      "cell_type": "markdown",
      "metadata": {
        "id": "f43cb568"
      },
      "source": [
        "Model"
      ],
      "id": "f43cb568"
    },
    {
      "cell_type": "code",
      "metadata": {
        "id": "8e569a0d",
        "outputId": "62c192c7-7f40-4ae9-fe04-98425eba6d5d",
        "colab": {
          "base_uri": "https://localhost:8080/"
        }
      },
      "source": [
        "from sklearn.model_selection import train_test_split\n",
        "X= X.astype(int)\n",
        "X_train, X_test, y_train, y_test = train_test_split(X, y, test_size = 0.3,random_state=200) \n",
        "X.dtypes"
      ],
      "id": "8e569a0d",
      "execution_count": 15,
      "outputs": [
        {
          "output_type": "execute_result",
          "data": {
            "text/plain": [
              "driver_gender         int64\n",
              "driver_age            int64\n",
              "driver_race           int64\n",
              "violation             int64\n",
              "search_type           int64\n",
              "contraband_found      int64\n",
              "stop_outcome          int64\n",
              "search_basis          int64\n",
              "officer_id            int64\n",
              "drugs_related_stop    int64\n",
              "district              int64\n",
              "dtype: object"
            ]
          },
          "metadata": {},
          "execution_count": 15
        }
      ]
    },
    {
      "cell_type": "code",
      "metadata": {
        "id": "2ec43509"
      },
      "source": [
        "# testing with knn this is not a classifier \n",
        "from sklearn.neighbors import KNeighborsClassifier\n",
        "\n",
        "knn = KNeighborsClassifier(n_neighbors=15)\n",
        "knn.fit(X_train, y_train)\n",
        "y_pred = knn.predict(X_test)\n"
      ],
      "id": "2ec43509",
      "execution_count": 16,
      "outputs": []
    },
    {
      "cell_type": "code",
      "metadata": {
        "id": "158ee920",
        "outputId": "82bd7109-a357-4de8-a473-ff5c6239987e",
        "colab": {
          "base_uri": "https://localhost:8080/",
          "height": 312
        }
      },
      "source": [
        "from sklearn.metrics import plot_confusion_matrix\n",
        "# Plot the confusion matrix for the test set for the KNN classifier\n",
        "plt.figure()\n",
        "plot_confusion_matrix(knn, X_test, y_test)\n",
        "plt.title('confusion matrix of KNN for k=15')\n",
        "plt.show()\n"
      ],
      "id": "158ee920",
      "execution_count": 17,
      "outputs": [
        {
          "output_type": "display_data",
          "data": {
            "text/plain": [
              "<Figure size 432x288 with 0 Axes>"
            ]
          },
          "metadata": {}
        },
        {
          "output_type": "display_data",
          "data": {
            "image/png": "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\n",
            "text/plain": [
              "<Figure size 432x288 with 2 Axes>"
            ]
          },
          "metadata": {
            "needs_background": "light"
          }
        }
      ]
>>>>>>> c90caeba379a82a9b1937dcddaaf050da6694047
    },
    {
      "cell_type": "code",
      "metadata": {
        "id": "5c255c58-b9f9-4d08-b4ef-68baed1ed9c1",
        "outputId": "e6d80b96-08db-417e-ff45-139b58dc6b88",
        "colab": {
          "base_uri": "https://localhost:8080/"
        }
      },
      "source": [
        "#first classifier without pca (no need for compression)\n",
        "from sklearn.model_selection import GridSearchCV\n",
        "from sklearn.pipeline import Pipeline\n",
        "from sklearn.preprocessing import StandardScaler\n",
        "from sklearn.decomposition import PCA\n",
        "from sklearn.model_selection import KFold\n",
        "num_splits = 5\n",
        "#kfold = KFold(n_splits=num_splits, random_state=10, shuffle=True)\n",
        "\n",
        "max_comp = X.shape[1]\n",
        "param_grid = { 'n_neighbors':[5,10,15]}\n",
        "\n",
        "#pipeline = Pipeline(steps=[('scaler',StandardScaler()), ('estimator', KNeighborsClassifier())])\n",
        "search = GridSearchCV(KNeighborsClassifier(),param_grid, n_jobs=-1, cv=2, scoring='accuracy', return_train_score=True)\n",
        "search.fit(X_train,y_train)"
      ],
      "id": "5c255c58-b9f9-4d08-b4ef-68baed1ed9c1",
      "execution_count": 18,
      "outputs": [
        {
          "output_type": "execute_result",
          "data": {
            "text/plain": [
              "GridSearchCV(cv=2, estimator=KNeighborsClassifier(), n_jobs=-1,\n",
              "             param_grid={'n_neighbors': [5, 10, 15]}, return_train_score=True,\n",
              "             scoring='accuracy')"
            ]
          },
          "metadata": {},
          "execution_count": 18
        }
      ]
<<<<<<< HEAD
     },
     "metadata": {
      "needs_background": "light"
     },
     "output_type": "display_data"
    }
   ],
   "source": [
    "# Plot roc knn\n",
    "from sklearn.metrics import roc_curve\n",
    "y_pred_prob = search.best_estimator_.predict_proba(X_test)[:,1]\n",
    "fprc, tprc, thresholds = roc_curve(y_test, y_pred_prob)\n",
    "fig = plt.figure()\n",
    "ax = fig.add_subplot()\n",
    "ax.plot([0, 1], [0, 1], 'k--',color='blue')\n",
    "ax.plot(fprc, tprc,label='ROC curve',color='orange')\n",
    "ax.set_xlabel('False Positive Rate')\n",
    "ax.set_ylabel('True Positive Rate')\n",
    "plt.title('ROC Curve')\n",
    "plt.legend(loc=4)\n",
    "plt.show()"
   ]
  },
  {
   "cell_type": "markdown",
   "id": "e3fb0941",
   "metadata": {},
   "source": [
    "Metrics functions"
   ]
  },
  {
   "cell_type": "code",
   "execution_count": 20,
   "id": "f4f322cb",
   "metadata": {},
   "outputs": [],
   "source": [
    "\n",
    "def separation(tn, fp, fn, tp):\n",
    "   \n",
    "    Y_0 = tn / (tn + fn)\n",
    "    Y_1 = tp / (tp + fp)\n",
    "  \n",
    "    return Y_1, Y_0\n",
    "\n",
    "def sufficiency(tn, fp, fn, tp):\n",
    "    R_1 = tp / (tp + fn)\n",
    "    R_0 = fp / (fp + tn)\n",
    "    return R_1, R_0\n",
    "# switched tp and tn \n",
    "def independence (tp,tn,fn,fp ):\n",
    "    return (tp + fp) / (tn + fp + fn + tp)\n",
    "\n"
   ]
  },
  {
   "cell_type": "code",
   "execution_count": 21,
   "id": "e12b0965",
   "metadata": {},
   "outputs": [],
   "source": [
    "sep = separation(tn,fp,fn,tp)\n",
    "suf = sufficiency(tn, fp, fn, tp)\n",
    "ind = independence (tp,tn,fn,fp )"
   ]
  },
  {
   "cell_type": "code",
   "execution_count": 22,
   "id": "db60da8a",
   "metadata": {},
   "outputs": [
    {
     "name": "stdout",
     "output_type": "stream",
     "text": [
      "(0.9559779712204655, 0.9298463748894783)\n",
      "(0.9695040657242033, 0.09946481134599947)\n",
      "0.6999676689298415\n"
     ]
    }
   ],
   "source": [
    "print (sep)\n",
    "print(suf)\n",
    "print(ind)"
   ]
  },
  {
   "cell_type": "code",
   "execution_count": 23,
   "id": "b4ac97a5",
   "metadata": {},
   "outputs": [],
   "source": [
    "from sklearn.linear_model import LinearRegression"
   ]
  },
  {
   "cell_type": "code",
   "execution_count": 24,
   "id": "019a9b06-8011-4af0-b6db-51401c0754ef",
   "metadata": {},
   "outputs": [],
   "source": [
    "#pipeline = Pipeline(steps=[('scaler',StandardScaler()),('pca', PCA()), ('estimator', LinearRegression())])"
   ]
  },
  {
   "cell_type": "code",
   "execution_count": 25,
   "id": "7016efc1-4241-4d9b-aac4-2a8587f74e7f",
   "metadata": {},
   "outputs": [
=======
    },
    {
      "cell_type": "code",
      "metadata": {
        "id": "366f21d5-b72f-4949-8fa8-29ac407326b8",
        "outputId": "b7e7930a-7328-47d9-c80e-e8583dbd8491",
        "colab": {
          "base_uri": "https://localhost:8080/"
        }
      },
      "source": [
        "print(\"accuracy\" ,search.best_score_)\n",
        "print(search.best_params_)"
      ],
      "id": "366f21d5-b72f-4949-8fa8-29ac407326b8",
      "execution_count": 19,
      "outputs": [
        {
          "output_type": "stream",
          "text": [
            "accuracy 0.9368968947630214\n",
            "{'n_neighbors': 5}\n"
          ],
          "name": "stdout"
        }
      ]
    },
    {
      "cell_type": "code",
      "metadata": {
        "id": "cf093281"
      },
      "source": [
        "best_estimator = search.best_estimator_\n",
        "y_pred = best_estimator.predict(X_test)\n",
        "\n",
        "from sklearn.metrics import confusion_matrix\n",
        "cm = confusion_matrix(y_test, y_pred)\n",
        "tn, fp, fn, tp = cm.ravel()"
      ],
      "id": "cf093281",
      "execution_count": 20,
      "outputs": []
    },
>>>>>>> c90caeba379a82a9b1937dcddaaf050da6694047
    {
      "cell_type": "code",
      "metadata": {
        "id": "04fa6dcc-5982-4c45-9af8-2409af381de6",
        "outputId": "dfb9e7a9-d03c-4a54-ce7b-5c560aae6311",
        "colab": {
          "base_uri": "https://localhost:8080/",
          "height": 295
        }
      },
      "source": [
        "# Plot roc knn\n",
        "from sklearn.metrics import roc_curve\n",
        "y_pred_prob = search.best_estimator_.predict_proba(X_test)[:,1]\n",
        "fp, tp, thresholds = roc_curve(y_test, y_pred_prob)\n",
        "fig = plt.figure()\n",
        "ax = fig.add_subplot()\n",
        "ax.plot([0, 1], [0, 1], 'k--',color='blue')\n",
        "ax.plot(fp, tp,label='ROC curve',color='orange')\n",
        "ax.set_xlabel('False Positive Rate')\n",
        "ax.set_ylabel('True Positive Rate')\n",
        "plt.title('ROC Curve')\n",
        "plt.legend(loc=4)\n",
        "plt.show()"
      ],
      "id": "04fa6dcc-5982-4c45-9af8-2409af381de6",
      "execution_count": 21,
      "outputs": [
        {
          "output_type": "display_data",
          "data": {
            "image/png": "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\n",
            "text/plain": [
              "<Figure size 432x288 with 1 Axes>"
            ]
          },
          "metadata": {
            "needs_background": "light"
          }
        }
      ]
<<<<<<< HEAD
     },
     "execution_count": 25,
     "metadata": {},
     "output_type": "execute_result"
    }
   ],
   "source": [
    "from sklearn.linear_model import LogisticRegression\n",
    "from sklearn import decomposition\n",
    "std_slc = StandardScaler()\n",
    "logistic_Reg = LogisticRegression()\n",
    "pca = decomposition.PCA()\n",
    "pipe = Pipeline(steps=[('std_slc', std_slc),\n",
    "                           ('logistic_Reg', logistic_Reg)])\n",
    "#n_components = list(range(1,X.shape[1]))\n",
    "C = np.logspace(-4, 4, 2)\n",
    "parameters = dict(#pca__n_components=n_components,\n",
    "                  logistic_Reg__C=C)\n",
    "search_lin = GridSearchCV(pipe,parameters, cv=5, scoring='accuracy', return_train_score=True)\n",
    "search_lin.fit(X_train,y_train)\n"
   ]
  },
  {
   "cell_type": "code",
   "execution_count": 26,
   "id": "e6faf153-e924-4f44-b1ba-7b2687ea6a47",
   "metadata": {},
   "outputs": [
    {
     "name": "stdout",
     "output_type": "stream",
     "text": [
      "{'logistic_Reg__C': 10000.0}\n",
      "1.0\n"
     ]
    }
   ],
   "source": [
    "print(search_lin.best_params_)\n",
    "print(search_lin.best_score_)"
   ]
  },
  {
   "cell_type": "code",
   "execution_count": 27,
   "id": "2bd0ec60-db3e-491f-805c-0986edd1d313",
   "metadata": {},
   "outputs": [],
   "source": [
    "best_estimator = search.best_estimator_\n",
    "y_pred_lin = search_lin.best_estimator_.predict(X_test)"
   ]
  },
  {
   "cell_type": "code",
   "execution_count": 28,
   "id": "12a87f13-1566-4f3c-988f-347bc4af246b",
   "metadata": {},
   "outputs": [
=======
    },
    {
      "cell_type": "markdown",
      "metadata": {
        "id": "e3fb0941"
      },
      "source": [
        "Metrics functions"
      ],
      "id": "e3fb0941"
    },
    {
      "cell_type": "code",
      "metadata": {
        "id": "f4f322cb"
      },
      "source": [
        "\n",
        "def separation(tn, fp, fn, tp):\n",
        "   \n",
        "    Y_0 = tn / (tn + fn)\n",
        "    Y_1 = tp / (tp + fp)\n",
        "  \n",
        "    return Y_1, Y_0\n",
        "\n",
        "def sufficiency(tn, fp, fn, tp):\n",
        "    R_1 = tp / (tp + fn)\n",
        "    R_0 = fp / (fp + tn)\n",
        "    return R_1, R_0\n",
        "# switched tp and tn \n",
        "def independence (tp,tn,fn,fp ):\n",
        "    return (tp + fp) / (tn + fp + fn + tp)\n",
        "\n"
      ],
      "id": "f4f322cb",
      "execution_count": 22,
      "outputs": []
    },
>>>>>>> c90caeba379a82a9b1937dcddaaf050da6694047
    {
      "cell_type": "code",
      "metadata": {
        "id": "e12b0965",
        "outputId": "286c0f46-4a79-49fd-af8b-08b74b9c823c",
        "colab": {
          "base_uri": "https://localhost:8080/"
        }
      },
      "source": [
        "sep = separation(tn,fp,fn,tp)\n",
        "suf = sufficiency(tn, fp, fn, tp)\n",
        "ind = independence (tp,tn,fn,fp )"
      ],
      "id": "e12b0965",
      "execution_count": 23,
      "outputs": [
        {
          "output_type": "stream",
          "text": [
            "/usr/local/lib/python3.7/dist-packages/ipykernel_launcher.py:5: RuntimeWarning: invalid value encountered in true_divide\n",
            "  \"\"\"\n"
          ],
          "name": "stderr"
        }
      ]
    },
    {
      "cell_type": "code",
      "metadata": {
        "id": "db60da8a",
        "outputId": "bf5e7578-c673-4760-912f-9d56c5aed858",
        "colab": {
          "base_uri": "https://localhost:8080/"
        }
      },
      "source": [
        "print (sep)\n",
        "print(suf)\n",
        "print(ind)"
      ],
      "id": "db60da8a",
      "execution_count": 24,
      "outputs": [
        {
          "output_type": "stream",
          "text": [
            "(array([       nan, 0.9724877 , 0.94306755, 0.90695257, 0.85803534,\n",
            "       0.77883844, 0.5       ]), 0.9298463748894783)\n",
            "(array([0.        , 0.00036309, 0.00037503, 0.0003817 , 0.0003867 ,\n",
            "       0.00039089, 0.0003937 ]), array([0.00000000e+00, 7.75277885e-07, 1.70879038e-06, 2.95559140e-06,\n",
            "       4.82896770e-06, 8.37770840e-06, 2.97141499e-05]))\n",
            "[0.00000000e+00 2.62017673e-05 2.79080013e-05 2.95351819e-05\n",
            " 3.16281370e-05 3.52220918e-05 5.52577775e-05]\n"
          ],
          "name": "stdout"
        }
      ]
<<<<<<< HEAD
     },
     "metadata": {
      "needs_background": "light"
     },
     "output_type": "display_data"
    }
   ],
   "source": [
    "cm = confusion_matrix(y_test, y_pred_lin)\n",
    "tn, fp, fn, tp = cm.ravel()\n",
    "plot_confusion_matrix(search_lin, X_test, y_test)  \n",
    "print(cm)"
   ]
  },
  {
   "cell_type": "code",
   "execution_count": 29,
   "id": "4cdee71d-f887-4aa0-a688-4636a51f1651",
   "metadata": {},
   "outputs": [
    {
     "name": "stderr",
     "output_type": "stream",
     "text": [
      "<ipython-input-29-10a9d47d2815>:7: UserWarning: color is redundantly defined by the 'color' keyword argument and the fmt string \"k--\" (-> color='k'). The keyword argument will take precedence.\n",
      "  ax.plot([0, 1], [0, 1], 'k--',color='blue')\n"
     ]
=======
    },
    {
      "cell_type": "code",
      "metadata": {
        "id": "b4ac97a5"
      },
      "source": [
        "from sklearn.linear_model import LinearRegression"
      ],
      "id": "b4ac97a5",
      "execution_count": 25,
      "outputs": []
    },
    {
      "cell_type": "code",
      "metadata": {
        "id": "019a9b06-8011-4af0-b6db-51401c0754ef"
      },
      "source": [
        "#pipeline = Pipeline(steps=[('scaler',StandardScaler()),('pca', PCA()), ('estimator', LinearRegression())])"
      ],
      "id": "019a9b06-8011-4af0-b6db-51401c0754ef",
      "execution_count": 26,
      "outputs": []
>>>>>>> c90caeba379a82a9b1937dcddaaf050da6694047
    },
    {
      "cell_type": "code",
      "metadata": {
        "id": "7016efc1-4241-4d9b-aac4-2a8587f74e7f",
        "outputId": "6cb3acf1-b163-494f-a040-e068faef9d2d",
        "colab": {
          "base_uri": "https://localhost:8080/"
        }
      },
      "source": [
        "from sklearn.linear_model import LogisticRegression\n",
        "from sklearn import decomposition\n",
        "std_slc = StandardScaler()\n",
        "logistic_Reg = LogisticRegression()\n",
        "pca = decomposition.PCA()\n",
        "pipe = Pipeline(steps=[('std_slc', std_slc),\n",
        "                           ('logistic_Reg', logistic_Reg)])\n",
        "#n_components = list(range(1,X.shape[1]))\n",
        "C = np.logspace(-4, 4, 2)\n",
        "parameters = dict(#pca__n_components=n_components,\n",
        "                  logistic_Reg__C=C)\n",
        "search_lin = GridSearchCV(pipe,parameters, cv=5, scoring='accuracy', return_train_score=True)\n",
        "search_lin.fit(X_train,y_train)\n"
      ],
      "id": "7016efc1-4241-4d9b-aac4-2a8587f74e7f",
      "execution_count": 27,
      "outputs": [
        {
          "output_type": "execute_result",
          "data": {
            "text/plain": [
              "GridSearchCV(cv=5,\n",
              "             estimator=Pipeline(steps=[('std_slc', StandardScaler()),\n",
              "                                       ('logistic_Reg', LogisticRegression())]),\n",
              "             param_grid={'logistic_Reg__C': array([1.e-04, 1.e+04])},\n",
              "             return_train_score=True, scoring='accuracy')"
            ]
          },
          "metadata": {},
          "execution_count": 27
        }
      ]
<<<<<<< HEAD
     },
     "metadata": {
      "needs_background": "light"
     },
     "output_type": "display_data"
    }
   ],
   "source": [
    "# Plot\n",
    "from sklearn.metrics import roc_curve\n",
    "y_pred_prob = search_lin.best_estimator_.predict_proba(X_test)[:,1]\n",
    "fp, tp, thresholds = roc_curve(y_test, y_pred_prob)\n",
    "fig = plt.figure()\n",
    "ax = fig.add_subplot()\n",
    "ax.plot([0, 1], [0, 1], 'k--',color='blue')\n",
    "ax.plot(fp, tp,label='ROC curve',color='orange')\n",
    "ax.set_xlabel('False Positive Rate')\n",
    "ax.set_ylabel('True Positive Rate')\n",
    "plt.title('ROC Curve')\n",
    "plt.legend(loc=4)\n",
    "plt.show()"
   ]
  },
  {
   "cell_type": "code",
   "execution_count": 30,
   "id": "c1411e73-5a87-45b4-996d-4759b05c4513",
   "metadata": {},
   "outputs": [
    {
     "name": "stdout",
     "output_type": "stream",
     "text": [
      "[0.6902020277384002]\n"
     ]
    }
   ],
   "source": [
    "from sklearn.dummy import DummyClassifier\n",
    "s ='most_frequent'\n",
    "\n",
    "test_scores = []\n",
    "dclf = DummyClassifier(strategy = s, random_state = 0)\n",
    "dclf.fit(X_train, y_train)\n",
    "score = dclf.score(X_test, y_test)\n",
    "test_scores.append(score)\n",
    "print (test_scores)"
   ]
  },
  {
   "cell_type": "code",
   "execution_count": 31,
   "id": "33ade10b-2728-427f-a2a8-59f11fa3e34b",
   "metadata": {},
   "outputs": [
=======
    },
    {
      "cell_type": "code",
      "metadata": {
        "id": "e6faf153-e924-4f44-b1ba-7b2687ea6a47",
        "outputId": "c2a7a841-f15d-4f49-c2b6-c52dd75ff9ba",
        "colab": {
          "base_uri": "https://localhost:8080/"
        }
      },
      "source": [
        "print(search_lin.best_params_)\n",
        "print(search_lin.best_score_)"
      ],
      "id": "e6faf153-e924-4f44-b1ba-7b2687ea6a47",
      "execution_count": 28,
      "outputs": [
        {
          "output_type": "stream",
          "text": [
            "{'logistic_Reg__C': 10000.0}\n",
            "1.0\n"
          ],
          "name": "stdout"
        }
      ]
    },
>>>>>>> c90caeba379a82a9b1937dcddaaf050da6694047
    {
      "cell_type": "code",
      "metadata": {
        "id": "1yTD2MZat0Mm",
        "outputId": "ba82c3a0-60ba-4c45-b8a2-657931cdd0d3",
        "colab": {
          "base_uri": "https://localhost:8080/",
          "height": 589
        }
      },
      "source": [
        "#plot the result\n",
        "plt.figure(1, figsize=(4, 3))\n",
        "plt.scatter(X_train,y_train)\n",
        "plt.xlabel(\"Credit Balance\")\n",
        "plt.ylabel(\"Probability of Default\")\n",
        "plt.ylabel('y')\n",
        "plt.xlabel('X')\n",
        "plt.xticks(range(-5, 10))\n",
        "plt.yticks([0, 0.5, 1])\n",
        "plt.ylim(-.25, 1.25)\n",
        "plt.xlim(-4, 10)\n",
        "plt.legend(('Logistic Regression Model', 'Linear Regression Model'),\n",
        "           loc=\"lower right\", fontsize='small')\n",
        "plt.tight_layout()\n",
        "plt.show() "
      ],
      "id": "1yTD2MZat0Mm",
      "execution_count": 69,
      "outputs": [
        {
          "output_type": "error",
          "ename": "ValueError",
          "evalue": "ignored",
          "traceback": [
            "\u001b[0;31m---------------------------------------------------------------------------\u001b[0m",
            "\u001b[0;31mValueError\u001b[0m                                Traceback (most recent call last)",
            "\u001b[0;32m<ipython-input-69-dfa2f2ef5555>\u001b[0m in \u001b[0;36m<module>\u001b[0;34m()\u001b[0m\n\u001b[1;32m      1\u001b[0m \u001b[0;31m#plot the result\u001b[0m\u001b[0;34m\u001b[0m\u001b[0;34m\u001b[0m\u001b[0;34m\u001b[0m\u001b[0m\n\u001b[1;32m      2\u001b[0m \u001b[0mplt\u001b[0m\u001b[0;34m.\u001b[0m\u001b[0mfigure\u001b[0m\u001b[0;34m(\u001b[0m\u001b[0;36m1\u001b[0m\u001b[0;34m,\u001b[0m \u001b[0mfigsize\u001b[0m\u001b[0;34m=\u001b[0m\u001b[0;34m(\u001b[0m\u001b[0;36m4\u001b[0m\u001b[0;34m,\u001b[0m \u001b[0;36m3\u001b[0m\u001b[0;34m)\u001b[0m\u001b[0;34m)\u001b[0m\u001b[0;34m\u001b[0m\u001b[0;34m\u001b[0m\u001b[0m\n\u001b[0;32m----> 3\u001b[0;31m \u001b[0mplt\u001b[0m\u001b[0;34m.\u001b[0m\u001b[0mscatter\u001b[0m\u001b[0;34m(\u001b[0m\u001b[0mX_train\u001b[0m\u001b[0;34m,\u001b[0m\u001b[0my_train\u001b[0m\u001b[0;34m)\u001b[0m\u001b[0;34m\u001b[0m\u001b[0;34m\u001b[0m\u001b[0m\n\u001b[0m\u001b[1;32m      4\u001b[0m \u001b[0mplt\u001b[0m\u001b[0;34m.\u001b[0m\u001b[0mxlabel\u001b[0m\u001b[0;34m(\u001b[0m\u001b[0;34m\"Credit Balance\"\u001b[0m\u001b[0;34m)\u001b[0m\u001b[0;34m\u001b[0m\u001b[0;34m\u001b[0m\u001b[0m\n\u001b[1;32m      5\u001b[0m \u001b[0mplt\u001b[0m\u001b[0;34m.\u001b[0m\u001b[0mylabel\u001b[0m\u001b[0;34m(\u001b[0m\u001b[0;34m\"Probability of Default\"\u001b[0m\u001b[0;34m)\u001b[0m\u001b[0;34m\u001b[0m\u001b[0;34m\u001b[0m\u001b[0m\n",
            "\u001b[0;32m/usr/local/lib/python3.7/dist-packages/matplotlib/pyplot.py\u001b[0m in \u001b[0;36mscatter\u001b[0;34m(x, y, s, c, marker, cmap, norm, vmin, vmax, alpha, linewidths, verts, edgecolors, plotnonfinite, data, **kwargs)\u001b[0m\n\u001b[1;32m   2814\u001b[0m         \u001b[0mverts\u001b[0m\u001b[0;34m=\u001b[0m\u001b[0mverts\u001b[0m\u001b[0;34m,\u001b[0m \u001b[0medgecolors\u001b[0m\u001b[0;34m=\u001b[0m\u001b[0medgecolors\u001b[0m\u001b[0;34m,\u001b[0m\u001b[0;34m\u001b[0m\u001b[0;34m\u001b[0m\u001b[0m\n\u001b[1;32m   2815\u001b[0m         plotnonfinite=plotnonfinite, **({\"data\": data} if data is not\n\u001b[0;32m-> 2816\u001b[0;31m         None else {}), **kwargs)\n\u001b[0m\u001b[1;32m   2817\u001b[0m     \u001b[0msci\u001b[0m\u001b[0;34m(\u001b[0m\u001b[0m__ret\u001b[0m\u001b[0;34m)\u001b[0m\u001b[0;34m\u001b[0m\u001b[0;34m\u001b[0m\u001b[0m\n\u001b[1;32m   2818\u001b[0m     \u001b[0;32mreturn\u001b[0m \u001b[0m__ret\u001b[0m\u001b[0;34m\u001b[0m\u001b[0;34m\u001b[0m\u001b[0m\n",
            "\u001b[0;32m/usr/local/lib/python3.7/dist-packages/matplotlib/__init__.py\u001b[0m in \u001b[0;36minner\u001b[0;34m(ax, data, *args, **kwargs)\u001b[0m\n\u001b[1;32m   1563\u001b[0m     \u001b[0;32mdef\u001b[0m \u001b[0minner\u001b[0m\u001b[0;34m(\u001b[0m\u001b[0max\u001b[0m\u001b[0;34m,\u001b[0m \u001b[0;34m*\u001b[0m\u001b[0margs\u001b[0m\u001b[0;34m,\u001b[0m \u001b[0mdata\u001b[0m\u001b[0;34m=\u001b[0m\u001b[0;32mNone\u001b[0m\u001b[0;34m,\u001b[0m \u001b[0;34m**\u001b[0m\u001b[0mkwargs\u001b[0m\u001b[0;34m)\u001b[0m\u001b[0;34m:\u001b[0m\u001b[0;34m\u001b[0m\u001b[0;34m\u001b[0m\u001b[0m\n\u001b[1;32m   1564\u001b[0m         \u001b[0;32mif\u001b[0m \u001b[0mdata\u001b[0m \u001b[0;32mis\u001b[0m \u001b[0;32mNone\u001b[0m\u001b[0;34m:\u001b[0m\u001b[0;34m\u001b[0m\u001b[0;34m\u001b[0m\u001b[0m\n\u001b[0;32m-> 1565\u001b[0;31m             \u001b[0;32mreturn\u001b[0m \u001b[0mfunc\u001b[0m\u001b[0;34m(\u001b[0m\u001b[0max\u001b[0m\u001b[0;34m,\u001b[0m \u001b[0;34m*\u001b[0m\u001b[0mmap\u001b[0m\u001b[0;34m(\u001b[0m\u001b[0msanitize_sequence\u001b[0m\u001b[0;34m,\u001b[0m \u001b[0margs\u001b[0m\u001b[0;34m)\u001b[0m\u001b[0;34m,\u001b[0m \u001b[0;34m**\u001b[0m\u001b[0mkwargs\u001b[0m\u001b[0;34m)\u001b[0m\u001b[0;34m\u001b[0m\u001b[0;34m\u001b[0m\u001b[0m\n\u001b[0m\u001b[1;32m   1566\u001b[0m \u001b[0;34m\u001b[0m\u001b[0m\n\u001b[1;32m   1567\u001b[0m         \u001b[0mbound\u001b[0m \u001b[0;34m=\u001b[0m \u001b[0mnew_sig\u001b[0m\u001b[0;34m.\u001b[0m\u001b[0mbind\u001b[0m\u001b[0;34m(\u001b[0m\u001b[0max\u001b[0m\u001b[0;34m,\u001b[0m \u001b[0;34m*\u001b[0m\u001b[0margs\u001b[0m\u001b[0;34m,\u001b[0m \u001b[0;34m**\u001b[0m\u001b[0mkwargs\u001b[0m\u001b[0;34m)\u001b[0m\u001b[0;34m\u001b[0m\u001b[0;34m\u001b[0m\u001b[0m\n",
            "\u001b[0;32m/usr/local/lib/python3.7/dist-packages/matplotlib/cbook/deprecation.py\u001b[0m in \u001b[0;36mwrapper\u001b[0;34m(*args, **kwargs)\u001b[0m\n\u001b[1;32m    356\u001b[0m                 \u001b[0;34mf\"%(removal)s.  If any parameter follows {name!r}, they \"\u001b[0m\u001b[0;34m\u001b[0m\u001b[0;34m\u001b[0m\u001b[0m\n\u001b[1;32m    357\u001b[0m                 f\"should be pass as keyword, not positionally.\")\n\u001b[0;32m--> 358\u001b[0;31m         \u001b[0;32mreturn\u001b[0m \u001b[0mfunc\u001b[0m\u001b[0;34m(\u001b[0m\u001b[0;34m*\u001b[0m\u001b[0margs\u001b[0m\u001b[0;34m,\u001b[0m \u001b[0;34m**\u001b[0m\u001b[0mkwargs\u001b[0m\u001b[0;34m)\u001b[0m\u001b[0;34m\u001b[0m\u001b[0;34m\u001b[0m\u001b[0m\n\u001b[0m\u001b[1;32m    359\u001b[0m \u001b[0;34m\u001b[0m\u001b[0m\n\u001b[1;32m    360\u001b[0m     \u001b[0;32mreturn\u001b[0m \u001b[0mwrapper\u001b[0m\u001b[0;34m\u001b[0m\u001b[0;34m\u001b[0m\u001b[0m\n",
            "\u001b[0;32m/usr/local/lib/python3.7/dist-packages/matplotlib/axes/_axes.py\u001b[0m in \u001b[0;36mscatter\u001b[0;34m(self, x, y, s, c, marker, cmap, norm, vmin, vmax, alpha, linewidths, verts, edgecolors, plotnonfinite, **kwargs)\u001b[0m\n\u001b[1;32m   4389\u001b[0m         \u001b[0my\u001b[0m \u001b[0;34m=\u001b[0m \u001b[0mnp\u001b[0m\u001b[0;34m.\u001b[0m\u001b[0mma\u001b[0m\u001b[0;34m.\u001b[0m\u001b[0mravel\u001b[0m\u001b[0;34m(\u001b[0m\u001b[0my\u001b[0m\u001b[0;34m)\u001b[0m\u001b[0;34m\u001b[0m\u001b[0;34m\u001b[0m\u001b[0m\n\u001b[1;32m   4390\u001b[0m         \u001b[0;32mif\u001b[0m \u001b[0mx\u001b[0m\u001b[0;34m.\u001b[0m\u001b[0msize\u001b[0m \u001b[0;34m!=\u001b[0m \u001b[0my\u001b[0m\u001b[0;34m.\u001b[0m\u001b[0msize\u001b[0m\u001b[0;34m:\u001b[0m\u001b[0;34m\u001b[0m\u001b[0;34m\u001b[0m\u001b[0m\n\u001b[0;32m-> 4391\u001b[0;31m             \u001b[0;32mraise\u001b[0m \u001b[0mValueError\u001b[0m\u001b[0;34m(\u001b[0m\u001b[0;34m\"x and y must be the same size\"\u001b[0m\u001b[0;34m)\u001b[0m\u001b[0;34m\u001b[0m\u001b[0;34m\u001b[0m\u001b[0m\n\u001b[0m\u001b[1;32m   4392\u001b[0m \u001b[0;34m\u001b[0m\u001b[0m\n\u001b[1;32m   4393\u001b[0m         \u001b[0;32mif\u001b[0m \u001b[0ms\u001b[0m \u001b[0;32mis\u001b[0m \u001b[0;32mNone\u001b[0m\u001b[0;34m:\u001b[0m\u001b[0;34m\u001b[0m\u001b[0;34m\u001b[0m\u001b[0m\n",
            "\u001b[0;31mValueError\u001b[0m: x and y must be the same size"
          ]
        },
        {
          "output_type": "display_data",
          "data": {
            "image/png": "iVBORw0KGgoAAAANSUhEUgAAAQwAAADGCAYAAAAniL71AAAABHNCSVQICAgIfAhkiAAAAAlwSFlzAAALEgAACxIB0t1+/AAAADh0RVh0U29mdHdhcmUAbWF0cGxvdGxpYiB2ZXJzaW9uMy4yLjIsIGh0dHA6Ly9tYXRwbG90bGliLm9yZy+WH4yJAAALxUlEQVR4nO3df6hf9X3H8efLZFmZs3Y0t1CSWFMWZzM70F3EUVgddSM6SP7oVhKQzREM7WoZtAwcDlfSv7qyDgrZusDEtlBt2j/GhUYC7RRBGpsrWmsUy23qlqRlptb6j/iLvffH9+v29Zqb+871e+/3G/d8wIXz4/M955XDl9c959wTTqoKSeq4aNIBJF04LAxJbRaGpDYLQ1KbhSGpzcKQ1LZsYSS5K8mzSZ5YYn2SfCnJQpLHk1wz/piSpkHnDONuYMc51t8IbBv+7AP++a3HkjSNli2MqnoQ+MU5huwCvloDR4F3JXnvuAJKmh7juIexCTg5Mn9quEzS28z6tdxZkn0MLlu4+OKLf/fKK69cy91LAh555JGfV9XMSj47jsI4DWwZmd88XPYmVXUQOAgwOztb8/PzY9i9pPOR5D9W+tlxXJLMAX82/GvJdcALVfWzMWxX0pRZ9gwjyT3A9cDGJKeAvwN+BaCqvgwcBm4CFoAXgb9YrbCSJmvZwqiqPcusL+CTY0skaWr5pKekNgtDUpuFIanNwpDUZmFIarMwJLVZGJLaLAxJbRaGpDYLQ1KbhSGpzcKQ1GZhSGqzMCS1WRiS2iwMSW0WhqQ2C0NSm4Uhqc3CkNRmYUhqszAktVkYktosDEltrcJIsiPJ00kWktx+lvWXJbk/yaNJHk9y0/ijSpq0ZQsjyTrgAHAjsB3Yk2T7omF/CxyqqquB3cA/jTuopMnrnGFcCyxU1YmqegW4F9i1aEwB7xxOXwr8dHwRJU2LTmFsAk6OzJ8aLhv1WeDm4cuaDwOfOtuGkuxLMp9k/syZMyuIK2mSxnXTcw9wd1VtZvAm968ledO2q+pgVc1W1ezMzMyYdi1prXQK4zSwZWR+83DZqL3AIYCq+h7wDmDjOAJKmh6dwjgGbEuyNckGBjc15xaN+U/gIwBJPsCgMLzmkN5mli2MqnoNuA04AjzF4K8hx5PsT7JzOOwzwK1JfgDcA9xSVbVaoSVNxvrOoKo6zOBm5uiyO0emnwQ+NN5okqaNT3pKarMwJLVZGJLaLAxJbRaGpDYLQ1KbhSGpzcKQ1GZhSGqzMCS1WRiS2iwMSW0WhqQ2C0NSm4Uhqc3CkNRmYUhqszAktVkYktosDEltFoakNgtDUpuFIamtVRhJdiR5OslCktuXGPOxJE8mOZ7k6+ONKWkaLPsioyTrgAPAHzJ4c/uxJHPDlxe9PmYb8DfAh6rq+STvWa3Akianc4ZxLbBQVSeq6hXgXmDXojG3Ageq6nmAqnp2vDElTYNOYWwCTo7MnxouG3UFcEWSh5IcTbJjXAElTY/Wu1Wb29kGXA9sBh5M8sGq+uXooCT7gH0Al1122Zh2LWmtdM4wTgNbRuY3D5eNOgXMVdWrVfUT4EcMCuQNqupgVc1W1ezMzMxKM0uakE5hHAO2JdmaZAOwG5hbNObfGJxdkGQjg0uUE2PMKWkKLFsYVfUacBtwBHgKOFRVx5PsT7JzOOwI8FySJ4H7gb+uqudWK7SkyUhVTWTHs7OzNT8/P5F9S/+fJXmkqmZX8lmf9JTUZmFIarMwJLVZGJLaLAxJbRaGpDYLQ1KbhSGpzcKQ1GZhSGqzMCS1WRiS2iwMSW0WhqQ2C0NSm4Uhqc3CkNRmYUhqszAktVkYktosDEltFoakNgtDUpuFIamtVRhJdiR5OslCktvPMe6jSSrJil6SImm6LVsYSdYBB4Abge3AniTbzzLuEuCvgIfHHVLSdOicYVwLLFTViap6BbgX2HWWcZ8DPg+8NMZ8kqZIpzA2ASdH5k8Nl/2vJNcAW6rq22PMJmnKvOWbnkkuAr4IfKYxdl+S+STzZ86ceau7lrTGOoVxGtgyMr95uOx1lwBXAQ8keQa4Dpg7243PqjpYVbNVNTszM7Py1JImolMYx4BtSbYm2QDsBuZeX1lVL1TVxqq6vKouB44CO6tqflUSS5qYZQujql4DbgOOAE8Bh6rqeJL9SXaudkBJ02N9Z1BVHQYOL1p25xJjr3/rsSRNI5/0lNRmYUhqszAktVkYktosDEltFoakNgtDUpuFIanNwpDUZmFIarMwJLVZGJLaLAxJbRaGpDYLQ1KbhSGpzcKQ1GZhSGqzMCS1WRiS2iwMSW0WhqQ2C0NSm4Uhqa1VGEl2JHk6yUKS28+y/tNJnkzyeJLvJnnf+KNKmrRlCyPJOuAAcCOwHdiTZPuiYY8Cs1X1O8C3gL8fd1BJk9c5w7gWWKiqE1X1CnAvsGt0QFXdX1UvDmePMnjDu6S3mU5hbAJOjsyfGi5byl7gvrOtSLIvyXyS+TNnzvRTSpoKY73pmeRmYBb4wtnWV9XBqpqtqtmZmZlx7lrSGui8vf00sGVkfvNw2RskuQG4A/hwVb08nniSpknnDOMYsC3J1iQbgN3A3OiAJFcD/wLsrKpnxx9T0jRYtjCq6jXgNuAI8BRwqKqOJ9mfZOdw2BeAXwe+meSxJHNLbE7SBaxzSUJVHQYOL1p258j0DWPOJWkK+aSnpDYLQ1KbhSGpzcKQ1GZhSGqzMCS1WRiS2iwMSW0WhqQ2C0NSm4Uhqc3CkNRmYUhqszAktVkYktosDEltFoakNgtDUpuFIanNwpDUZmFIarMwJLVZGJLaWoWRZEeSp5MsJLn9LOt/Nck3husfTnL5uINKmrxlCyPJOuAAcCOwHdiTZPuiYXuB56vqN4F/BD4/7qCSJq9zhnEtsFBVJ6rqFeBeYNeiMbuArwynvwV8JEnGF1PSNOgUxibg5Mj8qeGys44Zvov1BeDd4wgoaXq03q06Lkn2AfuGsy8neWIt9z8GG4GfTzrEebjQ8oKZ18JvrfSDncI4DWwZmd88XHa2MaeSrAcuBZ5bvKGqOggcBEgyX1WzKwk9KRda5gstL5h5LSSZX+lnO5ckx4BtSbYm2QDsBuYWjZkD/nw4/SfAv1dVrTSUpOm07BlGVb2W5DbgCLAOuKuqjifZD8xX1Rzwr8DXkiwAv2BQKpLeZlr3MKrqMHB40bI7R6ZfAv70PPd98DzHT4MLLfOFlhfMvBZWnDdeOUjq8tFwSW2rXhgX2mPljbyfTvJkkseTfDfJ+yaRc1Gmc2YeGffRJJVk4nf0O5mTfGx4rI8n+fpaZ1yUZbnvxWVJ7k/y6PC7cdMkco7kuSvJs0s9upCBLw3/PY8nuaa14apatR8GN0l/DLwf2AD8ANi+aMxfAl8eTu8GvrGamcaQ9w+AXxtOf2KSebuZh+MuAR4EjgKz054Z2AY8CvzGcP49U573IPCJ4fR24JkJH+PfB64Bnlhi/U3AfUCA64CHO9td7TOMC+2x8mXzVtX9VfXicPYog+dSJqlzjAE+x+D/+Ly0luGW0Ml8K3Cgqp4HqKpn1zjjqE7eAt45nL4U+Oka5nuTqnqQwV8sl7IL+GoNHAXeleS9y213tQvjQnusvJN31F4GLT1Jy2Yenm5uqapvr2Wwc+gc5yuAK5I8lORokh1rlu7NOnk/C9yc5BSDvyh+am2irdj5fteBNX40/O0kyc3ALPDhSWc5lyQXAV8EbplwlPO1nsFlyfUMzuIeTPLBqvrlRFMtbQ9wd1X9Q5LfY/Bc0lVV9d+TDjZOq32GcT6PlXOux8rXSCcvSW4A7gB2VtXLa5RtKctlvgS4CnggyTMMrlfnJnzjs3OcTwFzVfVqVf0E+BGDApmETt69wCGAqvoe8A4G/8dkWrW+62+yyjde1gMngK38382i31405pO88abnoQneKOrkvZrBDbBtk8p5vpkXjX+Ayd/07BznHcBXhtMbGZw+v3uK894H3DKc/gCDexiZ8HG+nKVvev4xb7zp+f3WNtcg9E0Mfjv8GLhjuGw/g9/OMGjibwILwPeB90/4IC+X9zvAfwGPDX/mJpm3k3nR2IkXRvM4h8Gl1JPAD4HdU553O/DQsEweA/5ownnvAX4GvMrgbG0v8HHg4yPH98Dw3/PD7nfCJz0ltfmkp6Q2C0NSm4Uhqc3CkNRmYUhqszAktVkYktosDElt/wO5qJKsV7QTmAAAAABJRU5ErkJggg==\n",
            "text/plain": [
              "<Figure size 288x216 with 1 Axes>"
            ]
          },
          "metadata": {
            "needs_background": "light"
          }
        }
      ]
<<<<<<< HEAD
     },
     "execution_count": 31,
     "metadata": {},
     "output_type": "execute_result"
    }
   ],
   "source": [
    "df.loc[df['stop_outcome']==0,'stop_outcome'].count() # to check for the corecctness of the dummy classifier "
   ]
  },
  {
   "cell_type": "code",
   "execution_count": 32,
   "id": "c9b35131-93e6-40c8-a69f-3b47061497d3",
   "metadata": {},
   "outputs": [],
   "source": [
    "# calculate it manually "
   ]
  },
  {
   "cell_type": "code",
   "execution_count": 33,
   "id": "e1a9e77a-9d4b-4399-98bf-26fc6a4ff0bc",
   "metadata": {},
   "outputs": [],
   "source": [
    "X_train_fair = X_train.drop('driver_race',axis=1)\n",
    "X_test_fair = X_test.drop('driver_race', axis=1)"
   ]
  },
  {
   "cell_type": "code",
   "execution_count": 34,
   "id": "fd3df243-479a-48fa-85ff-04c9cf41db87",
   "metadata": {},
   "outputs": [
=======
    },
    {
      "cell_type": "code",
      "metadata": {
        "id": "2bd0ec60-db3e-491f-805c-0986edd1d313"
      },
      "source": [
        "best_estimator = search.best_estimator_\n",
        "y_pred_lin = search_lin.best_estimator_.predict(X_test)"
      ],
      "id": "2bd0ec60-db3e-491f-805c-0986edd1d313",
      "execution_count": 29,
      "outputs": []
    },
>>>>>>> c90caeba379a82a9b1937dcddaaf050da6694047
    {
      "cell_type": "code",
      "metadata": {
        "id": "12a87f13-1566-4f3c-988f-347bc4af246b",
        "outputId": "059386b6-2130-4a1f-a7dd-f9e55d1d62be",
        "colab": {
          "base_uri": "https://localhost:8080/",
          "height": 313
        }
      },
      "source": [
        "cm = confusion_matrix(y_test, y_pred_lin)\n",
        "tn, fp, fn, tp = cm.ravel()\n",
        "plot_confusion_matrix(search_lin, X_test, y_test)  \n",
        "print(cm)"
      ],
      "id": "12a87f13-1566-4f3c-988f-347bc4af246b",
      "execution_count": 30,
      "outputs": [
        {
          "output_type": "stream",
          "text": [
            "[[37370     0]\n",
            " [    0 83257]]\n"
          ],
          "name": "stdout"
        },
        {
          "output_type": "display_data",
          "data": {
            "image/png": "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\n",
            "text/plain": [
              "<Figure size 432x288 with 2 Axes>"
            ]
          },
          "metadata": {
            "needs_background": "light"
          }
        }
      ]
<<<<<<< HEAD
     },
     "execution_count": 34,
     "metadata": {},
     "output_type": "execute_result"
    }
   ],
   "source": [
    "X_train_fair.head()\n"
   ]
  },
  {
   "cell_type": "code",
   "execution_count": 35,
   "id": "15233acb-9f3f-42af-a74a-0cad2366e194",
   "metadata": {},
   "outputs": [
    {
     "data": {
      "text/plain": [
       "GridSearchCV(cv=5, estimator=KNeighborsClassifier(), n_jobs=-1,\n",
       "             param_grid={'n_neighbors': [5, 10, 15]}, return_train_score=True,\n",
       "             scoring='accuracy')"
      ]
     },
     "execution_count": 35,
     "metadata": {},
     "output_type": "execute_result"
    }
   ],
   "source": [
    "search.fit(X_train_fair,y_train)"
   ]
  },
  {
   "cell_type": "code",
   "execution_count": 36,
   "id": "bb5ba18d-4493-4327-a896-1b795363f29f",
   "metadata": {},
   "outputs": [],
   "source": [
    "y_pred_fair = search.best_estimator_.predict(X_test_fair)"
   ]
  },
  {
   "cell_type": "code",
   "execution_count": 37,
   "id": "d9105396-f4cc-4aaa-a698-e7e0321d6635",
   "metadata": {},
   "outputs": [
    {
     "data": {
      "text/plain": [
       "<sklearn.metrics._plot.confusion_matrix.ConfusionMatrixDisplay at 0x1d42540ba60>"
=======
    },
    {
      "cell_type": "code",
      "metadata": {
        "id": "4cdee71d-f887-4aa0-a688-4636a51f1651",
        "outputId": "e61a7360-3e8a-4499-bbe5-51d4e50d84ac",
        "colab": {
          "base_uri": "https://localhost:8080/",
          "height": 295
        }
      },
      "source": [
        "# Plot\n",
        "from sklearn.metrics import roc_curve\n",
        "y_pred_prob = search_lin.best_estimator_.predict_proba(X_test)[:,1]\n",
        "fp, tp, thresholds = roc_curve(y_test, y_pred_prob)\n",
        "fig = plt.figure()\n",
        "ax = fig.add_subplot()\n",
        "ax.plot([0, 1], [0, 1], 'k--',color='blue')\n",
        "ax.plot(fp, tp,label='ROC curve',color='orange')\n",
        "ax.set_xlabel('False Positive Rate')\n",
        "ax.set_ylabel('True Positive Rate')\n",
        "plt.title('ROC Curve')\n",
        "plt.legend(loc=4)\n",
        "plt.show()"
      ],
      "id": "4cdee71d-f887-4aa0-a688-4636a51f1651",
      "execution_count": 31,
      "outputs": [
        {
          "output_type": "display_data",
          "data": {
            "image/png": "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\n",
            "text/plain": [
              "<Figure size 432x288 with 1 Axes>"
            ]
          },
          "metadata": {
            "needs_background": "light"
          }
        }
      ]
    },
    {
      "cell_type": "code",
      "metadata": {
        "id": "c1411e73-5a87-45b4-996d-4759b05c4513",
        "outputId": "c64e9447-c450-4bf6-e580-335bb7d1a47b",
        "colab": {
          "base_uri": "https://localhost:8080/"
        }
      },
      "source": [
        "from sklearn.dummy import DummyClassifier\n",
        "s ='most_frequent'\n",
        "\n",
        "test_scores = []\n",
        "dclf = DummyClassifier(strategy = s, random_state = 0)\n",
        "dclf.fit(X_train, y_train)\n",
        "score = dclf.score(X_test, y_test)\n",
        "test_scores.append(score)\n",
        "print (test_scores)"
      ],
      "id": "c1411e73-5a87-45b4-996d-4759b05c4513",
      "execution_count": 32,
      "outputs": [
        {
          "output_type": "stream",
          "text": [
            "[0.6902020277384002]\n"
          ],
          "name": "stdout"
        }
>>>>>>> c90caeba379a82a9b1937dcddaaf050da6694047
      ]
    },
    {
      "cell_type": "code",
      "metadata": {
        "id": "33ade10b-2728-427f-a2a8-59f11fa3e34b",
        "outputId": "313efe20-6b08-4a77-fdc3-1570782efaa1",
        "colab": {
          "base_uri": "https://localhost:8080/"
        }
      },
      "source": [
        "df.loc[df['stop_outcome']==0,'stop_outcome'].count() # to check for the corecctness of the dummy classifier"
      ],
      "id": "33ade10b-2728-427f-a2a8-59f11fa3e34b",
      "execution_count": 33,
      "outputs": [
        {
          "output_type": "execute_result",
          "data": {
            "text/plain": [
              "123814"
            ]
          },
          "metadata": {},
          "execution_count": 33
        }
      ]
    },
    {
<<<<<<< HEAD
     "name": "stdout",
     "output_type": "stream",
     "text": [
      "0.9463902508349321\n"
     ]
    }
   ],
   "source": [
    "print(search.best_score_)"
   ]
  },
  {
   "cell_type": "code",
   "execution_count": 39,
   "id": "21bcf71b-3a0c-4966-84a9-47daf7c174d8",
   "metadata": {
    "tags": []
   },
   "outputs": [],
   "source": [
    "X_train_fair = X_train.drop(columns=['driver_race','driver_gender','officer_id'],axis=1)\n",
    "X_test_fair = X_test.drop(columns=['driver_race','driver_gender','officer_id'], axis=1)"
   ]
  },
  {
   "cell_type": "code",
   "execution_count": 40,
   "id": "2681c3f7-9971-4e2f-8d96-dea4dbf16fff",
   "metadata": {},
   "outputs": [
    {
     "data": {
      "text/plain": [
       "GridSearchCV(cv=5, estimator=KNeighborsClassifier(), n_jobs=-1,\n",
       "             param_grid={'n_neighbors': [5, 10, 15]}, return_train_score=True,\n",
       "             scoring='accuracy')"
      ]
     },
     "execution_count": 40,
     "metadata": {},
     "output_type": "execute_result"
    }
   ],
   "source": [
    "search.fit(X_train_fair,y_train)"
   ]
  },
  {
   "cell_type": "code",
   "execution_count": 41,
   "id": "f3538c82-c171-4038-8f39-31f0d8584bfa",
   "metadata": {},
   "outputs": [],
   "source": [
    "y_pred_fair = search.best_estimator_.predict(X_test_fair)"
   ]
  },
  {
   "cell_type": "code",
   "execution_count": 42,
   "id": "b17fb086-26bf-4270-8587-ee9a8a52bf56",
   "metadata": {},
   "outputs": [
    {
     "data": {
      "text/plain": [
       "<sklearn.metrics._plot.confusion_matrix.ConfusionMatrixDisplay at 0x1d46ac52c10>"
      ]
     },
     "execution_count": 42,
     "metadata": {},
     "output_type": "execute_result"
=======
      "cell_type": "code",
      "metadata": {
        "id": "c9b35131-93e6-40c8-a69f-3b47061497d3"
      },
      "source": [
        "# calculate it manually "
      ],
      "id": "c9b35131-93e6-40c8-a69f-3b47061497d3",
      "execution_count": 34,
      "outputs": []
    },
    {
      "cell_type": "code",
      "metadata": {
        "id": "e1a9e77a-9d4b-4399-98bf-26fc6a4ff0bc"
      },
      "source": [
        "X_train_fair = X_train.drop('driver_race',axis=1)\n",
        "X_test_fair = X_test.drop('driver_race', axis=1)"
      ],
      "id": "e1a9e77a-9d4b-4399-98bf-26fc6a4ff0bc",
      "execution_count": 35,
      "outputs": []
    },
    {
      "cell_type": "code",
      "metadata": {
        "id": "fd3df243-479a-48fa-85ff-04c9cf41db87",
        "outputId": "e79dd255-d27d-4c38-a719-d791aaae3b6d",
        "colab": {
          "base_uri": "https://localhost:8080/",
          "height": 204
        }
      },
      "source": [
        "X_train_fair.head()\n"
      ],
      "id": "fd3df243-479a-48fa-85ff-04c9cf41db87",
      "execution_count": 36,
      "outputs": [
        {
          "output_type": "execute_result",
          "data": {
            "text/html": [
              "<div>\n",
              "<style scoped>\n",
              "    .dataframe tbody tr th:only-of-type {\n",
              "        vertical-align: middle;\n",
              "    }\n",
              "\n",
              "    .dataframe tbody tr th {\n",
              "        vertical-align: top;\n",
              "    }\n",
              "\n",
              "    .dataframe thead th {\n",
              "        text-align: right;\n",
              "    }\n",
              "</style>\n",
              "<table border=\"1\" class=\"dataframe\">\n",
              "  <thead>\n",
              "    <tr style=\"text-align: right;\">\n",
              "      <th></th>\n",
              "      <th>driver_gender</th>\n",
              "      <th>driver_age</th>\n",
              "      <th>violation</th>\n",
              "      <th>search_type</th>\n",
              "      <th>contraband_found</th>\n",
              "      <th>stop_outcome</th>\n",
              "      <th>search_basis</th>\n",
              "      <th>officer_id</th>\n",
              "      <th>drugs_related_stop</th>\n",
              "      <th>district</th>\n",
              "    </tr>\n",
              "  </thead>\n",
              "  <tbody>\n",
              "    <tr>\n",
              "      <th>126852</th>\n",
              "      <td>1</td>\n",
              "      <td>39</td>\n",
              "      <td>2</td>\n",
              "      <td>2</td>\n",
              "      <td>0</td>\n",
              "      <td>1</td>\n",
              "      <td>18</td>\n",
              "      <td>2224</td>\n",
              "      <td>1</td>\n",
              "      <td>55</td>\n",
              "    </tr>\n",
              "    <tr>\n",
              "      <th>393530</th>\n",
              "      <td>1</td>\n",
              "      <td>42</td>\n",
              "      <td>2</td>\n",
              "      <td>2</td>\n",
              "      <td>0</td>\n",
              "      <td>1</td>\n",
              "      <td>18</td>\n",
              "      <td>1942</td>\n",
              "      <td>1</td>\n",
              "      <td>31</td>\n",
              "    </tr>\n",
              "    <tr>\n",
              "      <th>254797</th>\n",
              "      <td>1</td>\n",
              "      <td>27</td>\n",
              "      <td>2</td>\n",
              "      <td>2</td>\n",
              "      <td>0</td>\n",
              "      <td>1</td>\n",
              "      <td>18</td>\n",
              "      <td>1496</td>\n",
              "      <td>1</td>\n",
              "      <td>56</td>\n",
              "    </tr>\n",
              "    <tr>\n",
              "      <th>271179</th>\n",
              "      <td>1</td>\n",
              "      <td>50</td>\n",
              "      <td>2</td>\n",
              "      <td>2</td>\n",
              "      <td>0</td>\n",
              "      <td>1</td>\n",
              "      <td>18</td>\n",
              "      <td>239</td>\n",
              "      <td>1</td>\n",
              "      <td>9</td>\n",
              "    </tr>\n",
              "    <tr>\n",
              "      <th>272000</th>\n",
              "      <td>1</td>\n",
              "      <td>42</td>\n",
              "      <td>2</td>\n",
              "      <td>2</td>\n",
              "      <td>0</td>\n",
              "      <td>1</td>\n",
              "      <td>18</td>\n",
              "      <td>1836</td>\n",
              "      <td>1</td>\n",
              "      <td>40</td>\n",
              "    </tr>\n",
              "  </tbody>\n",
              "</table>\n",
              "</div>"
            ],
            "text/plain": [
              "        driver_gender  driver_age  ...  drugs_related_stop  district\n",
              "126852              1          39  ...                   1        55\n",
              "393530              1          42  ...                   1        31\n",
              "254797              1          27  ...                   1        56\n",
              "271179              1          50  ...                   1         9\n",
              "272000              1          42  ...                   1        40\n",
              "\n",
              "[5 rows x 10 columns]"
            ]
          },
          "metadata": {},
          "execution_count": 36
        }
      ]
    },
    {
      "cell_type": "code",
      "metadata": {
        "id": "15233acb-9f3f-42af-a74a-0cad2366e194",
        "outputId": "dcb139f8-561d-4be3-925f-22d44231de8e",
        "colab": {
          "base_uri": "https://localhost:8080/"
        }
      },
      "source": [
        "search.fit(X_train_fair,y_train)"
      ],
      "id": "15233acb-9f3f-42af-a74a-0cad2366e194",
      "execution_count": 37,
      "outputs": [
        {
          "output_type": "execute_result",
          "data": {
            "text/plain": [
              "GridSearchCV(cv=2, estimator=KNeighborsClassifier(), n_jobs=-1,\n",
              "             param_grid={'n_neighbors': [5, 10, 15]}, return_train_score=True,\n",
              "             scoring='accuracy')"
            ]
          },
          "metadata": {},
          "execution_count": 37
        }
      ]
>>>>>>> c90caeba379a82a9b1937dcddaaf050da6694047
    },
    {
      "cell_type": "code",
      "metadata": {
        "id": "bb5ba18d-4493-4327-a896-1b795363f29f"
      },
      "source": [
        "y_pred_fair = search.best_estimator_.predict(X_test_fair)"
      ],
      "id": "bb5ba18d-4493-4327-a896-1b795363f29f",
      "execution_count": 38,
      "outputs": []
    },
    {
      "cell_type": "code",
      "metadata": {
        "id": "d9105396-f4cc-4aaa-a698-e7e0321d6635",
        "outputId": "958922c4-68f0-434a-d508-c33701e5653f",
        "colab": {
          "base_uri": "https://localhost:8080/",
          "height": 298
        }
      },
      "source": [
        "cm = confusion_matrix(y_test, y_pred_fair)\n",
        "tn, fp, fn, tp = cm.ravel()\n",
        "plot_confusion_matrix(search, X_test_fair, y_test) "
      ],
      "id": "d9105396-f4cc-4aaa-a698-e7e0321d6635",
      "execution_count": 39,
      "outputs": [
        {
          "output_type": "execute_result",
          "data": {
            "text/plain": [
              "<sklearn.metrics._plot.confusion_matrix.ConfusionMatrixDisplay at 0x7f51eb334250>"
            ]
          },
          "metadata": {},
          "execution_count": 39
        },
        {
          "output_type": "display_data",
          "data": {
            "image/png": "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\n",
            "text/plain": [
              "<Figure size 432x288 with 2 Axes>"
            ]
          },
          "metadata": {
            "needs_background": "light"
          }
        }
      ]
<<<<<<< HEAD
     },
     "metadata": {
      "needs_background": "light"
     },
     "output_type": "display_data"
    }
   ],
   "source": [
    "cm = confusion_matrix(y_test, y_pred_fair)\n",
    "tn_, fp_, fn_, tp_ = cm.ravel()\n",
    "plot_confusion_matrix(search, X_test_fair, y_test) "
   ]
  },
  {
   "cell_type": "code",
   "execution_count": 43,
   "id": "73ab1484-a241-4d47-b27a-99875ee2408b",
   "metadata": {},
   "outputs": [
    {
     "name": "stdout",
     "output_type": "stream",
     "text": [
      "0.986527392879983\n"
     ]
    }
   ],
   "source": [
    "print(search.best_score_)"
   ]
  },
  {
   "cell_type": "code",
   "execution_count": 44,
   "id": "8c8295a0-ceae-413e-8bc7-e5554676dbc1",
   "metadata": {},
   "outputs": [],
   "source": [
    "sep_ = separation(tn_,fp_,fn_,tp_)\n",
    "suf_ = sufficiency(tn_, fp_, fn_, tp_)\n",
    "ind_ = independence (tp_,tn_,fn_,fp_ )"
   ]
  },
  {
   "cell_type": "code",
   "execution_count": 45,
   "id": "e92af98e-a3fb-4da4-9d39-9be42940d254",
   "metadata": {},
   "outputs": [
=======
    },
    {
      "cell_type": "code",
      "metadata": {
        "id": "84f838c2-b847-4971-ac58-c2d34d6cc6a9",
        "outputId": "eb0e218f-853b-4da0-81b8-e877511b8c60",
        "colab": {
          "base_uri": "https://localhost:8080/"
        }
      },
      "source": [
        "print(search.best_score_)"
      ],
      "id": "84f838c2-b847-4971-ac58-c2d34d6cc6a9",
      "execution_count": 40,
      "outputs": [
        {
          "output_type": "stream",
          "text": [
            "0.9385383358203653\n"
          ],
          "name": "stdout"
        }
      ]
    },
    {
      "cell_type": "code",
      "metadata": {
        "tags": [],
        "id": "21bcf71b-3a0c-4966-84a9-47daf7c174d8"
      },
      "source": [
        "X_train_fair = X_train.drop(columns=['driver_race','driver_gender','officer_id'],axis=1)\n",
        "X_test_fair = X_test.drop(columns=['driver_race','driver_gender','officer_id'], axis=1)"
      ],
      "id": "21bcf71b-3a0c-4966-84a9-47daf7c174d8",
      "execution_count": 41,
      "outputs": []
    },
>>>>>>> c90caeba379a82a9b1937dcddaaf050da6694047
    {
      "cell_type": "code",
      "metadata": {
        "id": "2681c3f7-9971-4e2f-8d96-dea4dbf16fff",
        "outputId": "403f4fa2-3c27-4617-acdc-26f6852177bd",
        "colab": {
          "base_uri": "https://localhost:8080/"
        }
      },
      "source": [
        "search.fit(X_train_fair,y_train)"
      ],
      "id": "2681c3f7-9971-4e2f-8d96-dea4dbf16fff",
      "execution_count": 42,
      "outputs": [
        {
          "output_type": "execute_result",
          "data": {
            "text/plain": [
              "GridSearchCV(cv=2, estimator=KNeighborsClassifier(), n_jobs=-1,\n",
              "             param_grid={'n_neighbors': [5, 10, 15]}, return_train_score=True,\n",
              "             scoring='accuracy')"
            ]
          },
          "metadata": {},
          "execution_count": 42
        }
      ]
    },
    {
      "cell_type": "code",
      "metadata": {
        "id": "f3538c82-c171-4038-8f39-31f0d8584bfa"
      },
      "source": [
        "y_pred_fair = search.best_estimator_.predict(X_test_fair)"
      ],
      "id": "f3538c82-c171-4038-8f39-31f0d8584bfa",
      "execution_count": 43,
      "outputs": []
    },
    {
      "cell_type": "code",
      "metadata": {
        "id": "b17fb086-26bf-4270-8587-ee9a8a52bf56",
        "outputId": "f542dccf-2fd6-4ee2-bfd8-7ce0e9317fbc",
        "colab": {
          "base_uri": "https://localhost:8080/",
          "height": 296
        }
      },
      "source": [
        "cm = confusion_matrix(y_test, y_pred_fair)\n",
        "tn_, fp_, fn_, tp_ = cm.ravel()\n",
        "plot_confusion_matrix(search, X_test_fair, y_test) "
      ],
      "id": "b17fb086-26bf-4270-8587-ee9a8a52bf56",
      "execution_count": 44,
      "outputs": [
        {
          "output_type": "execute_result",
          "data": {
            "text/plain": [
              "<sklearn.metrics._plot.confusion_matrix.ConfusionMatrixDisplay at 0x7f51eb2c1750>"
            ]
          },
          "metadata": {},
          "execution_count": 44
        },
        {
          "output_type": "display_data",
          "data": {
            "image/png": "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\n",
            "text/plain": [
              "<Figure size 432x288 with 2 Axes>"
            ]
          },
          "metadata": {
            "needs_background": "light"
          }
        }
      ]
    },
    {
      "cell_type": "code",
      "metadata": {
        "id": "73ab1484-a241-4d47-b27a-99875ee2408b",
        "outputId": "ab23d293-c264-4cb2-80ab-73bf1c064544",
        "colab": {
          "base_uri": "https://localhost:8080/"
        }
      },
      "source": [
        "print(search.best_score_)"
      ],
      "id": "73ab1484-a241-4d47-b27a-99875ee2408b",
      "execution_count": 45,
      "outputs": [
        {
          "output_type": "stream",
          "text": [
            "0.9803204718254814\n"
          ],
          "name": "stdout"
        }
      ]
    },
    {
      "cell_type": "code",
      "metadata": {
        "id": "8c8295a0-ceae-413e-8bc7-e5554676dbc1"
      },
      "source": [
        "sep_ = separation(tn_,fp_,fn_,tp_)\n",
        "suf_ = sufficiency(tn_, fp_, fn_, tp_)\n",
        "ind_ = independence (tp_,tn_,fn_,fp_ )"
      ],
      "id": "8c8295a0-ceae-413e-8bc7-e5554676dbc1",
      "execution_count": 46,
      "outputs": []
    },
    {
      "cell_type": "code",
      "metadata": {
        "id": "e92af98e-a3fb-4da4-9d39-9be42940d254",
        "outputId": "dd6a929a-571c-43ed-84f1-094ac254da0b",
        "colab": {
          "base_uri": "https://localhost:8080/"
        }
      },
      "source": [
        "print (sep_)\n",
        "print(suf_)\n",
        "print(ind_)"
      ],
      "id": "e92af98e-a3fb-4da4-9d39-9be42940d254",
      "execution_count": 47,
      "outputs": [
        {
          "output_type": "stream",
          "text": [
            "(0.9892872942048566, 0.9861036011679464)\n",
            "(0.9938263449319577, 0.023976451699223977)\n",
            "0.6933688146103277\n"
          ],
          "name": "stdout"
        }
      ]
    },
    {
      "cell_type": "code",
      "metadata": {
        "id": "1e23a97a-bf91-43b2-9b0a-a3f66c82b93f"
      },
      "source": [
        ""
      ],
      "id": "1e23a97a-bf91-43b2-9b0a-a3f66c82b93f",
      "execution_count": 47,
      "outputs": []
    }
  ]
}