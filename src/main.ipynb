{
  "nbformat": 4,
  "nbformat_minor": 5,
  "metadata": {
    "interpreter": {
      "hash": "183b68252ecf3199c4fda32ff0d233f3a576b0292d6144c07af0a6aeab49c2d5"
    },
    "kernelspec": {
      "display_name": "machine",
      "language": "python",
      "name": "machine"
    },
    "language_info": {
      "codemirror_mode": {
        "name": "ipython",
        "version": 3
      },
      "file_extension": ".py",
      "mimetype": "text/x-python",
      "name": "python",
      "nbconvert_exporter": "python",
      "pygments_lexer": "ipython3",
      "version": "3.8.5"
    },
    "colab": {
      "name": "main.ipynb",
      "provenance": [],
      "include_colab_link": true
    }
  },
  "cells": [
    {
      "cell_type": "markdown",
      "metadata": {
        "id": "view-in-github",
        "colab_type": "text"
      },
      "source": [
        "<a href=\"https://colab.research.google.com/github/Heatdh/MIUG-Proj/blob/main/src/main.ipynb\" target=\"_parent\"><img src=\"https://colab.research.google.com/assets/colab-badge.svg\" alt=\"Open In Colab\"/></a>"
      ]
    },
    {
      "cell_type": "markdown",
      "metadata": {
        "id": "dc6cd7fa"
      },
      "source": [
        "\n",
        "    # Checking your venv for having necesarry packages and importing basic libs as trial"
      ],
      "id": "dc6cd7fa"
    },
    {
      "cell_type": "code",
      "metadata": {
        "id": "35f4c7b6"
      },
      "source": [
        "import matplotlib.pyplot as plt\n",
        "import numpy as np\n",
        "import pandas as pd\n",
        "from pathlib import Path\n",
        "#import tensorflow as tf\n",
        "#import tensorflow_datasets as tfds\n",
        "from sklearn.svm import  SVC\n",
        "from sklearn.model_selection import GridSearchCV\n",
        "from sklearn.svm import LinearSVC"
      ],
      "id": "35f4c7b6",
      "execution_count": 3,
      "outputs": []
    },
    {
      "cell_type": "code",
      "metadata": {
        "id": "FwrSuNB1nlj0",
        "outputId": "5d77c917-8f21-4728-aa52-3dcaa975bc77",
        "colab": {
          "base_uri": "https://localhost:8080/",
          "height": 289
        }
      },
      "source": [
        "!pip uninstall scikit-learn -y\n",
        "!pip install -U scikit-learn\n"
      ],
      "id": "FwrSuNB1nlj0",
      "execution_count": 4,
      "outputs": [
        {
          "output_type": "stream",
          "text": [
            "Found existing installation: scikit-learn 0.24.2\n",
            "Uninstalling scikit-learn-0.24.2:\n",
            "  Successfully uninstalled scikit-learn-0.24.2\n",
            "Collecting scikit-learn\n",
            "  Using cached scikit_learn-0.24.2-cp37-cp37m-manylinux2010_x86_64.whl (22.3 MB)\n",
            "Requirement already satisfied: joblib>=0.11 in /usr/local/lib/python3.7/dist-packages (from scikit-learn) (1.0.1)\n",
            "Requirement already satisfied: threadpoolctl>=2.0.0 in /usr/local/lib/python3.7/dist-packages (from scikit-learn) (2.2.0)\n",
            "Requirement already satisfied: scipy>=0.19.1 in /usr/local/lib/python3.7/dist-packages (from scikit-learn) (1.4.1)\n",
            "Requirement already satisfied: numpy>=1.13.3 in /usr/local/lib/python3.7/dist-packages (from scikit-learn) (1.19.5)\n",
            "Installing collected packages: scikit-learn\n",
            "Successfully installed scikit-learn-0.24.2\n"
          ],
          "name": "stdout"
        },
        {
          "output_type": "display_data",
          "data": {
            "application/vnd.colab-display-data+json": {
              "pip_warning": {
                "packages": [
                  "sklearn"
                ]
              }
            }
          },
          "metadata": {}
        }
      ]
    },
    {
      "cell_type": "code",
      "metadata": {
        "id": "8f22f5dc"
      },
      "source": [
        "#df = pd.read_csv(\"../dataset/NC_policing.csv\")\n",
        "# (temp) for google collab use --> direct csv file upload\n",
        "df = pd.read_csv(\"NC_policing.csv\")"
      ],
      "id": "8f22f5dc",
      "execution_count": 5,
      "outputs": []
    },
    {
      "cell_type": "code",
      "metadata": {
        "id": "b3f7d23f",
        "outputId": "2c46a4ec-f7e0-4ac8-b8a8-38f894d141bf",
        "colab": {
          "base_uri": "https://localhost:8080/"
        }
      },
      "source": [
        "print (df.head())\n",
        "print (df.dtypes)"
      ],
      "id": "b3f7d23f",
      "execution_count": 6,
      "outputs": [
        {
          "output_type": "stream",
          "text": [
            "  state   stop_date driver_gender  ...  officer_id drugs_related_stop district\n",
            "0    NC  2000-07-31             M  ...       10606                NaN       E3\n",
            "1    NC  2000-07-31             F  ...       10606                NaN       E3\n",
            "2    NC  2000-07-31             F  ...       10606                NaN       E3\n",
            "3    NC  2000-07-31             M  ...       10606                NaN       E3\n",
            "4    NC  2000-07-31             M  ...       10606                NaN       E3\n",
            "\n",
            "[5 rows x 14 columns]\n",
            "state                  object\n",
            "stop_date              object\n",
            "driver_gender          object\n",
            "driver_age            float64\n",
            "driver_race_raw        object\n",
            "driver_race            object\n",
            "violation              object\n",
            "search_type            object\n",
            "contraband_found         bool\n",
            "stop_outcome           object\n",
            "search_basis           object\n",
            "officer_id              int64\n",
            "drugs_related_stop     object\n",
            "district               object\n",
            "dtype: object\n"
          ],
          "name": "stdout"
        }
      ]
    },
    {
      "cell_type": "code",
      "metadata": {
        "id": "3fb130d9"
      },
      "source": [
        "y= df['stop_outcome']\n",
        "X= df.drop(columns=['state','driver_race_raw','stop_date'])"
      ],
      "id": "3fb130d9",
      "execution_count": 7,
      "outputs": []
    },
    {
      "cell_type": "code",
      "metadata": {
        "id": "2f4ea1f7",
        "outputId": "3525656e-aa31-477e-e1e1-43463e01c6ef",
        "colab": {
          "base_uri": "https://localhost:8080/"
        }
      },
      "source": [
        "df.isna().sum()\n",
        "# should we drop drugs related stops ?? \n"
      ],
      "id": "2f4ea1f7",
      "execution_count": 8,
      "outputs": [
        {
          "output_type": "execute_result",
          "data": {
            "text/plain": [
              "state                      0\n",
              "stop_date                  0\n",
              "driver_gender              0\n",
              "driver_age                91\n",
              "driver_race_raw            0\n",
              "driver_race                0\n",
              "violation                  0\n",
              "search_type                0\n",
              "contraband_found           0\n",
              "stop_outcome               0\n",
              "search_basis               0\n",
              "officer_id                 0\n",
              "drugs_related_stop    397708\n",
              "district                  38\n",
              "dtype: int64"
            ]
          },
          "metadata": {},
          "execution_count": 8
        }
      ]
    },
    {
      "cell_type": "code",
      "metadata": {
        "id": "haETleXmbxWA"
      },
      "source": [
        "X= df.drop(columns=['drugs_related_stop'])"
      ],
      "id": "haETleXmbxWA",
      "execution_count": 9,
      "outputs": []
    },
    {
      "cell_type": "code",
      "metadata": {
        "id": "27ca2b32"
      },
      "source": [
        "df[\"driver_age\"].fillna(df[\"driver_age\"].mean(), inplace = True) "
      ],
      "id": "27ca2b32",
      "execution_count": 10,
      "outputs": []
    },
    {
      "cell_type": "code",
      "metadata": {
        "id": "fcb3a3ab",
        "outputId": "a1c442f4-ca94-43d6-eff0-b686ea39bab0",
        "colab": {
          "base_uri": "https://localhost:8080/",
          "height": 309
        }
      },
      "source": [
        "from sklearn.preprocessing import LabelEncoder\n",
        "le = LabelEncoder()\n",
        "col= [\"driver_gender\",\"driver_race_raw\",\"driver_race\",\"violation\",\"search_type\",\"contraband_found\",\n",
        "      \"stop_outcome\",\"search_basis\",\"officer_id\",\"district\",\"drugs_related_stop\"\n",
        "]\n",
        "df_encoded = df\n",
        "df_encoded[col]=df_encoded[col].apply(lambda col: le.fit_transform(col))\n",
        "df_encoded.head()"
      ],
      "id": "fcb3a3ab",
      "execution_count": 11,
      "outputs": [
        {
          "output_type": "execute_result",
          "data": {
            "text/html": [
              "<div>\n",
              "<style scoped>\n",
              "    .dataframe tbody tr th:only-of-type {\n",
              "        vertical-align: middle;\n",
              "    }\n",
              "\n",
              "    .dataframe tbody tr th {\n",
              "        vertical-align: top;\n",
              "    }\n",
              "\n",
              "    .dataframe thead th {\n",
              "        text-align: right;\n",
              "    }\n",
              "</style>\n",
              "<table border=\"1\" class=\"dataframe\">\n",
              "  <thead>\n",
              "    <tr style=\"text-align: right;\">\n",
              "      <th></th>\n",
              "      <th>state</th>\n",
              "      <th>stop_date</th>\n",
              "      <th>driver_gender</th>\n",
              "      <th>driver_age</th>\n",
              "      <th>driver_race_raw</th>\n",
              "      <th>driver_race</th>\n",
              "      <th>violation</th>\n",
              "      <th>search_type</th>\n",
              "      <th>contraband_found</th>\n",
              "      <th>stop_outcome</th>\n",
              "      <th>search_basis</th>\n",
              "      <th>officer_id</th>\n",
              "      <th>drugs_related_stop</th>\n",
              "      <th>district</th>\n",
              "    </tr>\n",
              "  </thead>\n",
              "  <tbody>\n",
              "    <tr>\n",
              "      <th>0</th>\n",
              "      <td>NC</td>\n",
              "      <td>2000-07-31</td>\n",
              "      <td>1</td>\n",
              "      <td>23.0</td>\n",
              "      <td>9</td>\n",
              "      <td>4</td>\n",
              "      <td>6</td>\n",
              "      <td>2</td>\n",
              "      <td>0</td>\n",
              "      <td>0</td>\n",
              "      <td>18</td>\n",
              "      <td>722</td>\n",
              "      <td>1</td>\n",
              "      <td>34</td>\n",
              "    </tr>\n",
              "    <tr>\n",
              "      <th>1</th>\n",
              "      <td>NC</td>\n",
              "      <td>2000-07-31</td>\n",
              "      <td>0</td>\n",
              "      <td>29.0</td>\n",
              "      <td>9</td>\n",
              "      <td>4</td>\n",
              "      <td>6</td>\n",
              "      <td>2</td>\n",
              "      <td>0</td>\n",
              "      <td>0</td>\n",
              "      <td>18</td>\n",
              "      <td>722</td>\n",
              "      <td>1</td>\n",
              "      <td>34</td>\n",
              "    </tr>\n",
              "    <tr>\n",
              "      <th>2</th>\n",
              "      <td>NC</td>\n",
              "      <td>2000-07-31</td>\n",
              "      <td>0</td>\n",
              "      <td>49.0</td>\n",
              "      <td>3</td>\n",
              "      <td>1</td>\n",
              "      <td>6</td>\n",
              "      <td>2</td>\n",
              "      <td>0</td>\n",
              "      <td>0</td>\n",
              "      <td>18</td>\n",
              "      <td>722</td>\n",
              "      <td>1</td>\n",
              "      <td>34</td>\n",
              "    </tr>\n",
              "    <tr>\n",
              "      <th>3</th>\n",
              "      <td>NC</td>\n",
              "      <td>2000-07-31</td>\n",
              "      <td>1</td>\n",
              "      <td>29.0</td>\n",
              "      <td>3</td>\n",
              "      <td>1</td>\n",
              "      <td>6</td>\n",
              "      <td>2</td>\n",
              "      <td>0</td>\n",
              "      <td>0</td>\n",
              "      <td>18</td>\n",
              "      <td>722</td>\n",
              "      <td>1</td>\n",
              "      <td>34</td>\n",
              "    </tr>\n",
              "    <tr>\n",
              "      <th>4</th>\n",
              "      <td>NC</td>\n",
              "      <td>2000-07-31</td>\n",
              "      <td>1</td>\n",
              "      <td>24.0</td>\n",
              "      <td>6</td>\n",
              "      <td>2</td>\n",
              "      <td>6</td>\n",
              "      <td>2</td>\n",
              "      <td>0</td>\n",
              "      <td>0</td>\n",
              "      <td>18</td>\n",
              "      <td>722</td>\n",
              "      <td>1</td>\n",
              "      <td>34</td>\n",
              "    </tr>\n",
              "  </tbody>\n",
              "</table>\n",
              "</div>"
            ],
            "text/plain": [
              "  state   stop_date  driver_gender  ...  officer_id  drugs_related_stop  district\n",
              "0    NC  2000-07-31              1  ...         722                   1        34\n",
              "1    NC  2000-07-31              0  ...         722                   1        34\n",
              "2    NC  2000-07-31              0  ...         722                   1        34\n",
              "3    NC  2000-07-31              1  ...         722                   1        34\n",
              "4    NC  2000-07-31              1  ...         722                   1        34\n",
              "\n",
              "[5 rows x 14 columns]"
            ]
          },
          "metadata": {},
          "execution_count": 11
        }
      ]
    },
    {
      "cell_type": "code",
      "metadata": {
        "id": "c84d53eb"
      },
      "source": [
        "y= df_encoded['stop_outcome']\n",
        "X= df_encoded.drop(columns=['state','driver_race_raw','stop_date'])"
      ],
      "id": "c84d53eb",
      "execution_count": 12,
      "outputs": []
    },
    {
      "cell_type": "code",
      "metadata": {
        "id": "ad9cc0fa",
        "outputId": "9eb9d34f-9963-4457-b87b-0b08a70e4fe5",
        "colab": {
          "base_uri": "https://localhost:8080/",
          "height": 204
        }
      },
      "source": [
        "X.head()"
      ],
      "id": "ad9cc0fa",
      "execution_count": 13,
      "outputs": [
        {
          "output_type": "execute_result",
          "data": {
            "text/html": [
              "<div>\n",
              "<style scoped>\n",
              "    .dataframe tbody tr th:only-of-type {\n",
              "        vertical-align: middle;\n",
              "    }\n",
              "\n",
              "    .dataframe tbody tr th {\n",
              "        vertical-align: top;\n",
              "    }\n",
              "\n",
              "    .dataframe thead th {\n",
              "        text-align: right;\n",
              "    }\n",
              "</style>\n",
              "<table border=\"1\" class=\"dataframe\">\n",
              "  <thead>\n",
              "    <tr style=\"text-align: right;\">\n",
              "      <th></th>\n",
              "      <th>driver_gender</th>\n",
              "      <th>driver_age</th>\n",
              "      <th>driver_race</th>\n",
              "      <th>violation</th>\n",
              "      <th>search_type</th>\n",
              "      <th>contraband_found</th>\n",
              "      <th>stop_outcome</th>\n",
              "      <th>search_basis</th>\n",
              "      <th>officer_id</th>\n",
              "      <th>drugs_related_stop</th>\n",
              "      <th>district</th>\n",
              "    </tr>\n",
              "  </thead>\n",
              "  <tbody>\n",
              "    <tr>\n",
              "      <th>0</th>\n",
              "      <td>1</td>\n",
              "      <td>23.0</td>\n",
              "      <td>4</td>\n",
              "      <td>6</td>\n",
              "      <td>2</td>\n",
              "      <td>0</td>\n",
              "      <td>0</td>\n",
              "      <td>18</td>\n",
              "      <td>722</td>\n",
              "      <td>1</td>\n",
              "      <td>34</td>\n",
              "    </tr>\n",
              "    <tr>\n",
              "      <th>1</th>\n",
              "      <td>0</td>\n",
              "      <td>29.0</td>\n",
              "      <td>4</td>\n",
              "      <td>6</td>\n",
              "      <td>2</td>\n",
              "      <td>0</td>\n",
              "      <td>0</td>\n",
              "      <td>18</td>\n",
              "      <td>722</td>\n",
              "      <td>1</td>\n",
              "      <td>34</td>\n",
              "    </tr>\n",
              "    <tr>\n",
              "      <th>2</th>\n",
              "      <td>0</td>\n",
              "      <td>49.0</td>\n",
              "      <td>1</td>\n",
              "      <td>6</td>\n",
              "      <td>2</td>\n",
              "      <td>0</td>\n",
              "      <td>0</td>\n",
              "      <td>18</td>\n",
              "      <td>722</td>\n",
              "      <td>1</td>\n",
              "      <td>34</td>\n",
              "    </tr>\n",
              "    <tr>\n",
              "      <th>3</th>\n",
              "      <td>1</td>\n",
              "      <td>29.0</td>\n",
              "      <td>1</td>\n",
              "      <td>6</td>\n",
              "      <td>2</td>\n",
              "      <td>0</td>\n",
              "      <td>0</td>\n",
              "      <td>18</td>\n",
              "      <td>722</td>\n",
              "      <td>1</td>\n",
              "      <td>34</td>\n",
              "    </tr>\n",
              "    <tr>\n",
              "      <th>4</th>\n",
              "      <td>1</td>\n",
              "      <td>24.0</td>\n",
              "      <td>2</td>\n",
              "      <td>6</td>\n",
              "      <td>2</td>\n",
              "      <td>0</td>\n",
              "      <td>0</td>\n",
              "      <td>18</td>\n",
              "      <td>722</td>\n",
              "      <td>1</td>\n",
              "      <td>34</td>\n",
              "    </tr>\n",
              "  </tbody>\n",
              "</table>\n",
              "</div>"
            ],
            "text/plain": [
              "   driver_gender  driver_age  ...  drugs_related_stop  district\n",
              "0              1        23.0  ...                   1        34\n",
              "1              0        29.0  ...                   1        34\n",
              "2              0        49.0  ...                   1        34\n",
              "3              1        29.0  ...                   1        34\n",
              "4              1        24.0  ...                   1        34\n",
              "\n",
              "[5 rows x 11 columns]"
            ]
          },
          "metadata": {},
          "execution_count": 13
        }
      ]
    },
    {
      "cell_type": "code",
      "metadata": {
        "id": "d517a57c",
        "outputId": "e71d564a-d702-4816-81c3-6317e1178f78",
        "colab": {
          "base_uri": "https://localhost:8080/"
        }
      },
      "source": [
        "df_encoded.isna().sum()\n",
        "print(df.info())"
      ],
      "id": "d517a57c",
      "execution_count": 14,
      "outputs": [
        {
          "output_type": "stream",
          "text": [
            "<class 'pandas.core.frame.DataFrame'>\n",
            "RangeIndex: 402087 entries, 0 to 402086\n",
            "Data columns (total 14 columns):\n",
            " #   Column              Non-Null Count   Dtype  \n",
            "---  ------              --------------   -----  \n",
            " 0   state               402087 non-null  object \n",
            " 1   stop_date           402087 non-null  object \n",
            " 2   driver_gender       402087 non-null  int64  \n",
            " 3   driver_age          402087 non-null  float64\n",
            " 4   driver_race_raw     402087 non-null  int64  \n",
            " 5   driver_race         402087 non-null  int64  \n",
            " 6   violation           402087 non-null  int64  \n",
            " 7   search_type         402087 non-null  int64  \n",
            " 8   contraband_found    402087 non-null  int64  \n",
            " 9   stop_outcome        402087 non-null  int64  \n",
            " 10  search_basis        402087 non-null  int64  \n",
            " 11  officer_id          402087 non-null  int64  \n",
            " 12  drugs_related_stop  402087 non-null  int64  \n",
            " 13  district            402087 non-null  int64  \n",
            "dtypes: float64(1), int64(11), object(2)\n",
            "memory usage: 42.9+ MB\n",
            "None\n"
          ],
          "name": "stdout"
        }
      ]
    },
    {
      "cell_type": "markdown",
      "metadata": {
        "id": "f43cb568"
      },
      "source": [
        "Model"
      ],
      "id": "f43cb568"
    },
    {
      "cell_type": "code",
      "metadata": {
        "id": "8e569a0d",
        "outputId": "62c192c7-7f40-4ae9-fe04-98425eba6d5d",
        "colab": {
          "base_uri": "https://localhost:8080/"
        }
      },
      "source": [
        "from sklearn.model_selection import train_test_split\n",
        "X= X.astype(int)\n",
        "X_train, X_test, y_train, y_test = train_test_split(X, y, test_size = 0.3,random_state=200) \n",
        "X.dtypes"
      ],
      "id": "8e569a0d",
      "execution_count": 15,
      "outputs": [
        {
          "output_type": "execute_result",
          "data": {
            "text/plain": [
              "driver_gender         int64\n",
              "driver_age            int64\n",
              "driver_race           int64\n",
              "violation             int64\n",
              "search_type           int64\n",
              "contraband_found      int64\n",
              "stop_outcome          int64\n",
              "search_basis          int64\n",
              "officer_id            int64\n",
              "drugs_related_stop    int64\n",
              "district              int64\n",
              "dtype: object"
            ]
          },
          "metadata": {},
          "execution_count": 15
        }
      ]
    },
    {
      "cell_type": "code",
      "metadata": {
        "id": "2ec43509"
      },
      "source": [
        "# testing with knn this is not a classifier \n",
        "from sklearn.neighbors import KNeighborsClassifier\n",
        "\n",
        "knn = KNeighborsClassifier(n_neighbors=15)\n",
        "knn.fit(X_train, y_train)\n",
        "y_pred = knn.predict(X_test)\n"
      ],
      "id": "2ec43509",
      "execution_count": 16,
      "outputs": []
    },
    {
      "cell_type": "code",
      "metadata": {
        "id": "158ee920",
        "outputId": "82bd7109-a357-4de8-a473-ff5c6239987e",
        "colab": {
          "base_uri": "https://localhost:8080/",
          "height": 312
        }
      },
      "source": [
        "from sklearn.metrics import plot_confusion_matrix\n",
        "# Plot the confusion matrix for the test set for the KNN classifier\n",
        "plt.figure()\n",
        "plot_confusion_matrix(knn, X_test, y_test)\n",
        "plt.title('confusion matrix of KNN for k=15')\n",
        "plt.show()\n"
      ],
      "id": "158ee920",
      "execution_count": 17,
      "outputs": [
        {
          "output_type": "display_data",
          "data": {
            "text/plain": [
              "<Figure size 432x288 with 0 Axes>"
            ]
          },
          "metadata": {}
        },
        {
          "output_type": "display_data",
          "data": {
            "image/png": "[encoded data removed]",
            "text/plain": [
              "<Figure size 432x288 with 2 Axes>"
            ]
          },
          "metadata": {
            "needs_background": "light"
          }
        }
      ]
    },
    {
      "cell_type": "code",
      "metadata": {
        "id": "5c255c58-b9f9-4d08-b4ef-68baed1ed9c1",
        "outputId": "e6d80b96-08db-417e-ff45-139b58dc6b88",
        "colab": {
          "base_uri": "https://localhost:8080/"
        }
      },
      "source": [
        "#first classifier without pca (no need for compression)\n",
        "from sklearn.model_selection import GridSearchCV\n",
        "from sklearn.pipeline import Pipeline\n",
        "from sklearn.preprocessing import StandardScaler\n",
        "from sklearn.decomposition import PCA\n",
        "from sklearn.model_selection import KFold\n",
        "num_splits = 5\n",
        "#kfold = KFold(n_splits=num_splits, random_state=10, shuffle=True)\n",
        "\n",
        "max_comp = X.shape[1]\n",
        "param_grid = { 'n_neighbors':[5,10,15]}\n",
        "\n",
        "#pipeline = Pipeline(steps=[('scaler',StandardScaler()), ('estimator', KNeighborsClassifier())])\n",
        "search = GridSearchCV(KNeighborsClassifier(),param_grid, n_jobs=-1, cv=2, scoring='accuracy', return_train_score=True)\n",
        "search.fit(X_train,y_train)"
      ],
      "id": "5c255c58-b9f9-4d08-b4ef-68baed1ed9c1",
      "execution_count": 18,
      "outputs": [
        {
          "output_type": "execute_result",
          "data": {
            "text/plain": [
              "GridSearchCV(cv=2, estimator=KNeighborsClassifier(), n_jobs=-1,\n",
              "             param_grid={'n_neighbors': [5, 10, 15]}, return_train_score=True,\n",
              "             scoring='accuracy')"
            ]
          },
          "metadata": {},
          "execution_count": 18
        }
      ]
    },
    {
      "cell_type": "code",
      "metadata": {
        "id": "366f21d5-b72f-4949-8fa8-29ac407326b8",
        "outputId": "b7e7930a-7328-47d9-c80e-e8583dbd8491",
        "colab": {
          "base_uri": "https://localhost:8080/"
        }
      },
      "source": [
        "print(\"accuracy\" ,search.best_score_)\n",
        "print(search.best_params_)"
      ],
      "id": "366f21d5-b72f-4949-8fa8-29ac407326b8",
      "execution_count": 19,
      "outputs": [
        {
          "output_type": "stream",
          "text": [
            "accuracy 0.9368968947630214\n",
            "{'n_neighbors': 5}\n"
          ],
          "name": "stdout"
        }
      ]
    },
    {
      "cell_type": "code",
      "metadata": {
        "id": "cf093281"
      },
      "source": [
        "best_estimator = search.best_estimator_\n",
        "y_pred = best_estimator.predict(X_test)\n",
        "\n",
        "from sklearn.metrics import confusion_matrix\n",
        "cm = confusion_matrix(y_test, y_pred)\n",
        "tn, fp, fn, tp = cm.ravel()"
      ],
      "id": "cf093281",
      "execution_count": 20,
      "outputs": []
    },
    {
      "cell_type": "code",
      "metadata": {
        "id": "04fa6dcc-5982-4c45-9af8-2409af381de6",
        "outputId": "dfb9e7a9-d03c-4a54-ce7b-5c560aae6311",
        "colab": {
          "base_uri": "https://localhost:8080/",
          "height": 295
        }
      },
      "source": [
        "# Plot roc knn\n",
        "from sklearn.metrics import roc_curve\n",
        "y_pred_prob = search.best_estimator_.predict_proba(X_test)[:,1]\n",
        "fp, tp, thresholds = roc_curve(y_test, y_pred_prob)\n",
        "fig = plt.figure()\n",
        "ax = fig.add_subplot()\n",
        "ax.plot([0, 1], [0, 1], 'k--',color='blue')\n",
        "ax.plot(fp, tp,label='ROC curve',color='orange')\n",
        "ax.set_xlabel('False Positive Rate')\n",
        "ax.set_ylabel('True Positive Rate')\n",
        "plt.title('ROC Curve')\n",
        "plt.legend(loc=4)\n",
        "plt.show()"
      ],
      "id": "04fa6dcc-5982-4c45-9af8-2409af381de6",
      "execution_count": 21,
      "outputs": [
        {
          "output_type": "display_data",
          "data": {
            "image/png": "[encoded data removed]",
            "text/plain": [
              "<Figure size 432x288 with 1 Axes>"
            ]
          },
          "metadata": {
            "needs_background": "light"
          }
        }
      ]
    },
    {
      "cell_type": "markdown",
      "metadata": {
        "id": "e3fb0941"
      },
      "source": [
        "Metrics functions"
      ],
      "id": "e3fb0941"
    },
    {
      "cell_type": "code",
      "metadata": {
        "id": "f4f322cb"
      },
      "source": [
        "\n",
        "def separation(tn, fp, fn, tp):\n",
        "   \n",
        "    Y_0 = tn / (tn + fn)\n",
        "    Y_1 = tp / (tp + fp)\n",
        "  \n",
        "    return Y_1, Y_0\n",
        "\n",
        "def sufficiency(tn, fp, fn, tp):\n",
        "    R_1 = tp / (tp + fn)\n",
        "    R_0 = fp / (fp + tn)\n",
        "    return R_1, R_0\n",
        "# switched tp and tn \n",
        "def independence (tp,tn,fn,fp ):\n",
        "    return (tp + fp) / (tn + fp + fn + tp)\n",
        "\n"
      ],
      "id": "f4f322cb",
      "execution_count": 22,
      "outputs": []
    },
    {
      "cell_type": "code",
      "metadata": {
        "id": "e12b0965",
        "outputId": "286c0f46-4a79-49fd-af8b-08b74b9c823c",
        "colab": {
          "base_uri": "https://localhost:8080/"
        }
      },
      "source": [
        "sep = separation(tn,fp,fn,tp)\n",
        "suf = sufficiency(tn, fp, fn, tp)\n",
        "ind = independence (tp,tn,fn,fp )"
      ],
      "id": "e12b0965",
      "execution_count": 23,
      "outputs": [
        {
          "output_type": "stream",
          "text": [
            "/usr/local/lib/python3.7/dist-packages/ipykernel_launcher.py:5: RuntimeWarning: invalid value encountered in true_divide\n",
            "  \"\"\"\n"
          ],
          "name": "stderr"
        }
      ]
    },
    {
      "cell_type": "code",
      "metadata": {
        "id": "db60da8a",
        "outputId": "bf5e7578-c673-4760-912f-9d56c5aed858",
        "colab": {
          "base_uri": "https://localhost:8080/"
        }
      },
      "source": [
        "print (sep)\n",
        "print(suf)\n",
        "print(ind)"
      ],
      "id": "db60da8a",
      "execution_count": 24,
      "outputs": [
        {
          "output_type": "stream",
          "text": [
            "(array([       nan, 0.9724877 , 0.94306755, 0.90695257, 0.85803534,\n",
            "       0.77883844, 0.5       ]), 0.9298463748894783)\n",
            "(array([0.        , 0.00036309, 0.00037503, 0.0003817 , 0.0003867 ,\n",
            "       0.00039089, 0.0003937 ]), array([0.00000000e+00, 7.75277885e-07, 1.70879038e-06, 2.95559140e-06,\n",
            "       4.82896770e-06, 8.37770840e-06, 2.97141499e-05]))\n",
            "[0.00000000e+00 2.62017673e-05 2.79080013e-05 2.95351819e-05\n",
            " 3.16281370e-05 3.52220918e-05 5.52577775e-05]\n"
          ],
          "name": "stdout"
        }
      ]
    },
    {
      "cell_type": "code",
      "metadata": {
        "id": "b4ac97a5"
      },
      "source": [
        "from sklearn.linear_model import LinearRegression"
      ],
      "id": "b4ac97a5",
      "execution_count": 25,
      "outputs": []
    },
    {
      "cell_type": "code",
      "metadata": {
        "id": "019a9b06-8011-4af0-b6db-51401c0754ef"
      },
      "source": [
        "#pipeline = Pipeline(steps=[('scaler',StandardScaler()),('pca', PCA()), ('estimator', LinearRegression())])"
      ],
      "id": "019a9b06-8011-4af0-b6db-51401c0754ef",
      "execution_count": 26,
      "outputs": []
    },
    {
      "cell_type": "code",
      "metadata": {
        "id": "7016efc1-4241-4d9b-aac4-2a8587f74e7f",
        "outputId": "6cb3acf1-b163-494f-a040-e068faef9d2d",
        "colab": {
          "base_uri": "https://localhost:8080/"
        }
      },
      "source": [
        "from sklearn.linear_model import LogisticRegression\n",
        "from sklearn import decomposition\n",
        "std_slc = StandardScaler()\n",
        "logistic_Reg = LogisticRegression()\n",
        "pca = decomposition.PCA()\n",
        "pipe = Pipeline(steps=[('std_slc', std_slc),\n",
        "                           ('logistic_Reg', logistic_Reg)])\n",
        "#n_components = list(range(1,X.shape[1]))\n",
        "C = np.logspace(-4, 4, 2)\n",
        "parameters = dict(#pca__n_components=n_components,\n",
        "                  logistic_Reg__C=C)\n",
        "search_lin = GridSearchCV(pipe,parameters, cv=5, scoring='accuracy', return_train_score=True)\n",
        "search_lin.fit(X_train,y_train)\n"
      ],
      "id": "7016efc1-4241-4d9b-aac4-2a8587f74e7f",
      "execution_count": 27,
      "outputs": [
        {
          "output_type": "execute_result",
          "data": {
            "text/plain": [
              "GridSearchCV(cv=5,\n",
              "             estimator=Pipeline(steps=[('std_slc', StandardScaler()),\n",
              "                                       ('logistic_Reg', LogisticRegression())]),\n",
              "             param_grid={'logistic_Reg__C': array([1.e-04, 1.e+04])},\n",
              "             return_train_score=True, scoring='accuracy')"
            ]
          },
          "metadata": {},
          "execution_count": 27
        }
      ]
    },
    {
      "cell_type": "code",
      "metadata": {
        "id": "e6faf153-e924-4f44-b1ba-7b2687ea6a47",
        "outputId": "c2a7a841-f15d-4f49-c2b6-c52dd75ff9ba",
        "colab": {
          "base_uri": "https://localhost:8080/"
        }
      },
      "source": [
        "print(search_lin.best_params_)\n",
        "print(search_lin.best_score_)"
      ],
      "id": "e6faf153-e924-4f44-b1ba-7b2687ea6a47",
      "execution_count": 28,
      "outputs": [
        {
          "output_type": "stream",
          "text": [
            "{'logistic_Reg__C': 10000.0}\n",
            "1.0\n"
          ],
          "name": "stdout"
        }
      ]
    },
    {
      "cell_type": "code",
      "metadata": {
        "id": "1yTD2MZat0Mm",
        "outputId": "ba82c3a0-60ba-4c45-b8a2-657931cdd0d3",
        "colab": {
          "base_uri": "https://localhost:8080/",
          "height": 589
        }
      },
      "source": [
        "#plot the result\n",
        "plt.figure(1, figsize=(4, 3))\n",
        "plt.scatter(X_train,y_train)\n",
        "plt.xlabel(\"Credit Balance\")\n",
        "plt.ylabel(\"Probability of Default\")\n",
        "plt.ylabel('y')\n",
        "plt.xlabel('X')\n",
        "plt.xticks(range(-5, 10))\n",
        "plt.yticks([0, 0.5, 1])\n",
        "plt.ylim(-.25, 1.25)\n",
        "plt.xlim(-4, 10)\n",
        "plt.legend(('Logistic Regression Model', 'Linear Regression Model'),\n",
        "           loc=\"lower right\", fontsize='small')\n",
        "plt.tight_layout()\n",
        "plt.show() "
      ],
      "id": "1yTD2MZat0Mm",
      "execution_count": 69,
      "outputs": [
        {
          "output_type": "error",
          "ename": "ValueError",
          "evalue": "ignored",
          "traceback": [
            "\u001b[0;31m---------------------------------------------------------------------------\u001b[0m",
            "\u001b[0;31mValueError\u001b[0m                                Traceback (most recent call last)",
            "\u001b[0;32m<ipython-input-69-dfa2f2ef5555>\u001b[0m in \u001b[0;36m<module>\u001b[0;34m()\u001b[0m\n\u001b[1;32m      1\u001b[0m \u001b[0;31m#plot the result\u001b[0m\u001b[0;34m\u001b[0m\u001b[0;34m\u001b[0m\u001b[0;34m\u001b[0m\u001b[0m\n\u001b[1;32m      2\u001b[0m \u001b[0mplt\u001b[0m\u001b[0;34m.\u001b[0m\u001b[0mfigure\u001b[0m\u001b[0;34m(\u001b[0m\u001b[0;36m1\u001b[0m\u001b[0;34m,\u001b[0m \u001b[0mfigsize\u001b[0m\u001b[0;34m=\u001b[0m\u001b[0;34m(\u001b[0m\u001b[0;36m4\u001b[0m\u001b[0;34m,\u001b[0m \u001b[0;36m3\u001b[0m\u001b[0;34m)\u001b[0m\u001b[0;34m)\u001b[0m\u001b[0;34m\u001b[0m\u001b[0;34m\u001b[0m\u001b[0m\n\u001b[0;32m----> 3\u001b[0;31m \u001b[0mplt\u001b[0m\u001b[0;34m.\u001b[0m\u001b[0mscatter\u001b[0m\u001b[0;34m(\u001b[0m\u001b[0mX_train\u001b[0m\u001b[0;34m,\u001b[0m\u001b[0my_train\u001b[0m\u001b[0;34m)\u001b[0m\u001b[0;34m\u001b[0m\u001b[0;34m\u001b[0m\u001b[0m\n\u001b[0m\u001b[1;32m      4\u001b[0m \u001b[0mplt\u001b[0m\u001b[0;34m.\u001b[0m\u001b[0mxlabel\u001b[0m\u001b[0;34m(\u001b[0m\u001b[0;34m\"Credit Balance\"\u001b[0m\u001b[0;34m)\u001b[0m\u001b[0;34m\u001b[0m\u001b[0;34m\u001b[0m\u001b[0m\n\u001b[1;32m      5\u001b[0m \u001b[0mplt\u001b[0m\u001b[0;34m.\u001b[0m\u001b[0mylabel\u001b[0m\u001b[0;34m(\u001b[0m\u001b[0;34m\"Probability of Default\"\u001b[0m\u001b[0;34m)\u001b[0m\u001b[0;34m\u001b[0m\u001b[0;34m\u001b[0m\u001b[0m\n",
            "\u001b[0;32m/usr/local/lib/python3.7/dist-packages/matplotlib/pyplot.py\u001b[0m in \u001b[0;36mscatter\u001b[0;34m(x, y, s, c, marker, cmap, norm, vmin, vmax, alpha, linewidths, verts, edgecolors, plotnonfinite, data, **kwargs)\u001b[0m\n\u001b[1;32m   2814\u001b[0m         \u001b[0mverts\u001b[0m\u001b[0;34m=\u001b[0m\u001b[0mverts\u001b[0m\u001b[0;34m,\u001b[0m \u001b[0medgecolors\u001b[0m\u001b[0;34m=\u001b[0m\u001b[0medgecolors\u001b[0m\u001b[0;34m,\u001b[0m\u001b[0;34m\u001b[0m\u001b[0;34m\u001b[0m\u001b[0m\n\u001b[1;32m   2815\u001b[0m         plotnonfinite=plotnonfinite, **({\"data\": data} if data is not\n\u001b[0;32m-> 2816\u001b[0;31m         None else {}), **kwargs)\n\u001b[0m\u001b[1;32m   2817\u001b[0m     \u001b[0msci\u001b[0m\u001b[0;34m(\u001b[0m\u001b[0m__ret\u001b[0m\u001b[0;34m)\u001b[0m\u001b[0;34m\u001b[0m\u001b[0;34m\u001b[0m\u001b[0m\n\u001b[1;32m   2818\u001b[0m     \u001b[0;32mreturn\u001b[0m \u001b[0m__ret\u001b[0m\u001b[0;34m\u001b[0m\u001b[0;34m\u001b[0m\u001b[0m\n",
            "\u001b[0;32m/usr/local/lib/python3.7/dist-packages/matplotlib/__init__.py\u001b[0m in \u001b[0;36minner\u001b[0;34m(ax, data, *args, **kwargs)\u001b[0m\n\u001b[1;32m   1563\u001b[0m     \u001b[0;32mdef\u001b[0m \u001b[0minner\u001b[0m\u001b[0;34m(\u001b[0m\u001b[0max\u001b[0m\u001b[0;34m,\u001b[0m \u001b[0;34m*\u001b[0m\u001b[0margs\u001b[0m\u001b[0;34m,\u001b[0m \u001b[0mdata\u001b[0m\u001b[0;34m=\u001b[0m\u001b[0;32mNone\u001b[0m\u001b[0;34m,\u001b[0m \u001b[0;34m**\u001b[0m\u001b[0mkwargs\u001b[0m\u001b[0;34m)\u001b[0m\u001b[0;34m:\u001b[0m\u001b[0;34m\u001b[0m\u001b[0;34m\u001b[0m\u001b[0m\n\u001b[1;32m   1564\u001b[0m         \u001b[0;32mif\u001b[0m \u001b[0mdata\u001b[0m \u001b[0;32mis\u001b[0m \u001b[0;32mNone\u001b[0m\u001b[0;34m:\u001b[0m\u001b[0;34m\u001b[0m\u001b[0;34m\u001b[0m\u001b[0m\n\u001b[0;32m-> 1565\u001b[0;31m             \u001b[0;32mreturn\u001b[0m \u001b[0mfunc\u001b[0m\u001b[0;34m(\u001b[0m\u001b[0max\u001b[0m\u001b[0;34m,\u001b[0m \u001b[0;34m*\u001b[0m\u001b[0mmap\u001b[0m\u001b[0;34m(\u001b[0m\u001b[0msanitize_sequence\u001b[0m\u001b[0;34m,\u001b[0m \u001b[0margs\u001b[0m\u001b[0;34m)\u001b[0m\u001b[0;34m,\u001b[0m \u001b[0;34m**\u001b[0m\u001b[0mkwargs\u001b[0m\u001b[0;34m)\u001b[0m\u001b[0;34m\u001b[0m\u001b[0;34m\u001b[0m\u001b[0m\n\u001b[0m\u001b[1;32m   1566\u001b[0m \u001b[0;34m\u001b[0m\u001b[0m\n\u001b[1;32m   1567\u001b[0m         \u001b[0mbound\u001b[0m \u001b[0;34m=\u001b[0m \u001b[0mnew_sig\u001b[0m\u001b[0;34m.\u001b[0m\u001b[0mbind\u001b[0m\u001b[0;34m(\u001b[0m\u001b[0max\u001b[0m\u001b[0;34m,\u001b[0m \u001b[0;34m*\u001b[0m\u001b[0margs\u001b[0m\u001b[0;34m,\u001b[0m \u001b[0;34m**\u001b[0m\u001b[0mkwargs\u001b[0m\u001b[0;34m)\u001b[0m\u001b[0;34m\u001b[0m\u001b[0;34m\u001b[0m\u001b[0m\n",
            "\u001b[0;32m/usr/local/lib/python3.7/dist-packages/matplotlib/cbook/deprecation.py\u001b[0m in \u001b[0;36mwrapper\u001b[0;34m(*args, **kwargs)\u001b[0m\n\u001b[1;32m    356\u001b[0m                 \u001b[0;34mf\"%(removal)s.  If any parameter follows {name!r}, they \"\u001b[0m\u001b[0;34m\u001b[0m\u001b[0;34m\u001b[0m\u001b[0m\n\u001b[1;32m    357\u001b[0m                 f\"should be pass as keyword, not positionally.\")\n\u001b[0;32m--> 358\u001b[0;31m         \u001b[0;32mreturn\u001b[0m \u001b[0mfunc\u001b[0m\u001b[0;34m(\u001b[0m\u001b[0;34m*\u001b[0m\u001b[0margs\u001b[0m\u001b[0;34m,\u001b[0m \u001b[0;34m**\u001b[0m\u001b[0mkwargs\u001b[0m\u001b[0;34m)\u001b[0m\u001b[0;34m\u001b[0m\u001b[0;34m\u001b[0m\u001b[0m\n\u001b[0m\u001b[1;32m    359\u001b[0m \u001b[0;34m\u001b[0m\u001b[0m\n\u001b[1;32m    360\u001b[0m     \u001b[0;32mreturn\u001b[0m \u001b[0mwrapper\u001b[0m\u001b[0;34m\u001b[0m\u001b[0;34m\u001b[0m\u001b[0m\n",
            "\u001b[0;32m/usr/local/lib/python3.7/dist-packages/matplotlib/axes/_axes.py\u001b[0m in \u001b[0;36mscatter\u001b[0;34m(self, x, y, s, c, marker, cmap, norm, vmin, vmax, alpha, linewidths, verts, edgecolors, plotnonfinite, **kwargs)\u001b[0m\n\u001b[1;32m   4389\u001b[0m         \u001b[0my\u001b[0m \u001b[0;34m=\u001b[0m \u001b[0mnp\u001b[0m\u001b[0;34m.\u001b[0m\u001b[0mma\u001b[0m\u001b[0;34m.\u001b[0m\u001b[0mravel\u001b[0m\u001b[0;34m(\u001b[0m\u001b[0my\u001b[0m\u001b[0;34m)\u001b[0m\u001b[0;34m\u001b[0m\u001b[0;34m\u001b[0m\u001b[0m\n\u001b[1;32m   4390\u001b[0m         \u001b[0;32mif\u001b[0m \u001b[0mx\u001b[0m\u001b[0;34m.\u001b[0m\u001b[0msize\u001b[0m \u001b[0;34m!=\u001b[0m \u001b[0my\u001b[0m\u001b[0;34m.\u001b[0m\u001b[0msize\u001b[0m\u001b[0;34m:\u001b[0m\u001b[0;34m\u001b[0m\u001b[0;34m\u001b[0m\u001b[0m\n\u001b[0;32m-> 4391\u001b[0;31m             \u001b[0;32mraise\u001b[0m \u001b[0mValueError\u001b[0m\u001b[0;34m(\u001b[0m\u001b[0;34m\"x and y must be the same size\"\u001b[0m\u001b[0;34m)\u001b[0m\u001b[0;34m\u001b[0m\u001b[0;34m\u001b[0m\u001b[0m\n\u001b[0m\u001b[1;32m   4392\u001b[0m \u001b[0;34m\u001b[0m\u001b[0m\n\u001b[1;32m   4393\u001b[0m         \u001b[0;32mif\u001b[0m \u001b[0ms\u001b[0m \u001b[0;32mis\u001b[0m \u001b[0;32mNone\u001b[0m\u001b[0;34m:\u001b[0m\u001b[0;34m\u001b[0m\u001b[0;34m\u001b[0m\u001b[0m\n",
            "\u001b[0;31mValueError\u001b[0m: x and y must be the same size"
          ]
        },
        {
          "output_type": "display_data",
          "data": {
            "image/png": "[encoded data removed]",
            "text/plain": [
              "<Figure size 288x216 with 1 Axes>"
            ]
          },
          "metadata": {
            "needs_background": "light"
          }
        }
      ]
    },
    {
      "cell_type": "code",
      "metadata": {
        "id": "2bd0ec60-db3e-491f-805c-0986edd1d313"
      },
      "source": [
        "best_estimator = search.best_estimator_\n",
        "y_pred_lin = search_lin.best_estimator_.predict(X_test)"
      ],
      "id": "2bd0ec60-db3e-491f-805c-0986edd1d313",
      "execution_count": 29,
      "outputs": []
    },
    {
      "cell_type": "code",
      "metadata": {
        "id": "12a87f13-1566-4f3c-988f-347bc4af246b",
        "outputId": "059386b6-2130-4a1f-a7dd-f9e55d1d62be",
        "colab": {
          "base_uri": "https://localhost:8080/",
          "height": 313
        }
      },
      "source": [
        "cm = confusion_matrix(y_test, y_pred_lin)\n",
        "tn, fp, fn, tp = cm.ravel()\n",
        "plot_confusion_matrix(search_lin, X_test, y_test)  \n",
        "print(cm)"
      ],
      "id": "12a87f13-1566-4f3c-988f-347bc4af246b",
      "execution_count": 30,
      "outputs": [
        {
          "output_type": "stream",
          "text": [
            "[[37370     0]\n",
            " [    0 83257]]\n"
          ],
          "name": "stdout"
        },
        {
          "output_type": "display_data",
          "data": {
            "image/png": "[encoded data removed]",
            "text/plain": [
              "<Figure size 432x288 with 2 Axes>"
            ]
          },
          "metadata": {
            "needs_background": "light"
          }
        }
      ]
    },
    {
      "cell_type": "code",
      "metadata": {
        "id": "4cdee71d-f887-4aa0-a688-4636a51f1651",
        "outputId": "e61a7360-3e8a-4499-bbe5-51d4e50d84ac",
        "colab": {
          "base_uri": "https://localhost:8080/",
          "height": 295
        }
      },
      "source": [
        "# Plot\n",
        "from sklearn.metrics import roc_curve\n",
        "y_pred_prob = search_lin.best_estimator_.predict_proba(X_test)[:,1]\n",
        "fp, tp, thresholds = roc_curve(y_test, y_pred_prob)\n",
        "fig = plt.figure()\n",
        "ax = fig.add_subplot()\n",
        "ax.plot([0, 1], [0, 1], 'k--',color='blue')\n",
        "ax.plot(fp, tp,label='ROC curve',color='orange')\n",
        "ax.set_xlabel('False Positive Rate')\n",
        "ax.set_ylabel('True Positive Rate')\n",
        "plt.title('ROC Curve')\n",
        "plt.legend(loc=4)\n",
        "plt.show()"
      ],
      "id": "4cdee71d-f887-4aa0-a688-4636a51f1651",
      "execution_count": 31,
      "outputs": [
        {
          "output_type": "display_data",
          "data": {
            "image/png": "[encoded data removed]",
            "text/plain": [
              "<Figure size 432x288 with 1 Axes>"
            ]
          },
          "metadata": {
            "needs_background": "light"
          }
        }
      ]
    },
    {
      "cell_type": "code",
      "metadata": {
        "id": "c1411e73-5a87-45b4-996d-4759b05c4513",
        "outputId": "c64e9447-c450-4bf6-e580-335bb7d1a47b",
        "colab": {
          "base_uri": "https://localhost:8080/"
        }
      },
      "source": [
        "from sklearn.dummy import DummyClassifier\n",
        "s ='most_frequent'\n",
        "\n",
        "test_scores = []\n",
        "dclf = DummyClassifier(strategy = s, random_state = 0)\n",
        "dclf.fit(X_train, y_train)\n",
        "score = dclf.score(X_test, y_test)\n",
        "test_scores.append(score)\n",
        "print (test_scores)"
      ],
      "id": "c1411e73-5a87-45b4-996d-4759b05c4513",
      "execution_count": 32,
      "outputs": [
        {
          "output_type": "stream",
          "text": [
            "[0.6902020277384002]\n"
          ],
          "name": "stdout"
        }
      ]
    },
    {
      "cell_type": "code",
      "metadata": {
        "id": "33ade10b-2728-427f-a2a8-59f11fa3e34b",
        "outputId": "313efe20-6b08-4a77-fdc3-1570782efaa1",
        "colab": {
          "base_uri": "https://localhost:8080/"
        }
      },
      "source": [
        "df.loc[df['stop_outcome']==0,'stop_outcome'].count() # to check for the corecctness of the dummy classifier"
      ],
      "id": "33ade10b-2728-427f-a2a8-59f11fa3e34b",
      "execution_count": 33,
      "outputs": [
        {
          "output_type": "execute_result",
          "data": {
            "text/plain": [
              "123814"
            ]
          },
          "metadata": {},
          "execution_count": 33
        }
      ]
    },
    {
      "cell_type": "code",
      "metadata": {
        "id": "c9b35131-93e6-40c8-a69f-3b47061497d3"
      },
      "source": [
        "# calculate it manually "
      ],
      "id": "c9b35131-93e6-40c8-a69f-3b47061497d3",
      "execution_count": 34,
      "outputs": []
    },
    {
      "cell_type": "code",
      "metadata": {
        "id": "e1a9e77a-9d4b-4399-98bf-26fc6a4ff0bc"
      },
      "source": [
        "X_train_fair = X_train.drop('driver_race',axis=1)\n",
        "X_test_fair = X_test.drop('driver_race', axis=1)"
      ],
      "id": "e1a9e77a-9d4b-4399-98bf-26fc6a4ff0bc",
      "execution_count": 35,
      "outputs": []
    },
    {
      "cell_type": "code",
      "metadata": {
        "id": "fd3df243-479a-48fa-85ff-04c9cf41db87",
        "outputId": "e79dd255-d27d-4c38-a719-d791aaae3b6d",
        "colab": {
          "base_uri": "https://localhost:8080/",
          "height": 204
        }
      },
      "source": [
        "X_train_fair.head()\n"
      ],
      "id": "fd3df243-479a-48fa-85ff-04c9cf41db87",
      "execution_count": 36,
      "outputs": [
        {
          "output_type": "execute_result",
          "data": {
            "text/html": [
              "<div>\n",
              "<style scoped>\n",
              "    .dataframe tbody tr th:only-of-type {\n",
              "        vertical-align: middle;\n",
              "    }\n",
              "\n",
              "    .dataframe tbody tr th {\n",
              "        vertical-align: top;\n",
              "    }\n",
              "\n",
              "    .dataframe thead th {\n",
              "        text-align: right;\n",
              "    }\n",
              "</style>\n",
              "<table border=\"1\" class=\"dataframe\">\n",
              "  <thead>\n",
              "    <tr style=\"text-align: right;\">\n",
              "      <th></th>\n",
              "      <th>driver_gender</th>\n",
              "      <th>driver_age</th>\n",
              "      <th>violation</th>\n",
              "      <th>search_type</th>\n",
              "      <th>contraband_found</th>\n",
              "      <th>stop_outcome</th>\n",
              "      <th>search_basis</th>\n",
              "      <th>officer_id</th>\n",
              "      <th>drugs_related_stop</th>\n",
              "      <th>district</th>\n",
              "    </tr>\n",
              "  </thead>\n",
              "  <tbody>\n",
              "    <tr>\n",
              "      <th>126852</th>\n",
              "      <td>1</td>\n",
              "      <td>39</td>\n",
              "      <td>2</td>\n",
              "      <td>2</td>\n",
              "      <td>0</td>\n",
              "      <td>1</td>\n",
              "      <td>18</td>\n",
              "      <td>2224</td>\n",
              "      <td>1</td>\n",
              "      <td>55</td>\n",
              "    </tr>\n",
              "    <tr>\n",
              "      <th>393530</th>\n",
              "      <td>1</td>\n",
              "      <td>42</td>\n",
              "      <td>2</td>\n",
              "      <td>2</td>\n",
              "      <td>0</td>\n",
              "      <td>1</td>\n",
              "      <td>18</td>\n",
              "      <td>1942</td>\n",
              "      <td>1</td>\n",
              "      <td>31</td>\n",
              "    </tr>\n",
              "    <tr>\n",
              "      <th>254797</th>\n",
              "      <td>1</td>\n",
              "      <td>27</td>\n",
              "      <td>2</td>\n",
              "      <td>2</td>\n",
              "      <td>0</td>\n",
              "      <td>1</td>\n",
              "      <td>18</td>\n",
              "      <td>1496</td>\n",
              "      <td>1</td>\n",
              "      <td>56</td>\n",
              "    </tr>\n",
              "    <tr>\n",
              "      <th>271179</th>\n",
              "      <td>1</td>\n",
              "      <td>50</td>\n",
              "      <td>2</td>\n",
              "      <td>2</td>\n",
              "      <td>0</td>\n",
              "      <td>1</td>\n",
              "      <td>18</td>\n",
              "      <td>239</td>\n",
              "      <td>1</td>\n",
              "      <td>9</td>\n",
              "    </tr>\n",
              "    <tr>\n",
              "      <th>272000</th>\n",
              "      <td>1</td>\n",
              "      <td>42</td>\n",
              "      <td>2</td>\n",
              "      <td>2</td>\n",
              "      <td>0</td>\n",
              "      <td>1</td>\n",
              "      <td>18</td>\n",
              "      <td>1836</td>\n",
              "      <td>1</td>\n",
              "      <td>40</td>\n",
              "    </tr>\n",
              "  </tbody>\n",
              "</table>\n",
              "</div>"
            ],
            "text/plain": [
              "        driver_gender  driver_age  ...  drugs_related_stop  district\n",
              "126852              1          39  ...                   1        55\n",
              "393530              1          42  ...                   1        31\n",
              "254797              1          27  ...                   1        56\n",
              "271179              1          50  ...                   1         9\n",
              "272000              1          42  ...                   1        40\n",
              "\n",
              "[5 rows x 10 columns]"
            ]
          },
          "metadata": {},
          "execution_count": 36
        }
      ]
    },
    {
      "cell_type": "code",
      "metadata": {
        "id": "15233acb-9f3f-42af-a74a-0cad2366e194",
        "outputId": "dcb139f8-561d-4be3-925f-22d44231de8e",
        "colab": {
          "base_uri": "https://localhost:8080/"
        }
      },
      "source": [
        "search.fit(X_train_fair,y_train)"
      ],
      "id": "15233acb-9f3f-42af-a74a-0cad2366e194",
      "execution_count": 37,
      "outputs": [
        {
          "output_type": "execute_result",
          "data": {
            "text/plain": [
              "GridSearchCV(cv=2, estimator=KNeighborsClassifier(), n_jobs=-1,\n",
              "             param_grid={'n_neighbors': [5, 10, 15]}, return_train_score=True,\n",
              "             scoring='accuracy')"
            ]
          },
          "metadata": {},
          "execution_count": 37
        }
      ]
    },
    {
      "cell_type": "code",
      "metadata": {
        "id": "bb5ba18d-4493-4327-a896-1b795363f29f"
      },
      "source": [
        "y_pred_fair = search.best_estimator_.predict(X_test_fair)"
      ],
      "id": "bb5ba18d-4493-4327-a896-1b795363f29f",
      "execution_count": 38,
      "outputs": []
    },
    {
      "cell_type": "code",
      "metadata": {
        "id": "d9105396-f4cc-4aaa-a698-e7e0321d6635",
        "outputId": "958922c4-68f0-434a-d508-c33701e5653f",
        "colab": {
          "base_uri": "https://localhost:8080/",
          "height": 298
        }
      },
      "source": [
        "cm = confusion_matrix(y_test, y_pred_fair)\n",
        "tn, fp, fn, tp = cm.ravel()\n",
        "plot_confusion_matrix(search, X_test_fair, y_test) "
      ],
      "id": "d9105396-f4cc-4aaa-a698-e7e0321d6635",
      "execution_count": 39,
      "outputs": [
        {
          "output_type": "execute_result",
          "data": {
            "text/plain": [
              "<sklearn.metrics._plot.confusion_matrix.ConfusionMatrixDisplay at 0x7f51eb334250>"
            ]
          },
          "metadata": {},
          "execution_count": 39
        },
        {
          "output_type": "display_data",
          "data": {
            "image/png": "[encoded data removed]",
            "text/plain": [
              "<Figure size 432x288 with 2 Axes>"
            ]
          },
          "metadata": {
            "needs_background": "light"
          }
        }
      ]
    },
    {
      "cell_type": "code",
      "metadata": {
        "id": "84f838c2-b847-4971-ac58-c2d34d6cc6a9",
        "outputId": "eb0e218f-853b-4da0-81b8-e877511b8c60",
        "colab": {
          "base_uri": "https://localhost:8080/"
        }
      },
      "source": [
        "print(search.best_score_)"
      ],
      "id": "84f838c2-b847-4971-ac58-c2d34d6cc6a9",
      "execution_count": 40,
      "outputs": [
        {
          "output_type": "stream",
          "text": [
            "0.9385383358203653\n"
          ],
          "name": "stdout"
        }
      ]
    },
    {
      "cell_type": "code",
      "metadata": {
        "tags": [],
        "id": "21bcf71b-3a0c-4966-84a9-47daf7c174d8"
      },
      "source": [
        "X_train_fair = X_train.drop(columns=['driver_race','driver_gender','officer_id'],axis=1)\n",
        "X_test_fair = X_test.drop(columns=['driver_race','driver_gender','officer_id'], axis=1)"
      ],
      "id": "21bcf71b-3a0c-4966-84a9-47daf7c174d8",
      "execution_count": 41,
      "outputs": []
    },
    {
      "cell_type": "code",
      "metadata": {
        "id": "2681c3f7-9971-4e2f-8d96-dea4dbf16fff",
        "outputId": "403f4fa2-3c27-4617-acdc-26f6852177bd",
        "colab": {
          "base_uri": "https://localhost:8080/"
        }
      },
      "source": [
        "search.fit(X_train_fair,y_train)"
      ],
      "id": "2681c3f7-9971-4e2f-8d96-dea4dbf16fff",
      "execution_count": 42,
      "outputs": [
        {
          "output_type": "execute_result",
          "data": {
            "text/plain": [
              "GridSearchCV(cv=2, estimator=KNeighborsClassifier(), n_jobs=-1,\n",
              "             param_grid={'n_neighbors': [5, 10, 15]}, return_train_score=True,\n",
              "             scoring='accuracy')"
            ]
          },
          "metadata": {},
          "execution_count": 42
        }
      ]
    },
    {
      "cell_type": "code",
      "metadata": {
        "id": "f3538c82-c171-4038-8f39-31f0d8584bfa"
      },
      "source": [
        "y_pred_fair = search.best_estimator_.predict(X_test_fair)"
      ],
      "id": "f3538c82-c171-4038-8f39-31f0d8584bfa",
      "execution_count": 43,
      "outputs": []
    },
    {
      "cell_type": "code",
      "metadata": {
        "id": "b17fb086-26bf-4270-8587-ee9a8a52bf56",
        "outputId": "f542dccf-2fd6-4ee2-bfd8-7ce0e9317fbc",
        "colab": {
          "base_uri": "https://localhost:8080/",
          "height": 296
        }
      },
      "source": [
        "cm = confusion_matrix(y_test, y_pred_fair)\n",
        "tn_, fp_, fn_, tp_ = cm.ravel()\n",
        "plot_confusion_matrix(search, X_test_fair, y_test) "
      ],
      "id": "b17fb086-26bf-4270-8587-ee9a8a52bf56",
      "execution_count": 44,
      "outputs": [
        {
          "output_type": "execute_result",
          "data": {
            "text/plain": [
              "<sklearn.metrics._plot.confusion_matrix.ConfusionMatrixDisplay at 0x7f51eb2c1750>"
            ]
          },
          "metadata": {},
          "execution_count": 44
        },
        {
          "output_type": "display_data",
          "data": {
            "image/png": "[encoded data removed]",
            "text/plain": [
              "<Figure size 432x288 with 2 Axes>"
            ]
          },
          "metadata": {
            "needs_background": "light"
          }
        }
      ]
    },
    {
      "cell_type": "code",
      "metadata": {
        "id": "73ab1484-a241-4d47-b27a-99875ee2408b",
        "outputId": "ab23d293-c264-4cb2-80ab-73bf1c064544",
        "colab": {
          "base_uri": "https://localhost:8080/"
        }
      },
      "source": [
        "print(search.best_score_)"
      ],
      "id": "73ab1484-a241-4d47-b27a-99875ee2408b",
      "execution_count": 45,
      "outputs": [
        {
          "output_type": "stream",
          "text": [
            "0.9803204718254814\n"
          ],
          "name": "stdout"
        }
      ]
    },
    {
      "cell_type": "code",
      "metadata": {
        "id": "8c8295a0-ceae-413e-8bc7-e5554676dbc1"
      },
      "source": [
        "sep_ = separation(tn_,fp_,fn_,tp_)\n",
        "suf_ = sufficiency(tn_, fp_, fn_, tp_)\n",
        "ind_ = independence (tp_,tn_,fn_,fp_ )"
      ],
      "id": "8c8295a0-ceae-413e-8bc7-e5554676dbc1",
      "execution_count": 46,
      "outputs": []
    },
    {
      "cell_type": "code",
      "metadata": {
        "id": "e92af98e-a3fb-4da4-9d39-9be42940d254",
        "outputId": "dd6a929a-571c-43ed-84f1-094ac254da0b",
        "colab": {
          "base_uri": "https://localhost:8080/"
        }
      },
      "source": [
        "print (sep_)\n",
        "print(suf_)\n",
        "print(ind_)"
      ],
      "id": "e92af98e-a3fb-4da4-9d39-9be42940d254",
      "execution_count": 47,
      "outputs": [
        {
          "output_type": "stream",
          "text": [
            "(0.9892872942048566, 0.9861036011679464)\n",
            "(0.9938263449319577, 0.023976451699223977)\n",
            "0.6933688146103277\n"
          ],
          "name": "stdout"
        }
      ]
    },
    {
      "cell_type": "code",
      "metadata": {
        "id": "1e23a97a-bf91-43b2-9b0a-a3f66c82b93f"
      },
      "source": [
        ""
      ],
      "id": "1e23a97a-bf91-43b2-9b0a-a3f66c82b93f",
      "execution_count": 47,
      "outputs": []
    }
  ]
}